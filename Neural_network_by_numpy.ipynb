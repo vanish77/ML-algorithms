{
 "cells": [
  {
   "cell_type": "markdown",
   "metadata": {},
   "source": [
    "# `Практикум по программированию на языке Python`\n",
    "\n",
    "## `Задание 01. Полносвязная нейронная сеть на numpy`.\n",
    "\n",
    "#### Фамилия, имя: \n",
    "\n",
    "Дата выдачи: <span style=\"color:red\">__28 февраля 17:00__</span>.\n",
    "\n",
    "Мягкий дедлайн: <span style=\"color:red\">__14 марта 23:59__</span>.\n",
    "\n",
    "Стоимость: __10 баллов__ (основная часть заданий) + __3 балла__ (дополнительные задания).\n",
    "\n",
    "<span style=\"color:red\">__В ноутбуке все клетки должны выполняться без ошибок при последовательном их выполнении.__</span>\n",
    "\n",
    "#### `Москва, 2023`"
   ]
  },
  {
   "cell_type": "code",
   "execution_count": 21,
   "metadata": {
    "ExecuteTime": {
     "end_time": "2021-03-03T14:44:48.909044Z",
     "start_time": "2021-03-03T14:44:48.683650Z"
    }
   },
   "outputs": [],
   "source": [
    "import numpy as np"
   ]
  },
  {
   "cell_type": "markdown",
   "metadata": {
    "heading_collapsed": true
   },
   "source": [
    "## `Теоретическая часть (3 балла)`"
   ]
  },
  {
   "cell_type": "markdown",
   "metadata": {
    "hidden": true
   },
   "source": [
    "В этом блоке вам нужно решить 3 задания."
   ]
  },
  {
   "cell_type": "markdown",
   "metadata": {
    "heading_collapsed": true,
    "hidden": true
   },
   "source": [
    "### `Задание 1. Градиенты для слоя Batch normalization (1.5 балла)`"
   ]
  },
  {
   "cell_type": "markdown",
   "metadata": {
    "hidden": true
   },
   "source": [
    "Рассмотрим слой Batch normalization. Пусть на вход этого слоя был подан батч из $n$ объектов, при этом у всех объектов по 1 признаку. Представим вход BN слоя в виде $X \\in \\mathbb{R}^{n \\times 1}$.\n",
    "\n",
    "Тогда в этом слое производятся следующие вычисления:\n",
    "\n",
    "$$ \\mu = \\frac1n \\sum_{i=1}^{n} X_i $$\n",
    "\n",
    "$$ \\sigma^2 = \\frac1n \\sum_{i=1}^{n} \\left( X_i - \\mu \\right) ^2 $$\n",
    "\n",
    "$$ \\tilde{y_i} = \\frac{X_i - \\mu}{\\sqrt{\\sigma^2 + \\varepsilon}} $$\n",
    "\n",
    "$$ y_i = \\gamma \\tilde{y_i} + \\delta $$\n",
    "\n",
    "Выходом BN слоя является $y_i$, а $\\gamma$ и $\\delta$ в нем — параметры, которые подбираются во время обучения вместе с другими параметрами нейронной сети (наряду, например, с весами линейного слоя).\n",
    "\n",
    "Рассмотрим нейронную сеть, в которой есть BN слой. Предположим, что вычисления в нейронной завершаются подсчетом функции потерь $\\mathcal{L}$. Пусть мы выполнили прямой проход по нейронной сети и сейчас делаем обратный проход с помощью метода обратного распространения ошибки. Пусть BN слою пришел градиент функции потерь по выходу BN слоя ($\\nabla_{y} \\mathcal{L}$).\n",
    "\n",
    "В этом задании вам нужно записать вычисление градиента функции потерь по параметрам слоя BN $\\gamma$ и $\\delta$ ($\\nabla_{\\gamma} \\mathcal{L}$, $\\nabla_{\\delta} \\mathcal{L}$) через $\\nabla_{y} \\mathcal{L}$, а также вам нужно записать вычисление градиента функции потерь по входу слоя BN $X$ ($\\nabla_{X} \\mathcal{L}$) через $\\nabla_{y} \\mathcal{L}$.\n",
    "\n",
    "Хочу заметить, в данном задании мы рассматриваем объекты всего с 1 признаком, чтобы упростить выкладки."
   ]
  },
  {
   "attachments": {},
   "cell_type": "markdown",
   "metadata": {
    "hidden": true
   },
   "source": [
    "__Ваше решение:__\n",
    "\n",
    "$$ \\frac{\\partial \\mathcal{L}}{\\partial \\tilde{y_i}} = \\frac{\\partial \\mathcal{L}}{\\partial y_i} \\frac{\\partial y_i}{\\partial \\tilde{y_i}} = \\frac{\\partial \\mathcal{L}}{\\partial y_i} * \\gamma$$\n",
    "\n",
    "$$ \\frac{\\partial \\mathcal{L}}{\\partial \\sigma^2} = \\frac{\\partial \\mathcal{L}}{\\partial \\tilde{y_i}} \\frac{\\partial \\tilde{y_i}}{\\partial \\sigma^2} = \\sum_{i=1}^{N} \\frac{\\partial \\mathcal{L}}{\\partial \\tilde{y_i}} (x_i - \\mu) (-\\frac{1}{2}) (\\sigma^2 + \\varepsilon)^{-\\frac{3}{2}} $$\n",
    "\n",
    "$$ \\frac{\\partial \\mathcal{L}}{\\partial \\mu} = \\frac{\\partial \\mathcal{L}}{\\partial \\tilde{y_i}} \\frac{\\partial \\tilde{y_i}}{\\partial \\mu} +  \\frac{\\partial \\mathcal{L}}{\\partial \\sigma^2} \\frac{\\partial \\sigma^2}{\\partial \\mu} = \\sum_{i=1}^{N}\\frac{\\partial \\mathcal{L}}{\\partial \\tilde{y_i}} \\frac{-1}{\\sqrt{\\sigma^2 + \\varepsilon}} + \\frac{\\partial \\mathcal{L}}{\\partial \\sigma^2} \\frac{\\sum_{i=1}^{N}-2(x_i - \\mu)}{N}$$\n",
    "\n",
    "$$ \\frac{\\partial \\mathcal{L}}{\\partial x_i} = \\frac{\\partial \\mathcal{L}}{\\partial \\tilde{y_i}} \\frac{\\partial \\tilde{y_i}}{\\partial x_i} + \\frac{\\partial \\mathcal{L}}{\\partial \\sigma^2} \\frac{\\partial \\sigma^2}{\\partial x_i} + \\frac{\\partial \\mathcal{L}}{\\partial \\mu} \\frac{\\partial \\mu}{\\partial x_i} = \\frac{\\partial \\mathcal{L}}{\\partial \\tilde{y_i}} \\frac{1}{\\sqrt{\\sigma^2 + \\varepsilon}} + \\frac{\\partial \\mathcal{L}}{\\partial \\sigma^2} \\frac{2(x_i - \\mu)}{N} + \\frac{\\partial \\mathcal{L}}{\\partial \\mu} \\frac{1}{N}$$\n",
    "\n",
    "$$ \\frac{\\partial \\mathcal{L}}{\\partial \\gamma} = \\sum_{i=1}^{N} \\frac{\\partial \\mathcal{L}}{\\partial y_i} \\frac{\\partial y_i}{\\partial \\gamma} = \\sum_{i=1}^{N} \\frac{\\partial \\mathcal{L}}{\\partial y_i} \\tilde{y_i} $$\n",
    "\n",
    "$$ \\frac{\\partial \\mathcal{L}}{\\partial \\delta} = \\sum_{i=1}^{N} \\frac{\\partial \\mathcal{L}}{\\partial y_i} \\frac{\\partial y_i}{\\partial \\delta} = \\sum_{i=1}^{N} \\frac{\\partial \\mathcal{L}}{\\partial y_i}  1 = \\sum_{i=1}^{N} \\frac{\\partial \\mathcal{L}}{\\partial y_i}$$"
   ]
  },
  {
   "cell_type": "markdown",
   "metadata": {
    "heading_collapsed": true,
    "hidden": true
   },
   "source": [
    "### `Задание 2. Вывод инициализации весов линейного слоя при использовании ReLU в качестве функции активации (1 балл)`"
   ]
  },
  {
   "cell_type": "markdown",
   "metadata": {
    "hidden": true
   },
   "source": [
    "Рассмотрим полносвязную нейронную сеть с функцией активации $g(y)$. Пусть сеть состоит из $L$ слоев и размер входа слоя $l$ равен $n_l\\ \\ (l = \\overline{1, L})$.\n",
    "\n",
    "Обозначим за $x^l \\in \\mathbb{R}^{n_{l}}$ вход слоя $l$, за $y^l \\in \\mathbb{R}^{n_{l+1}}$ — выход слоя $l$, за $W^l \\in \\mathbb{R}^{n_{l+1} \\times n_{l}}$ — веса слоя $l$, за $b^l \\in \\mathbb{R}^{n_{l+1}}$ — вектор сдвига слоя $l$.\n",
    "\n",
    "Тогда\n",
    "$$y^l = W^l x^l + b^l,$$\n",
    "$$x^{l+1} = g(y^l).$$\n",
    "\n",
    "На паре вы выводили хорошую инициализацию для линейного слоя в случае, когда в качестве функции активации $g(y)$ в нейронной сети используется гиперболический тангенс $g(y) = \\tanh(y)$. Сейчас вам нужно сделать подобный вывод для случая, когда в сети в качестве функций активации используется $g(y) = ReLU(y) = \\max(0, y)$.\n",
    "\n",
    "Сделаем следующие предположения насчет того, как распределены веса $W^l$, вектор сдвига $b^l$, входной вектор $x^l$, выходной вектор $y^l$ линейного слоя и градиенты функции потерь $\\frac{\\partial L}{\\partial y^{l}}$ $(l = \\overline{1, L}$):\n",
    "\n",
    "1. Все компоненты в $W^l$ распределены одинаково и независимо друг от друга;\n",
    "2. Все компоненты в $y^l$ распределены одинаково и независимо друг от друга;\n",
    "3. Все компоненты в $x^l$ распределены одинаково и независимо друг от друга;\n",
    "4. Все компоненты в $\\frac{\\partial L}{\\partial y^{l}}$ распределены одинаково и независимо друг от друга;\n",
    "5. Все компоненты в $W^l$ и все компоненты в $x^l$ независимы друг от друга;\n",
    "6. Все компоненты в $W^l$ имеют четную плотность распределения (то есть симметричную относительно нуля: $p_{W^l}(-x) = p_{W^l}(x)$);\n",
    "7. Все компоненты в $W^l$ имеют конечное матожидание;\n",
    "8. Вектор $b^l$ инициализирован нулями.\n",
    "\n",
    "\n",
    "Подсказки:\n",
    "1. Из пунктов 6 и 7 следует, что все компоненты в $W^l$ имеют нулевое среднее ($\\mathbb{E} W^l_{ij} = 0\\ \\ \\forall i = \\overline{1, n_{l+1}}, j = \\overline{1, n_{l}}$) (докажите);\n",
    "2. Из пунктов 6 и 7 следует, что все компоненты в $y^l$ имеют нулевое среднее и четную плотность распределения (докажите)."
   ]
  },
  {
   "attachments": {},
   "cell_type": "markdown",
   "metadata": {
    "hidden": true
   },
   "source": [
    "__Ваше решение:__\n",
    "\n",
    "1. (1 подсказка) $ \\mathbb{E} W^l_{ij} = \\int_{-\\infty}^{+\\infty} x p(x) \\,dx = ${ввиду чётной плотности распределения}$ = \\int_{0}^{+\\infty} x p(x) \\,dx - \\int_{0}^{+\\infty} x p(x) \\,dx = 0 $\n",
    "\n",
    "2. (2 подсказка) a) $ \\mathbb{E} y^l = \\sum_{i=1}^{N} \\sum_{j=1}^{N} \\mathbb{E}(W^l_{ij} x^l_{j}) = \\sum_{i=1}^{N} \\sum_{j=1}^{N} \\mathbb{E}W^l_{ij} \\mathbb{E} x^l_{j} = 0$\n",
    "\n",
    "    b) $ \\mathbb{P}(W^l x^l = y^l) = \\mathbb{P}(x^l = (W^l)^T y^l)=${по чётности $x^l$}$=\\mathbb{P}(x^l = -(W^l)^T y^l) = \\mathbb{P}(- W^l x^l = y^l) $\n",
    "\n",
    "3. (прямой проход) $\\mathbb{D}y^{l} = \\mathbb{D}y^{l}_{j} = \\mathbb{D} \\sum\\limits_{i=1}^{n^l} W^{l}_{ji}x^l_{i} = \\sum\\limits_{i=1}^{n^l} \\mathbb{D}W^{l}_{ji}\\mathbb{D}x^l_{i} = n^l\\mathbb{D}W^l\\mathbb{D}x^l$ \n",
    "\n",
    "    $\\mathbb{D} x^l =  \\mathbb{E}(x^l)^2 - (\\mathbb{E}x^l)^2 =$ {$ \\mathbb{E}x^l = \\mathbb{E}g(y^{l-1})=0$, так как g-монотонна и $\\mathbb{E}y^l = 0 $}$= \\mathbb{E}(x^l)^2 = \\mathbb{E}(g(y^{l-1}))^2 = \\frac{1}{2} \\mathbb{E}(y^{l-1})^2 = \\frac{1}{2} \\mathbb{D} y^{l-1} $\n",
    "\n",
    "    Следовательно, $\\mathbb{D} y^l = n_l \\mathbb{D} W^l \\mathbb{D} x^l = \\frac{n_l}{2} \\mathbb{D} W^l \\mathbb{D}y^{l-1}$. Мы хотим добиться того, чтобы матожидание и дисперсия активаций оставались неизменными от слоя к слою. Тем самым мы гарантируем что активации не будут \"взрываться\" или \"испаряться\" к последним слоям сети. Мы показали, что матожидание равно 0, теперь приравняем дисперсии и получим: $\\mathbb{D}W^l = \\frac{2}{n^l}$.\n",
    "\n",
    "4. (обратный проход) На обратном проходе аналогичным образом показывается равенство нулю матожидания. Посмотрим теперь на дисперсию градиента.\n",
    "$$ \\mathbb{D}\\delta^{L} = \\mathbb{D}\\delta^{L}_{j} = \\frac{n^{L+1}}{2}\\mathbb{D}W^{L+1}\\mathbb{D}\\delta^{L+1} $$\n",
    "\n",
    "$$ \\mathbb{D}\\delta^{L} = \\mathbb{D}\\delta^{L-1} \\iff \\frac{n^{L}}{2}\\mathbb{D}W^{L} = 1 \\iff \\mathbb{D}W^{L} = \\frac{2}{n^{L}} $$\n",
    "\n",
    "Таким образом, мы вывели хорошую инициализацию для линейного слоя в случае, когда в качестве функции активации $g(y)$ в нейронной сети используется ReLU, избегая затухания градиента правильной инициализацией."
   ]
  },
  {
   "cell_type": "markdown",
   "metadata": {
    "heading_collapsed": true,
    "hidden": true
   },
   "source": [
    "### `Задание 3. Почему функция активации` $ReLU(y) = \\max(0, y)$ `предпочтительней сигмоиды` $\\sigma(y) = \\frac{1}{1 + \\exp(-y)}$ `в нейронных сетях? (0.5 балла)`"
   ]
  },
  {
   "cell_type": "markdown",
   "metadata": {
    "hidden": true
   },
   "source": [
    "Дайте развернутый ответ на вопрос \"Почему функция активации $ReLU(y) = \\max(0, y)$ предпочтительней сигмоиды $\\sigma(y) = \\frac{1}{1 + \\exp(-y)}$ в нейронных сетях?\""
   ]
  },
  {
   "attachments": {},
   "cell_type": "markdown",
   "metadata": {
    "hidden": true
   },
   "source": [
    "__Ваш ответ:__\n",
    "\n",
    "Главным преимуществом функции ReLU по сравнению с сигмоидой является её меньшая требовательность к вычислительным ресурсам: взятие максимума гораздно проще вычислить, чем взятие экспоненты и деление. Сигмоида также обладает проблемой затухающих градиентов для нейронных сетей с большим количеством слоёв, в отличие от ReLU, градиент которой равен единице. К плюсам ReLU также можно отнести, что она делает сеть более разреженной, зануляя некоторые нейроны и устраняя таким образом переобучение."
   ]
  },
  {
   "cell_type": "markdown",
   "metadata": {
    "hidden": true
   },
   "source": [
    "---"
   ]
  },
  {
   "cell_type": "markdown",
   "metadata": {
    "heading_collapsed": true
   },
   "source": [
    "## `Практическая часть (7 баллов)`"
   ]
  },
  {
   "cell_type": "markdown",
   "metadata": {
    "heading_collapsed": true,
    "hidden": true
   },
   "source": [
    "### `Реализация нейронной сети (3 балла)`"
   ]
  },
  {
   "cell_type": "markdown",
   "metadata": {
    "hidden": true
   },
   "source": [
    "В этом задании вы обучите полносвязную нейронную сеть распознавать рукописные цифры (а что же еще, если не их :), [почти] самостоятельно реализовав все составляющие алгоритма обучения и предсказания.\n",
    "\n",
    "Для начала нам понадобится реализовать прямой и обратный проход через слои. Наши слои будут соответствовать следующему интерфейсу (на примере \"тождественного\" слоя):"
   ]
  },
  {
   "cell_type": "code",
   "execution_count": 22,
   "metadata": {
    "ExecuteTime": {
     "end_time": "2021-03-03T14:44:48.924967Z",
     "start_time": "2021-03-03T14:44:48.912996Z"
    },
    "hidden": true
   },
   "outputs": [],
   "source": [
    "class IdentityLayer:\n",
    "    \"\"\"\n",
    "    A building block. Each layer is capable of performing two things:\n",
    "\n",
    "    - Process input to get output:           \n",
    "    output = layer.forward(input)\n",
    "\n",
    "    - Propagate gradients through itself:    \n",
    "    grad_input = layer.backward(input, grad_output)\n",
    "\n",
    "    Some layers also have learnable parameters.\n",
    "\n",
    "    Modified code from cs.hse DL course *\n",
    "    \"\"\"\n",
    "    def __init__(self):\n",
    "        \"\"\"\n",
    "        Here you can initialize layer parameters (if any) \n",
    "        and auxiliary stuff. You should enumerate all parameters\n",
    "        in self.params\n",
    "        \"\"\"\n",
    "        # An identity layer does nothing\n",
    "        self.params = []\n",
    "        pass\n",
    "\n",
    "    def forward(self, input):\n",
    "        \"\"\"\n",
    "        Takes input data of shape [batch, input_units], \n",
    "        returns output data [batch, output_units]\n",
    "        \"\"\"\n",
    "        # An identity layer just returns whatever it gets as input.\n",
    "        self.input = input\n",
    "        return input\n",
    "\n",
    "    def backward(self, grad_output): \n",
    "        \"\"\"\n",
    "        Performs a backpropagation step through the layer, \n",
    "        with respect to the given input.\n",
    "\n",
    "        To compute loss gradients w.r.t input, \n",
    "        you need to apply chain rule (backprop):\n",
    "\n",
    "        d `loss` / d `input` = (d `loss` / d `layer`) * (d `layer` / d `input`)\n",
    "\n",
    "        Luckily, you already receive d `loss` / d `layer` in argument, \n",
    "        so you only need to multiply it by d `layer` / d `input`.\n",
    "\n",
    "        NB: Sometimes d `layer` / d `input` can be a 3D or even 4D tensor.\n",
    "        So it's better to write down the `loss` differential and extract\n",
    "        d `layer` / d `input` from it so that only 2D tensors were present.\n",
    "\n",
    "        The method returns:\n",
    "        * gradient w.r.t input (will be passed to \n",
    "          previous layer's backward method)\n",
    "        * flattened gradient w.r.t. parameters (with .ravel() \n",
    "          applied to each gradient). \n",
    "          If there are no params, return []\n",
    "        \"\"\"\n",
    "        # The gradient of an identity layer is precisely grad_output\n",
    "        input_dim = self.input.shape[1]\n",
    "\n",
    "        d_layer_d_input = np.eye(input_dim)\n",
    "\n",
    "        return np.dot(grad_output, d_layer_d_input), [] # chain rule"
   ]
  },
  {
   "cell_type": "markdown",
   "metadata": {
    "heading_collapsed": true,
    "hidden": true
   },
   "source": [
    "#### `Слой нелинейности ReLU`"
   ]
  },
  {
   "cell_type": "markdown",
   "metadata": {
    "hidden": true
   },
   "source": [
    "Для начала реализуем слой нелинейности $ReLU(y) = \\max(0, y)$. Параметров у слоя нет. Метод `forward` должен вернуть результат поэлементного применения $ReLU$ к входному массиву, метод `backward` — градиент функции потерь по входу слоя. В нуле будем считать производную равной 0. Обратите внимание, что при обратном проходе могут понадобиться величины, посчитанные во время прямого прохода, поэтому их стоит сохранить как атрибут класса."
   ]
  },
  {
   "cell_type": "code",
   "execution_count": 23,
   "metadata": {
    "ExecuteTime": {
     "end_time": "2021-03-03T14:44:48.939926Z",
     "start_time": "2021-03-03T14:44:48.928957Z"
    },
    "hidden": true
   },
   "outputs": [],
   "source": [
    "class ReLU:\n",
    "    \"\"\"\n",
    "    Modified code from cs.hse DL course *\n",
    "    \"\"\"\n",
    "    def __init__(self):\n",
    "        \"\"\"ReLU layer simply applies elementwise rectified linear unit to all inputs\"\"\"\n",
    "        self.params = [] # ReLU has no parameters\n",
    "\n",
    "    def forward(self, input):\n",
    "        \"\"\"Apply elementwise ReLU to [batch, num_units] matrix\"\"\"\n",
    "        ### your code here\n",
    "        self.input = np.maximum(input, 0)\n",
    "        return self.input\n",
    "        \n",
    "    def backward(self, grad_output):\n",
    "        \"\"\"Compute gradient of loss w.r.t. ReLU input\n",
    "        grad_output shape: [batch, num_units]\n",
    "        output 1 shape: [batch, num_units]\n",
    "        output 2: []\n",
    "        \"\"\"\n",
    "        ### your code here\n",
    "        grad = grad_output\n",
    "        grad[np.where(self.input <= 0)] = 0\n",
    "        return grad, []\n",
    "    \n",
    "    def __repr__(self):\n",
    "        return 'Relu()'"
   ]
  },
  {
   "cell_type": "markdown",
   "metadata": {
    "heading_collapsed": true,
    "hidden": true
   },
   "source": [
    "#### `Полносвязный слой`"
   ]
  },
  {
   "cell_type": "markdown",
   "metadata": {
    "hidden": true
   },
   "source": [
    "Далее реализуем полносвязный слой без нелинейности. У слоя два параметра: матрица весов и вектор сдвига.\n",
    "\n",
    "Обратите внимание на второй аргумент: в нем надо возвращать градиент по всем параметрам в одномерном виде. Для этого надо сначала применить `.ravel()` ко всем градиентам, а затем воспользоваться `np.r_`:"
   ]
  },
  {
   "cell_type": "code",
   "execution_count": 24,
   "metadata": {
    "ExecuteTime": {
     "end_time": "2021-03-03T14:44:48.971838Z",
     "start_time": "2021-03-03T14:44:48.943913Z"
    },
    "hidden": true
   },
   "outputs": [
    {
     "data": {
      "text/plain": [
       "array([1., 0., 0., 0., 1., 0., 0., 0., 1., 0., 1., 2., 3.])"
      ]
     },
     "execution_count": 24,
     "metadata": {},
     "output_type": "execute_result"
    }
   ],
   "source": [
    "# example\n",
    "np.r_[np.eye(3).ravel(), np.arange(4)]"
   ]
  },
  {
   "cell_type": "code",
   "execution_count": 25,
   "metadata": {
    "ExecuteTime": {
     "end_time": "2021-03-03T14:44:48.987794Z",
     "start_time": "2021-03-03T14:44:48.975827Z"
    },
    "hidden": true
   },
   "outputs": [],
   "source": [
    "class Dense:\n",
    "    \"\"\"\n",
    "    Modified code from cs.hse DL course *\n",
    "    \"\"\"\n",
    "    def __init__(self, input_units, output_units):\n",
    "        \"\"\"\n",
    "        A dense layer is a layer which performs a learned affine transformation:\n",
    "        f(x) = x W + b\n",
    "        \"\"\"\n",
    "        # initialize weights with small random numbers from normal distribution\n",
    "        self.weights = np.random.randn(input_units, output_units) * 0.01\n",
    "        self.biases = np.zeros(output_units)\n",
    "        self.params = [self.weights, self.biases]\n",
    "\n",
    "    def forward(self,input):\n",
    "        \"\"\"\n",
    "        Perform an affine transformation:\n",
    "        f(x) = x W + b\n",
    "        \n",
    "        input shape: [batch, input_units]\n",
    "        output shape: [batch, output units]\n",
    "        \"\"\"\n",
    "        ### your code here\n",
    "        self.input = input\n",
    "        return np.dot(input, self.weights) + self.biases\n",
    "\n",
    "    def backward(self, grad_output):\n",
    "        \"\"\"\n",
    "        compute gradients\n",
    "        grad_output shape: [batch, output_units]\n",
    "        output shapes: [batch, input_units], [num_params]\n",
    "        \n",
    "        hint: use function np.r_\n",
    "        np.r_[np.arange(3), np.arange(3)] = [0, 1, 2, 0, 1, 2]\n",
    "        \"\"\"\n",
    "        ### your code here\n",
    "        dx = np.dot(grad_output, self.weights.T)\n",
    "        dw = np.dot(self.input.T, grad_output)\n",
    "        db = np.sum(grad_output, axis=0)\n",
    "        return dx, np.r_[dw.ravel(), db.ravel()]\n",
    "    \n",
    "    def __repr__(self):\n",
    "        return f'Dense({self.weights.shape[0]}, {self.weights.shape[1]})'"
   ]
  },
  {
   "cell_type": "markdown",
   "metadata": {
    "heading_collapsed": true,
    "hidden": true
   },
   "source": [
    "#### `Проверка градиента`"
   ]
  },
  {
   "cell_type": "markdown",
   "metadata": {
    "hidden": true
   },
   "source": [
    "Проверим правильность реализации с помощью функции численной проверки градиента. Функция `eval_numerical_gradient` принимает на вход callable объект `f` (функцию от одного аргумента-матрицы) и аргумент `x` и вычисляет приближенный градиент функции `f` в точке `x`."
   ]
  },
  {
   "cell_type": "code",
   "execution_count": 26,
   "metadata": {
    "ExecuteTime": {
     "end_time": "2021-03-03T14:44:49.003751Z",
     "start_time": "2021-03-03T14:44:48.990787Z"
    },
    "hidden": true
   },
   "outputs": [],
   "source": [
    "def eval_numerical_gradient(f, x, verbose=False, h=0.00001):\n",
    "    \"\"\"\n",
    "    Evaluates gradient df/dx via finite differences:\n",
    "    df/dx ~ (f(x+h) - f(x-h)) / 2h\n",
    "    Adopted from https://github.com/ddtm/dl-course/\n",
    "    \"\"\"\n",
    "    fx = f(x) # evaluate function value at original point\n",
    "    grad = np.zeros_like(x)\n",
    "    # iterate over all indexes in x\n",
    "    it = np.nditer(x, flags=['multi_index'], op_flags=['readwrite'])\n",
    "    while not it.finished:\n",
    "\n",
    "        # evaluate function at x+h\n",
    "        ix = it.multi_index\n",
    "        oldval = x[ix]\n",
    "        x[ix] = oldval + h # increment by h\n",
    "        fxph = f(x) # evalute f(x + h)\n",
    "        x[ix] = oldval - h\n",
    "        fxmh = f(x) # evaluate f(x - h)\n",
    "        x[ix] = oldval # restore\n",
    "\n",
    "        # compute the partial derivative with centered formula\n",
    "        grad[ix] = (fxph - fxmh) / (2 * h) # the slope\n",
    "        if verbose:\n",
    "            print (ix, grad[ix])\n",
    "        it.iternext() # step to next dimension\n",
    "\n",
    "    return grad"
   ]
  },
  {
   "attachments": {},
   "cell_type": "markdown",
   "metadata": {
    "hidden": true
   },
   "source": [
    "Вычислите аналитический и численный градиенты по входу слоя ReLU от функции\n",
    "$$ f(y) = \\sum_i y_i, \\quad y = ReLU(x) $$\n",
    "\n",
    "Выпишите аналитический градиент в этой ячейке:\n",
    "\n",
    "Заметим, что $\\frac{\\partial f}{\\partial x_i} = \\frac{\\partial f}{\\partial y_j} \\frac{\\partial y_j}{\\partial x_i}$. Кроме того, $\\frac{\\partial y_j}{\\partial x_i} = 0$, когда $i \\neq j$, и $= [x_i > 0]$ - иначе. Поэтому $\\frac{\\partial f}{\\partial x_i} = \\frac{\\partial f}{\\partial y_i} \\frac{\\partial y_i}{\\partial x_i} = [x_i > 0]$, откуда $\\nabla_{x} f = ([x_1 > 0], [x_2 > 0], ..., [x_n > 0])$"
   ]
  },
  {
   "cell_type": "markdown",
   "metadata": {
    "hidden": true
   },
   "source": [
    "Следующая ячейка после заполнения должна не выдавать ошибку :)"
   ]
  },
  {
   "cell_type": "code",
   "execution_count": 27,
   "metadata": {
    "ExecuteTime": {
     "end_time": "2021-03-03T14:44:49.034673Z",
     "start_time": "2021-03-03T14:44:49.006744Z"
    },
    "hidden": true
   },
   "outputs": [],
   "source": [
    "relu = ReLU()\n",
    "points = np.linspace(-1, 1, 10*12).reshape([10, 12])\n",
    "\n",
    "### your code here\n",
    "def f(y):\n",
    "    return np.sum(relu.forward(y))\n",
    "relu.forward(points)\n",
    "grads = relu.backward(np.ones((10, 12)))[0]\n",
    "numeric_grads = eval_numerical_gradient(f, points)\n",
    "\n",
    "assert np.allclose(grads, numeric_grads, rtol=1e-3, atol=0)"
   ]
  },
  {
   "attachments": {},
   "cell_type": "markdown",
   "metadata": {
    "hidden": true
   },
   "source": [
    "Вычислите аналитический и численный градиенты по входу полносвязного слоя от функции\n",
    "$$ f(y) = \\sum_i y_i, \\quad y = W x + b $$\n",
    "\n",
    "Выпишите аналитический градиент в этой ячейке (советуем выписать градиент через дифференциал функции $f$):\n",
    "\n",
    "$f = e^T y$ => $df = e^T dy$ => $dy = W dx$ => $df = e^T W dx$ => $\\nabla_{x} f = W^T e$"
   ]
  },
  {
   "cell_type": "markdown",
   "metadata": {
    "hidden": true
   },
   "source": [
    "Следующая ячейка после заполнения должна не выдавать ошибку :)"
   ]
  },
  {
   "cell_type": "code",
   "execution_count": 28,
   "metadata": {
    "ExecuteTime": {
     "end_time": "2021-03-03T14:44:49.066624Z",
     "start_time": "2021-03-03T14:44:49.041651Z"
    },
    "hidden": true
   },
   "outputs": [],
   "source": [
    "linear = Dense(12, 32)\n",
    "points = np.linspace(-1, 1, 10*12).reshape([10, 12])\n",
    "\n",
    "### your code here\n",
    "def f(y):\n",
    "    return np.sum(linear.forward(y))\n",
    "linear.forward(points)\n",
    "grads = linear.backward(np.ones((10, 32)))[0]\n",
    "numeric_grads = eval_numerical_gradient(f, points)\n",
    "\n",
    "assert np.allclose(grads, numeric_grads, rtol=1e-3, atol=0)"
   ]
  },
  {
   "cell_type": "markdown",
   "metadata": {
    "heading_collapsed": true,
    "hidden": true
   },
   "source": [
    "#### `Реализация softmax-слоя и функции потерь`"
   ]
  },
  {
   "cell_type": "markdown",
   "metadata": {
    "hidden": true
   },
   "source": [
    "Для решения задачи многоклассовой классификации обычно используют $softmax$ в качестве нелинейности на последнем слое, чтобы получить вероятности классов для каждого объекта:\n",
    "$$\\hat y = softmax(x)  = \\left \\{\\frac {\\exp(x^i)}{\\sum_{j=1}^K \\exp(x^j)} \\right \\}_{i=1}^K, \\quad K - \\text{число классов.}$$\n",
    "\n",
    "Здесь за $x^i$ мы обозначаем $i$-ый признак объекта $x$.\n",
    "\n",
    "В качестве функции потерь выберем отрицательный логарифм правдоподобия (по английски: negative log likelihood или NLL)\n",
    "$$L(y, \\hat y) = -\\sum_{i=1}^K y^i \\log \\hat y^i,$$\n",
    "где $y^i = 1$, если объект принадлежит $i$-му классу, и $y^i = 0$ иначе.\n",
    "\n",
    "NLL совпадает с выражением для [кросс-энтропии](https://ru.wikipedia.org/wiki/Перекрёстная_энтропия) (в качестве первого распределения берем вырожденное распределение $y$, в качестве второго — предсказанное распределение $\\hat y$). Очевидно, что эту функцию потерь также можно переписать через индексацию, если через $y$ обозначить класс данного объекта:\n",
    "$$L(y, \\hat y) = - \\log \\hat y_{y}$$\n",
    "\n",
    "В таком виде ее удобно реализовывать."
   ]
  },
  {
   "cell_type": "markdown",
   "metadata": {
    "ExecuteTime": {
     "end_time": "2021-03-03T13:13:02.970075Z",
     "start_time": "2021-03-03T13:13:02.961134Z"
    },
    "hidden": true
   },
   "source": [
    "Для обучения нейронной сети будем оптимизировать эту функцию потерь по параметрам нейронной сети:\n",
    "\n",
    "$$ \\frac1N \\sum_{i=1}^N L(y_i, \\hat y_i) = \\frac1N \\sum_{i=1}^N L(y_i, \\text{NN}(x_i)) \\rightarrow \\min_{w}\\,,$$\n",
    "где за $x_i$ и $y_i$ мы обозначили признаки и таргет $i$-ого объекта обучающей выборки, за $\\text{NN}$ мы обозначили нейронную сеть, которая по признакам объекта $x_i$ выдает распределение вероятностей $\\hat y_i$, за $w$ мы обозначили все веса нейронной сети, а $N$ — это число объектов в обучающей выборке."
   ]
  },
  {
   "cell_type": "markdown",
   "metadata": {
    "hidden": true
   },
   "source": [
    "Реализуйте слой `LogSoftmax` (у этого слоя нет параметров). Метод `forward` должен вычислять логарифм от $softmax$, а метод `backward` — пропускать градиенты. В общем случае в промежуточных вычислениях `backward` получится трехмерный тензор, однако для нашей конкретной функции потерь все вычисления можно реализовать в матричном виде.  Поэтому мы будем предполагать, что аргумент `grad_output` — это матрица, у которой в каждой строке только одно ненулевое значение (не обязательно единица)."
   ]
  },
  {
   "cell_type": "code",
   "execution_count": 29,
   "metadata": {
    "ExecuteTime": {
     "end_time": "2021-03-03T14:44:49.272035Z",
     "start_time": "2021-03-03T14:44:49.070612Z"
    },
    "hidden": true
   },
   "outputs": [],
   "source": [
    "from scipy.special import logsumexp\n",
    "# use this function instead of np.log(np.sum(np.exp(...))) because it is more stable"
   ]
  },
  {
   "cell_type": "code",
   "execution_count": 30,
   "metadata": {
    "ExecuteTime": {
     "end_time": "2021-03-03T14:44:49.288035Z",
     "start_time": "2021-03-03T14:44:49.275031Z"
    },
    "hidden": true
   },
   "outputs": [],
   "source": [
    "class LogSoftmax:\n",
    "    def __init__(self):\n",
    "        self.params = []\n",
    "\n",
    "    def forward(self, input):\n",
    "        \"\"\"\n",
    "        Applies softmax to each row and then applies component-wise log\n",
    "        Input shape: [batch, num_units]\n",
    "        Output shape: [batch, num_units]\n",
    "        \"\"\"\n",
    "        ### your code here\n",
    "        self.values = input - logsumexp(input, axis=1)[:, np.newaxis]\n",
    "        return self.values\n",
    "        \n",
    "    def backward(self, grad_output):\n",
    "        \"\"\"\n",
    "        Propagartes gradients.\n",
    "        Assumes that each row of grad_output contains only 1 \n",
    "        non-zero element\n",
    "        Input shape: [batch, num_units]\n",
    "        Output shape: [batch, num_units]\n",
    "        Do not forget to return [] as second value (grad w.r.t. params)\n",
    "        \"\"\"\n",
    "        ### your code here\n",
    "        mask = grad_output != 0\n",
    "        softmax = np.exp(self.values)\n",
    "        A = - softmax\n",
    "        A[mask] += 1\n",
    "        return A * np.sum(grad_output, axis = 1)[:, np.newaxis], []\n",
    "    \n",
    "    def __repr__(self):\n",
    "        return 'LogSoftmax()'"
   ]
  },
  {
   "cell_type": "markdown",
   "metadata": {
    "hidden": true
   },
   "source": [
    "Реализуйте функцию потерь и градиенты функции потерь. Во время вычисления NLL усредняйте (а не суммируйте) значения функции потерь по батчу. Обычно так делают для того, чтобы при двух запусках обучения нейронной сети с разными размерами батча получаемые значения функции потерь у этих сетей были сравнимы."
   ]
  },
  {
   "cell_type": "code",
   "execution_count": 31,
   "metadata": {
    "ExecuteTime": {
     "end_time": "2021-03-03T14:44:49.302990Z",
     "start_time": "2021-03-03T14:44:49.290985Z"
    },
    "hidden": true
   },
   "outputs": [],
   "source": [
    "def NLL(activations, target):\n",
    "    \"\"\"\n",
    "    Returns negative log-likelihood of target under model represented by\n",
    "    activations (log probabilities of classes, it's just output of LogSoftmax layer).\n",
    "    `activations` has shape [batch, num_classes], `target` has shape [batch]\n",
    "    Output shape: 1 (scalar).\n",
    "    \"\"\"\n",
    "    ### your code here\n",
    "    return np.mean(-np.take_along_axis(activations, target[:, np.newaxis], axis=1).reshape(target.shape))\n",
    "\n",
    "\n",
    "def grad_NLL(activations, target):\n",
    "    \"\"\"\n",
    "    Returns gradient of negative log-likelihood w.r.t. activations.\n",
    "    each arg has shape [batch, num_classes]\n",
    "    output shape: [batch, num-classes]\n",
    "    \"\"\"\n",
    "    ### your code here\n",
    "    X = np.zeros(activations.shape)\n",
    "    obj = np.arange(target.shape[0])\n",
    "    X[obj, target] = 1 / target.shape[0]\n",
    "    return -X"
   ]
  },
  {
   "cell_type": "markdown",
   "metadata": {
    "hidden": true
   },
   "source": [
    "Наконец, выполните проверку `LogSoftmax`-слоя, используя функцию потерь и ее градиент:"
   ]
  },
  {
   "cell_type": "code",
   "execution_count": 32,
   "metadata": {
    "ExecuteTime": {
     "end_time": "2021-03-03T14:44:49.350863Z",
     "start_time": "2021-03-03T14:44:49.305945Z"
    },
    "hidden": true
   },
   "outputs": [],
   "source": [
    "lsm = LogSoftmax()\n",
    "target = np.arange(10)\n",
    "points = np.linspace(-1, 1, 10 * 12).reshape([10, 12])\n",
    "\n",
    "def f(x):\n",
    "    return NLL(lsm.forward(x), target)\n",
    "\n",
    "### your code here\n",
    "forward = lsm.forward(points)\n",
    "numeric_grads = eval_numerical_gradient(f, points)\n",
    "grads = lsm.backward(grad_NLL(forward, target))[0]\n",
    "\n",
    "assert np.allclose(grads, numeric_grads, rtol=1e-3, atol=0)"
   ]
  },
  {
   "cell_type": "markdown",
   "metadata": {
    "heading_collapsed": true,
    "hidden": true
   },
   "source": [
    "### `Загрузка данных`"
   ]
  },
  {
   "cell_type": "markdown",
   "metadata": {
    "hidden": true
   },
   "source": [
    "Мы реализаовали все архитектурные составляющие нашей нейронной сети. Осталось загрузить данные и обучить модель. Мы будем работать с датасетом `digits`, каждый объект в котором — это 8x8 изображение рукописной цифры."
   ]
  },
  {
   "cell_type": "code",
   "execution_count": 33,
   "metadata": {
    "ExecuteTime": {
     "end_time": "2021-03-03T14:44:49.872521Z",
     "start_time": "2021-03-03T14:44:49.354818Z"
    },
    "hidden": true
   },
   "outputs": [],
   "source": [
    "import matplotlib.pyplot as plt\n",
    "%matplotlib inline"
   ]
  },
  {
   "cell_type": "code",
   "execution_count": 34,
   "metadata": {
    "ExecuteTime": {
     "end_time": "2021-03-03T14:44:51.700670Z",
     "start_time": "2021-03-03T14:44:49.876510Z"
    },
    "hidden": true
   },
   "outputs": [],
   "source": [
    "from sklearn.datasets import load_digits"
   ]
  },
  {
   "cell_type": "code",
   "execution_count": 35,
   "metadata": {
    "ExecuteTime": {
     "end_time": "2021-03-03T14:44:51.873771Z",
     "start_time": "2021-03-03T14:44:51.703667Z"
    },
    "hidden": true
   },
   "outputs": [],
   "source": [
    "X, y = load_digits(return_X_y=True)"
   ]
  },
  {
   "cell_type": "code",
   "execution_count": 36,
   "metadata": {
    "ExecuteTime": {
     "end_time": "2021-03-03T14:44:51.889252Z",
     "start_time": "2021-03-03T14:44:51.877326Z"
    },
    "hidden": true
   },
   "outputs": [
    {
     "data": {
      "text/plain": [
       "((1797, 64), (1797,))"
      ]
     },
     "execution_count": 36,
     "metadata": {},
     "output_type": "execute_result"
    }
   ],
   "source": [
    "X.shape, y.shape"
   ]
  },
  {
   "cell_type": "markdown",
   "metadata": {
    "hidden": true
   },
   "source": [
    "Разделим данные на обучение и контроль:"
   ]
  },
  {
   "cell_type": "code",
   "execution_count": 37,
   "metadata": {
    "ExecuteTime": {
     "end_time": "2021-03-03T14:44:51.952606Z",
     "start_time": "2021-03-03T14:44:51.892280Z"
    },
    "hidden": true
   },
   "outputs": [],
   "source": [
    "from sklearn.model_selection import train_test_split"
   ]
  },
  {
   "cell_type": "code",
   "execution_count": 38,
   "metadata": {
    "ExecuteTime": {
     "end_time": "2021-03-03T14:44:51.968609Z",
     "start_time": "2021-03-03T14:44:51.955642Z"
    },
    "hidden": true
   },
   "outputs": [],
   "source": [
    "X_train, X_test, y_train, y_test = train_test_split(X, y, random_state=0)"
   ]
  },
  {
   "cell_type": "code",
   "execution_count": 39,
   "metadata": {
    "ExecuteTime": {
     "end_time": "2021-03-03T14:44:52.000485Z",
     "start_time": "2021-03-03T14:44:51.971599Z"
    },
    "hidden": true
   },
   "outputs": [
    {
     "data": {
      "text/plain": [
       "((1347, 64), (450, 64))"
      ]
     },
     "execution_count": 39,
     "metadata": {},
     "output_type": "execute_result"
    }
   ],
   "source": [
    "X_train.shape, X_test.shape"
   ]
  },
  {
   "cell_type": "markdown",
   "metadata": {
    "heading_collapsed": true,
    "hidden": true
   },
   "source": [
    "### `Сборка и обучение нейронной сети (1 балл)`"
   ]
  },
  {
   "cell_type": "markdown",
   "metadata": {
    "hidden": true
   },
   "source": [
    "В нашей реализации мы представляем нейронную сеть в виде списка ее слоев. Например, следующая функция конструирует нейронную сеть заданной ширины (то есть с заданным размером скрытых слоев) и глубины (то есть с заданным количеством слоев) с заданным размером входа и выхода, а также с заданной функцией активации между линейными слоями."
   ]
  },
  {
   "cell_type": "code",
   "execution_count": 40,
   "metadata": {
    "ExecuteTime": {
     "end_time": "2021-03-03T14:44:52.016442Z",
     "start_time": "2021-03-03T14:44:52.003513Z"
    },
    "hidden": true
   },
   "outputs": [],
   "source": [
    "def make_network(input_size, hidden_layers_size, output_size, n_layers=3, activation_class=ReLU):\n",
    "    network = []\n",
    "\n",
    "    for layer_idx in range(n_layers):\n",
    "        # Compute sizes of current linear layer\n",
    "        layer_in = input_size if layer_idx == 0 else hidden_layers_size\n",
    "        layer_out = output_size if layer_idx == n_layers - 1 else hidden_layers_size\n",
    "        \n",
    "        # Add linear layer to the network\n",
    "        network.append(Dense(layer_in, layer_out))\n",
    "\n",
    "        # Add activation after each layer except the last one\n",
    "        if layer_idx != n_layers - 1:\n",
    "            network.append(activation_class())\n",
    "\n",
    "    # Add LogSoftmax layer to the network\n",
    "    network.append(LogSoftmax())\n",
    "\n",
    "    return network"
   ]
  },
  {
   "cell_type": "code",
   "execution_count": 41,
   "metadata": {
    "ExecuteTime": {
     "end_time": "2021-03-03T14:44:52.048395Z",
     "start_time": "2021-03-03T14:44:52.020431Z"
    },
    "hidden": true
   },
   "outputs": [
    {
     "data": {
      "text/plain": [
       "[Dense(64, 32), Relu(), Dense(32, 32), Relu(), Dense(32, 10), LogSoftmax()]"
      ]
     },
     "execution_count": 41,
     "metadata": {},
     "output_type": "execute_result"
    }
   ],
   "source": [
    "input_size = X_train.shape[1]\n",
    "hidden_layers_size = 32\n",
    "output_size = 10\n",
    "\n",
    "network = make_network(input_size, hidden_layers_size, output_size, 3, ReLU)\n",
    "network"
   ]
  },
  {
   "cell_type": "markdown",
   "metadata": {
    "hidden": true
   },
   "source": [
    "Реализуйте функцию, которая выполнет прямой проход по нейронной сети:"
   ]
  },
  {
   "cell_type": "code",
   "execution_count": 42,
   "metadata": {
    "ExecuteTime": {
     "end_time": "2021-03-03T14:44:52.063319Z",
     "start_time": "2021-03-03T14:44:52.051386Z"
    },
    "hidden": true
   },
   "outputs": [],
   "source": [
    "def forward(network, X):\n",
    "    \"\"\"\n",
    "    Perform forward pass through the network.\n",
    "    \n",
    "    network: list of layers\n",
    "    X: raw data\n",
    "    X shape: [batch, features_num]\n",
    "\n",
    "    output: \n",
    "    output shape: [batch, out_features_num]\n",
    "    \"\"\"\n",
    "    ### your code here\n",
    "    result = X\n",
    "    for layer in network:\n",
    "        result = layer.forward(result)\n",
    "    \n",
    "    return result"
   ]
  },
  {
   "cell_type": "markdown",
   "metadata": {
    "hidden": true
   },
   "source": [
    "Для проверки, хорошо ли сеть обучилась, нам понадобится вычислять долю правильных ответов (accuracy) на данной выборке. Для этого реализуйте функцию, которая делает предсказания на каждом объекте (логично в качестве предсказания на очередном объекте выдавать тот класс, для которого предсказанный логарифм вероятности максимален):"
   ]
  },
  {
   "cell_type": "code",
   "execution_count": 43,
   "metadata": {
    "ExecuteTime": {
     "end_time": "2021-03-03T14:44:52.063319Z",
     "start_time": "2021-03-03T14:44:52.051386Z"
    },
    "hidden": true
   },
   "outputs": [],
   "source": [
    "def predict(network, X):\n",
    "    \"\"\"\n",
    "    Returns predictions for each object in X.\n",
    "    \n",
    "    network: list of layers\n",
    "    X: raw data\n",
    "    X shape: [batch, features_num]\n",
    "\n",
    "    output: array of classes, each from 0 to 9\n",
    "    output shape: [batch]\n",
    "    \"\"\"\n",
    "    ### your code here\n",
    "    probs = forward(network, X)\n",
    "    return np.argmax(probs, axis=1)"
   ]
  },
  {
   "cell_type": "markdown",
   "metadata": {
    "hidden": true
   },
   "source": [
    "Мы будем обучать параметры нейросети с помощью готовой функции оптимизации из модуля `scipy`:"
   ]
  },
  {
   "cell_type": "code",
   "execution_count": 44,
   "metadata": {
    "ExecuteTime": {
     "end_time": "2021-03-03T14:44:52.079311Z",
     "start_time": "2021-03-03T14:44:52.070308Z"
    },
    "hidden": true
   },
   "outputs": [],
   "source": [
    "from scipy.optimize import minimize"
   ]
  },
  {
   "cell_type": "code",
   "execution_count": 45,
   "metadata": {
    "ExecuteTime": {
     "end_time": "2021-03-03T14:44:52.111226Z",
     "start_time": "2021-03-03T14:44:52.085292Z"
    },
    "hidden": true,
    "scrolled": true
   },
   "outputs": [
    {
     "name": "stdout",
     "output_type": "stream",
     "text": [
      "Help on function minimize in module scipy.optimize._minimize:\n",
      "\n",
      "minimize(fun, x0, args=(), method=None, jac=None, hess=None, hessp=None, bounds=None, constraints=(), tol=None, callback=None, options=None)\n",
      "    Minimization of scalar function of one or more variables.\n",
      "    \n",
      "    Parameters\n",
      "    ----------\n",
      "    fun : callable\n",
      "        The objective function to be minimized.\n",
      "    \n",
      "            ``fun(x, *args) -> float``\n",
      "    \n",
      "        where ``x`` is a 1-D array with shape (n,) and ``args``\n",
      "        is a tuple of the fixed parameters needed to completely\n",
      "        specify the function.\n",
      "    x0 : ndarray, shape (n,)\n",
      "        Initial guess. Array of real elements of size (n,),\n",
      "        where ``n`` is the number of independent variables.\n",
      "    args : tuple, optional\n",
      "        Extra arguments passed to the objective function and its\n",
      "        derivatives (`fun`, `jac` and `hess` functions).\n",
      "    method : str or callable, optional\n",
      "        Type of solver.  Should be one of\n",
      "    \n",
      "            - 'Nelder-Mead' :ref:`(see here) <optimize.minimize-neldermead>`\n",
      "            - 'Powell'      :ref:`(see here) <optimize.minimize-powell>`\n",
      "            - 'CG'          :ref:`(see here) <optimize.minimize-cg>`\n",
      "            - 'BFGS'        :ref:`(see here) <optimize.minimize-bfgs>`\n",
      "            - 'Newton-CG'   :ref:`(see here) <optimize.minimize-newtoncg>`\n",
      "            - 'L-BFGS-B'    :ref:`(see here) <optimize.minimize-lbfgsb>`\n",
      "            - 'TNC'         :ref:`(see here) <optimize.minimize-tnc>`\n",
      "            - 'COBYLA'      :ref:`(see here) <optimize.minimize-cobyla>`\n",
      "            - 'SLSQP'       :ref:`(see here) <optimize.minimize-slsqp>`\n",
      "            - 'trust-constr':ref:`(see here) <optimize.minimize-trustconstr>`\n",
      "            - 'dogleg'      :ref:`(see here) <optimize.minimize-dogleg>`\n",
      "            - 'trust-ncg'   :ref:`(see here) <optimize.minimize-trustncg>`\n",
      "            - 'trust-exact' :ref:`(see here) <optimize.minimize-trustexact>`\n",
      "            - 'trust-krylov' :ref:`(see here) <optimize.minimize-trustkrylov>`\n",
      "            - custom - a callable object, see below for description.\n",
      "    \n",
      "        If not given, chosen to be one of ``BFGS``, ``L-BFGS-B``, ``SLSQP``,\n",
      "        depending on whether or not the problem has constraints or bounds.\n",
      "    jac : {callable,  '2-point', '3-point', 'cs', bool}, optional\n",
      "        Method for computing the gradient vector. Only for CG, BFGS,\n",
      "        Newton-CG, L-BFGS-B, TNC, SLSQP, dogleg, trust-ncg, trust-krylov,\n",
      "        trust-exact and trust-constr.\n",
      "        If it is a callable, it should be a function that returns the gradient\n",
      "        vector:\n",
      "    \n",
      "            ``jac(x, *args) -> array_like, shape (n,)``\n",
      "    \n",
      "        where ``x`` is an array with shape (n,) and ``args`` is a tuple with\n",
      "        the fixed parameters. If `jac` is a Boolean and is True, `fun` is\n",
      "        assumed to return a tuple ``(f, g)`` containing the objective\n",
      "        function and the gradient.\n",
      "        Methods 'Newton-CG', 'trust-ncg', 'dogleg', 'trust-exact', and\n",
      "        'trust-krylov' require that either a callable be supplied, or that\n",
      "        `fun` return the objective and gradient.\n",
      "        If None or False, the gradient will be estimated using 2-point finite\n",
      "        difference estimation with an absolute step size.\n",
      "        Alternatively, the keywords  {'2-point', '3-point', 'cs'} can be used\n",
      "        to select a finite difference scheme for numerical estimation of the\n",
      "        gradient with a relative step size. These finite difference schemes\n",
      "        obey any specified `bounds`.\n",
      "    hess : {callable, '2-point', '3-point', 'cs', HessianUpdateStrategy}, optional\n",
      "        Method for computing the Hessian matrix. Only for Newton-CG, dogleg,\n",
      "        trust-ncg, trust-krylov, trust-exact and trust-constr.\n",
      "        If it is callable, it should return the Hessian matrix:\n",
      "    \n",
      "            ``hess(x, *args) -> {LinearOperator, spmatrix, array}, (n, n)``\n",
      "    \n",
      "        where ``x`` is a (n,) ndarray and ``args`` is a tuple with the fixed\n",
      "        parameters.\n",
      "        The keywords {'2-point', '3-point', 'cs'} can also be used to select\n",
      "        a finite difference scheme for numerical estimation of the hessian.\n",
      "        Alternatively, objects implementing the `HessianUpdateStrategy`\n",
      "        interface can be used to approximate the Hessian. Available\n",
      "        quasi-Newton methods implementing this interface are:\n",
      "    \n",
      "            - `BFGS`;\n",
      "            - `SR1`.\n",
      "    \n",
      "        Not all of the options are available for each of the methods; for\n",
      "        availability refer to the notes.\n",
      "    hessp : callable, optional\n",
      "        Hessian of objective function times an arbitrary vector p. Only for\n",
      "        Newton-CG, trust-ncg, trust-krylov, trust-constr.\n",
      "        Only one of `hessp` or `hess` needs to be given. If `hess` is\n",
      "        provided, then `hessp` will be ignored. `hessp` must compute the\n",
      "        Hessian times an arbitrary vector:\n",
      "    \n",
      "            ``hessp(x, p, *args) ->  ndarray shape (n,)``\n",
      "    \n",
      "        where ``x`` is a (n,) ndarray, ``p`` is an arbitrary vector with\n",
      "        dimension (n,) and ``args`` is a tuple with the fixed\n",
      "        parameters.\n",
      "    bounds : sequence or `Bounds`, optional\n",
      "        Bounds on variables for Nelder-Mead, L-BFGS-B, TNC, SLSQP, Powell, and\n",
      "        trust-constr methods. There are two ways to specify the bounds:\n",
      "    \n",
      "            1. Instance of `Bounds` class.\n",
      "            2. Sequence of ``(min, max)`` pairs for each element in `x`. None\n",
      "               is used to specify no bound.\n",
      "    \n",
      "    constraints : {Constraint, dict} or List of {Constraint, dict}, optional\n",
      "        Constraints definition. Only for COBYLA, SLSQP and trust-constr.\n",
      "    \n",
      "        Constraints for 'trust-constr' are defined as a single object or a\n",
      "        list of objects specifying constraints to the optimization problem.\n",
      "        Available constraints are:\n",
      "    \n",
      "            - `LinearConstraint`\n",
      "            - `NonlinearConstraint`\n",
      "    \n",
      "        Constraints for COBYLA, SLSQP are defined as a list of dictionaries.\n",
      "        Each dictionary with fields:\n",
      "    \n",
      "            type : str\n",
      "                Constraint type: 'eq' for equality, 'ineq' for inequality.\n",
      "            fun : callable\n",
      "                The function defining the constraint.\n",
      "            jac : callable, optional\n",
      "                The Jacobian of `fun` (only for SLSQP).\n",
      "            args : sequence, optional\n",
      "                Extra arguments to be passed to the function and Jacobian.\n",
      "    \n",
      "        Equality constraint means that the constraint function result is to\n",
      "        be zero whereas inequality means that it is to be non-negative.\n",
      "        Note that COBYLA only supports inequality constraints.\n",
      "    tol : float, optional\n",
      "        Tolerance for termination. When `tol` is specified, the selected\n",
      "        minimization algorithm sets some relevant solver-specific tolerance(s)\n",
      "        equal to `tol`. For detailed control, use solver-specific\n",
      "        options.\n",
      "    options : dict, optional\n",
      "        A dictionary of solver options. All methods except `TNC` accept the\n",
      "        following generic options:\n",
      "    \n",
      "            maxiter : int\n",
      "                Maximum number of iterations to perform. Depending on the\n",
      "                method each iteration may use several function evaluations.\n",
      "    \n",
      "                For `TNC` use `maxfun` instead of `maxiter`.\n",
      "            disp : bool\n",
      "                Set to True to print convergence messages.\n",
      "    \n",
      "        For method-specific options, see :func:`show_options()`.\n",
      "    callback : callable, optional\n",
      "        Called after each iteration. For 'trust-constr' it is a callable with\n",
      "        the signature:\n",
      "    \n",
      "            ``callback(xk, OptimizeResult state) -> bool``\n",
      "    \n",
      "        where ``xk`` is the current parameter vector. and ``state``\n",
      "        is an `OptimizeResult` object, with the same fields\n",
      "        as the ones from the return. If callback returns True\n",
      "        the algorithm execution is terminated.\n",
      "        For all the other methods, the signature is:\n",
      "    \n",
      "            ``callback(xk)``\n",
      "    \n",
      "        where ``xk`` is the current parameter vector.\n",
      "    \n",
      "    Returns\n",
      "    -------\n",
      "    res : OptimizeResult\n",
      "        The optimization result represented as a ``OptimizeResult`` object.\n",
      "        Important attributes are: ``x`` the solution array, ``success`` a\n",
      "        Boolean flag indicating if the optimizer exited successfully and\n",
      "        ``message`` which describes the cause of the termination. See\n",
      "        `OptimizeResult` for a description of other attributes.\n",
      "    \n",
      "    See also\n",
      "    --------\n",
      "    minimize_scalar : Interface to minimization algorithms for scalar\n",
      "        univariate functions\n",
      "    show_options : Additional options accepted by the solvers\n",
      "    \n",
      "    Notes\n",
      "    -----\n",
      "    This section describes the available solvers that can be selected by the\n",
      "    'method' parameter. The default method is *BFGS*.\n",
      "    \n",
      "    **Unconstrained minimization**\n",
      "    \n",
      "    Method :ref:`CG <optimize.minimize-cg>` uses a nonlinear conjugate\n",
      "    gradient algorithm by Polak and Ribiere, a variant of the\n",
      "    Fletcher-Reeves method described in [5]_ pp.120-122. Only the\n",
      "    first derivatives are used.\n",
      "    \n",
      "    Method :ref:`BFGS <optimize.minimize-bfgs>` uses the quasi-Newton\n",
      "    method of Broyden, Fletcher, Goldfarb, and Shanno (BFGS) [5]_\n",
      "    pp. 136. It uses the first derivatives only. BFGS has proven good\n",
      "    performance even for non-smooth optimizations. This method also\n",
      "    returns an approximation of the Hessian inverse, stored as\n",
      "    `hess_inv` in the OptimizeResult object.\n",
      "    \n",
      "    Method :ref:`Newton-CG <optimize.minimize-newtoncg>` uses a\n",
      "    Newton-CG algorithm [5]_ pp. 168 (also known as the truncated\n",
      "    Newton method). It uses a CG method to the compute the search\n",
      "    direction. See also *TNC* method for a box-constrained\n",
      "    minimization with a similar algorithm. Suitable for large-scale\n",
      "    problems.\n",
      "    \n",
      "    Method :ref:`dogleg <optimize.minimize-dogleg>` uses the dog-leg\n",
      "    trust-region algorithm [5]_ for unconstrained minimization. This\n",
      "    algorithm requires the gradient and Hessian; furthermore the\n",
      "    Hessian is required to be positive definite.\n",
      "    \n",
      "    Method :ref:`trust-ncg <optimize.minimize-trustncg>` uses the\n",
      "    Newton conjugate gradient trust-region algorithm [5]_ for\n",
      "    unconstrained minimization. This algorithm requires the gradient\n",
      "    and either the Hessian or a function that computes the product of\n",
      "    the Hessian with a given vector. Suitable for large-scale problems.\n",
      "    \n",
      "    Method :ref:`trust-krylov <optimize.minimize-trustkrylov>` uses\n",
      "    the Newton GLTR trust-region algorithm [14]_, [15]_ for unconstrained\n",
      "    minimization. This algorithm requires the gradient\n",
      "    and either the Hessian or a function that computes the product of\n",
      "    the Hessian with a given vector. Suitable for large-scale problems.\n",
      "    On indefinite problems it requires usually less iterations than the\n",
      "    `trust-ncg` method and is recommended for medium and large-scale problems.\n",
      "    \n",
      "    Method :ref:`trust-exact <optimize.minimize-trustexact>`\n",
      "    is a trust-region method for unconstrained minimization in which\n",
      "    quadratic subproblems are solved almost exactly [13]_. This\n",
      "    algorithm requires the gradient and the Hessian (which is\n",
      "    *not* required to be positive definite). It is, in many\n",
      "    situations, the Newton method to converge in fewer iterations\n",
      "    and the most recommended for small and medium-size problems.\n",
      "    \n",
      "    **Bound-Constrained minimization**\n",
      "    \n",
      "    Method :ref:`Nelder-Mead <optimize.minimize-neldermead>` uses the\n",
      "    Simplex algorithm [1]_, [2]_. This algorithm is robust in many\n",
      "    applications. However, if numerical computation of derivative can be\n",
      "    trusted, other algorithms using the first and/or second derivatives\n",
      "    information might be preferred for their better performance in\n",
      "    general.\n",
      "    \n",
      "    Method :ref:`L-BFGS-B <optimize.minimize-lbfgsb>` uses the L-BFGS-B\n",
      "    algorithm [6]_, [7]_ for bound constrained minimization.\n",
      "    \n",
      "    Method :ref:`Powell <optimize.minimize-powell>` is a modification\n",
      "    of Powell's method [3]_, [4]_ which is a conjugate direction\n",
      "    method. It performs sequential one-dimensional minimizations along\n",
      "    each vector of the directions set (`direc` field in `options` and\n",
      "    `info`), which is updated at each iteration of the main\n",
      "    minimization loop. The function need not be differentiable, and no\n",
      "    derivatives are taken. If bounds are not provided, then an\n",
      "    unbounded line search will be used. If bounds are provided and\n",
      "    the initial guess is within the bounds, then every function\n",
      "    evaluation throughout the minimization procedure will be within\n",
      "    the bounds. If bounds are provided, the initial guess is outside\n",
      "    the bounds, and `direc` is full rank (default has full rank), then\n",
      "    some function evaluations during the first iteration may be\n",
      "    outside the bounds, but every function evaluation after the first\n",
      "    iteration will be within the bounds. If `direc` is not full rank,\n",
      "    then some parameters may not be optimized and the solution is not\n",
      "    guaranteed to be within the bounds.\n",
      "    \n",
      "    Method :ref:`TNC <optimize.minimize-tnc>` uses a truncated Newton\n",
      "    algorithm [5]_, [8]_ to minimize a function with variables subject\n",
      "    to bounds. This algorithm uses gradient information; it is also\n",
      "    called Newton Conjugate-Gradient. It differs from the *Newton-CG*\n",
      "    method described above as it wraps a C implementation and allows\n",
      "    each variable to be given upper and lower bounds.\n",
      "    \n",
      "    **Constrained Minimization**\n",
      "    \n",
      "    Method :ref:`COBYLA <optimize.minimize-cobyla>` uses the\n",
      "    Constrained Optimization BY Linear Approximation (COBYLA) method\n",
      "    [9]_, [10]_, [11]_. The algorithm is based on linear\n",
      "    approximations to the objective function and each constraint. The\n",
      "    method wraps a FORTRAN implementation of the algorithm. The\n",
      "    constraints functions 'fun' may return either a single number\n",
      "    or an array or list of numbers.\n",
      "    \n",
      "    Method :ref:`SLSQP <optimize.minimize-slsqp>` uses Sequential\n",
      "    Least SQuares Programming to minimize a function of several\n",
      "    variables with any combination of bounds, equality and inequality\n",
      "    constraints. The method wraps the SLSQP Optimization subroutine\n",
      "    originally implemented by Dieter Kraft [12]_. Note that the\n",
      "    wrapper handles infinite values in bounds by converting them into\n",
      "    large floating values.\n",
      "    \n",
      "    Method :ref:`trust-constr <optimize.minimize-trustconstr>` is a\n",
      "    trust-region algorithm for constrained optimization. It swiches\n",
      "    between two implementations depending on the problem definition.\n",
      "    It is the most versatile constrained minimization algorithm\n",
      "    implemented in SciPy and the most appropriate for large-scale problems.\n",
      "    For equality constrained problems it is an implementation of Byrd-Omojokun\n",
      "    Trust-Region SQP method described in [17]_ and in [5]_, p. 549. When\n",
      "    inequality constraints are imposed as well, it swiches to the trust-region\n",
      "    interior point method described in [16]_. This interior point algorithm,\n",
      "    in turn, solves inequality constraints by introducing slack variables\n",
      "    and solving a sequence of equality-constrained barrier problems\n",
      "    for progressively smaller values of the barrier parameter.\n",
      "    The previously described equality constrained SQP method is\n",
      "    used to solve the subproblems with increasing levels of accuracy\n",
      "    as the iterate gets closer to a solution.\n",
      "    \n",
      "    **Finite-Difference Options**\n",
      "    \n",
      "    For Method :ref:`trust-constr <optimize.minimize-trustconstr>`\n",
      "    the gradient and the Hessian may be approximated using\n",
      "    three finite-difference schemes: {'2-point', '3-point', 'cs'}.\n",
      "    The scheme 'cs' is, potentially, the most accurate but it\n",
      "    requires the function to correctly handle complex inputs and to\n",
      "    be differentiable in the complex plane. The scheme '3-point' is more\n",
      "    accurate than '2-point' but requires twice as many operations. If the\n",
      "    gradient is estimated via finite-differences the Hessian must be\n",
      "    estimated using one of the quasi-Newton strategies.\n",
      "    \n",
      "    **Method specific options for the** `hess` **keyword**\n",
      "    \n",
      "    +--------------+------+----------+-------------------------+-----+\n",
      "    | method/Hess  | None | callable | '2-point/'3-point'/'cs' | HUS |\n",
      "    +==============+======+==========+=========================+=====+\n",
      "    | Newton-CG    | x    | (n, n)   | x                       | x   |\n",
      "    |              |      | LO       |                         |     |\n",
      "    +--------------+------+----------+-------------------------+-----+\n",
      "    | dogleg       |      | (n, n)   |                         |     |\n",
      "    +--------------+------+----------+-------------------------+-----+\n",
      "    | trust-ncg    |      | (n, n)   | x                       | x   |\n",
      "    +--------------+------+----------+-------------------------+-----+\n",
      "    | trust-krylov |      | (n, n)   | x                       | x   |\n",
      "    +--------------+------+----------+-------------------------+-----+\n",
      "    | trust-exact  |      | (n, n)   |                         |     |\n",
      "    +--------------+------+----------+-------------------------+-----+\n",
      "    | trust-constr | x    | (n, n)   |  x                      | x   |\n",
      "    |              |      | LO       |                         |     |\n",
      "    |              |      | sp       |                         |     |\n",
      "    +--------------+------+----------+-------------------------+-----+\n",
      "    \n",
      "    where LO=LinearOperator, sp=Sparse matrix, HUS=HessianUpdateStrategy\n",
      "    \n",
      "    **Custom minimizers**\n",
      "    \n",
      "    It may be useful to pass a custom minimization method, for example\n",
      "    when using a frontend to this method such as `scipy.optimize.basinhopping`\n",
      "    or a different library.  You can simply pass a callable as the ``method``\n",
      "    parameter.\n",
      "    \n",
      "    The callable is called as ``method(fun, x0, args, **kwargs, **options)``\n",
      "    where ``kwargs`` corresponds to any other parameters passed to `minimize`\n",
      "    (such as `callback`, `hess`, etc.), except the `options` dict, which has\n",
      "    its contents also passed as `method` parameters pair by pair.  Also, if\n",
      "    `jac` has been passed as a bool type, `jac` and `fun` are mangled so that\n",
      "    `fun` returns just the function values and `jac` is converted to a function\n",
      "    returning the Jacobian.  The method shall return an `OptimizeResult`\n",
      "    object.\n",
      "    \n",
      "    The provided `method` callable must be able to accept (and possibly ignore)\n",
      "    arbitrary parameters; the set of parameters accepted by `minimize` may\n",
      "    expand in future versions and then these parameters will be passed to\n",
      "    the method.  You can find an example in the scipy.optimize tutorial.\n",
      "    \n",
      "    References\n",
      "    ----------\n",
      "    .. [1] Nelder, J A, and R Mead. 1965. A Simplex Method for Function\n",
      "        Minimization. The Computer Journal 7: 308-13.\n",
      "    .. [2] Wright M H. 1996. Direct search methods: Once scorned, now\n",
      "        respectable, in Numerical Analysis 1995: Proceedings of the 1995\n",
      "        Dundee Biennial Conference in Numerical Analysis (Eds. D F\n",
      "        Griffiths and G A Watson). Addison Wesley Longman, Harlow, UK.\n",
      "        191-208.\n",
      "    .. [3] Powell, M J D. 1964. An efficient method for finding the minimum of\n",
      "       a function of several variables without calculating derivatives. The\n",
      "       Computer Journal 7: 155-162.\n",
      "    .. [4] Press W, S A Teukolsky, W T Vetterling and B P Flannery.\n",
      "       Numerical Recipes (any edition), Cambridge University Press.\n",
      "    .. [5] Nocedal, J, and S J Wright. 2006. Numerical Optimization.\n",
      "       Springer New York.\n",
      "    .. [6] Byrd, R H and P Lu and J. Nocedal. 1995. A Limited Memory\n",
      "       Algorithm for Bound Constrained Optimization. SIAM Journal on\n",
      "       Scientific and Statistical Computing 16 (5): 1190-1208.\n",
      "    .. [7] Zhu, C and R H Byrd and J Nocedal. 1997. L-BFGS-B: Algorithm\n",
      "       778: L-BFGS-B, FORTRAN routines for large scale bound constrained\n",
      "       optimization. ACM Transactions on Mathematical Software 23 (4):\n",
      "       550-560.\n",
      "    .. [8] Nash, S G. Newton-Type Minimization Via the Lanczos Method.\n",
      "       1984. SIAM Journal of Numerical Analysis 21: 770-778.\n",
      "    .. [9] Powell, M J D. A direct search optimization method that models\n",
      "       the objective and constraint functions by linear interpolation.\n",
      "       1994. Advances in Optimization and Numerical Analysis, eds. S. Gomez\n",
      "       and J-P Hennart, Kluwer Academic (Dordrecht), 51-67.\n",
      "    .. [10] Powell M J D. Direct search algorithms for optimization\n",
      "       calculations. 1998. Acta Numerica 7: 287-336.\n",
      "    .. [11] Powell M J D. A view of algorithms for optimization without\n",
      "       derivatives. 2007.Cambridge University Technical Report DAMTP\n",
      "       2007/NA03\n",
      "    .. [12] Kraft, D. A software package for sequential quadratic\n",
      "       programming. 1988. Tech. Rep. DFVLR-FB 88-28, DLR German Aerospace\n",
      "       Center -- Institute for Flight Mechanics, Koln, Germany.\n",
      "    .. [13] Conn, A. R., Gould, N. I., and Toint, P. L.\n",
      "       Trust region methods. 2000. Siam. pp. 169-200.\n",
      "    .. [14] F. Lenders, C. Kirches, A. Potschka: \"trlib: A vector-free\n",
      "       implementation of the GLTR method for iterative solution of\n",
      "       the trust region problem\", :arxiv:`1611.04718`\n",
      "    .. [15] N. Gould, S. Lucidi, M. Roma, P. Toint: \"Solving the\n",
      "       Trust-Region Subproblem using the Lanczos Method\",\n",
      "       SIAM J. Optim., 9(2), 504--525, (1999).\n",
      "    .. [16] Byrd, Richard H., Mary E. Hribar, and Jorge Nocedal. 1999.\n",
      "        An interior point algorithm for large-scale nonlinear  programming.\n",
      "        SIAM Journal on Optimization 9.4: 877-900.\n",
      "    .. [17] Lalee, Marucha, Jorge Nocedal, and Todd Plantega. 1998. On the\n",
      "        implementation of an algorithm for large-scale equality constrained\n",
      "        optimization. SIAM Journal on Optimization 8.3: 682-706.\n",
      "    \n",
      "    Examples\n",
      "    --------\n",
      "    Let us consider the problem of minimizing the Rosenbrock function. This\n",
      "    function (and its respective derivatives) is implemented in `rosen`\n",
      "    (resp. `rosen_der`, `rosen_hess`) in the `scipy.optimize`.\n",
      "    \n",
      "    >>> from scipy.optimize import minimize, rosen, rosen_der\n",
      "    \n",
      "    A simple application of the *Nelder-Mead* method is:\n",
      "    \n",
      "    >>> x0 = [1.3, 0.7, 0.8, 1.9, 1.2]\n",
      "    >>> res = minimize(rosen, x0, method='Nelder-Mead', tol=1e-6)\n",
      "    >>> res.x\n",
      "    array([ 1.,  1.,  1.,  1.,  1.])\n",
      "    \n",
      "    Now using the *BFGS* algorithm, using the first derivative and a few\n",
      "    options:\n",
      "    \n",
      "    >>> res = minimize(rosen, x0, method='BFGS', jac=rosen_der,\n",
      "    ...                options={'gtol': 1e-6, 'disp': True})\n",
      "    Optimization terminated successfully.\n",
      "             Current function value: 0.000000\n",
      "             Iterations: 26\n",
      "             Function evaluations: 31\n",
      "             Gradient evaluations: 31\n",
      "    >>> res.x\n",
      "    array([ 1.,  1.,  1.,  1.,  1.])\n",
      "    >>> print(res.message)\n",
      "    Optimization terminated successfully.\n",
      "    >>> res.hess_inv\n",
      "    array([[ 0.00749589,  0.01255155,  0.02396251,  0.04750988,  0.09495377],  # may vary\n",
      "           [ 0.01255155,  0.02510441,  0.04794055,  0.09502834,  0.18996269],\n",
      "           [ 0.02396251,  0.04794055,  0.09631614,  0.19092151,  0.38165151],\n",
      "           [ 0.04750988,  0.09502834,  0.19092151,  0.38341252,  0.7664427 ],\n",
      "           [ 0.09495377,  0.18996269,  0.38165151,  0.7664427,   1.53713523]])\n",
      "    \n",
      "    \n",
      "    Next, consider a minimization problem with several constraints (namely\n",
      "    Example 16.4 from [5]_). The objective function is:\n",
      "    \n",
      "    >>> fun = lambda x: (x[0] - 1)**2 + (x[1] - 2.5)**2\n",
      "    \n",
      "    There are three constraints defined as:\n",
      "    \n",
      "    >>> cons = ({'type': 'ineq', 'fun': lambda x:  x[0] - 2 * x[1] + 2},\n",
      "    ...         {'type': 'ineq', 'fun': lambda x: -x[0] - 2 * x[1] + 6},\n",
      "    ...         {'type': 'ineq', 'fun': lambda x: -x[0] + 2 * x[1] + 2})\n",
      "    \n",
      "    And variables must be positive, hence the following bounds:\n",
      "    \n",
      "    >>> bnds = ((0, None), (0, None))\n",
      "    \n",
      "    The optimization problem is solved using the SLSQP method as:\n",
      "    \n",
      "    >>> res = minimize(fun, (2, 0), method='SLSQP', bounds=bnds,\n",
      "    ...                constraints=cons)\n",
      "    \n",
      "    It should converge to the theoretical solution (1.4 ,1.7).\n",
      "\n"
     ]
    }
   ],
   "source": [
    "help(minimize)"
   ]
  },
  {
   "cell_type": "markdown",
   "metadata": {
    "hidden": true
   },
   "source": [
    "Эта функция имеет стандартный интерфейс: нужно передать callable объект, который вычисляет значение и градиент целевой функции, а также точку старта оптимизации — начальное приближение (одномерный `numpy`-массив). Поэтому нам понадобятся функции для сбора и задания всех весов нашей нейросети (именно для них мы всегда записывали параметры слоя в список `layer.params`)"
   ]
  },
  {
   "cell_type": "code",
   "execution_count": 46,
   "metadata": {
    "ExecuteTime": {
     "end_time": "2021-03-03T14:44:52.127145Z",
     "start_time": "2021-03-03T14:44:52.114180Z"
    },
    "hidden": true
   },
   "outputs": [],
   "source": [
    "def get_weights(network):\n",
    "    weights = []\n",
    "    for layer in network:\n",
    "        for param in layer.params:\n",
    "            weights += param.ravel().tolist()\n",
    "    return np.array(weights)\n",
    "\n",
    "\n",
    "def set_weights(weights, network):\n",
    "    i = 0\n",
    "    for layer in network:\n",
    "        for param in layer.params:\n",
    "            l = param.size\n",
    "            param[:] = weights[i:i+l].reshape(param.shape)\n",
    "            i += l"
   ]
  },
  {
   "cell_type": "markdown",
   "metadata": {
    "hidden": true
   },
   "source": [
    "Вам нужно реализовать ту самую функцию, которую мы будем передавать в `minimize`. Эта функция должна брать на вход текущую точку (вектор всех параметров), а также список дополнительных параметров (мы будем передавать через них нашу сеть и обучающие данные) и возвращать значение критерия качества (NLL) и его градиент по параметрам модели."
   ]
  },
  {
   "cell_type": "code",
   "execution_count": 47,
   "metadata": {
    "ExecuteTime": {
     "end_time": "2021-03-03T14:44:52.143103Z",
     "start_time": "2021-03-03T14:44:52.131134Z"
    },
    "hidden": true
   },
   "outputs": [],
   "source": [
    "def compute_loss_grad(weights, args):\n",
    "    \"\"\"\n",
    "    takes current weights and computes cross-entropy and gradients\n",
    "    weights shape: [num_parameters]\n",
    "    output 1: loss (scalar)\n",
    "    output 2: gradint w.r.t. weights, shape: [num_parameters]\n",
    "    \n",
    "    hint: firstly perform forward pass through the whole network\n",
    "    then compute loss and its gradients\n",
    "    then perform backward pass, transmitting first baskward output\n",
    "    to the previos layer and saving second baskward output in a list\n",
    "    finally flatten all the gradients in this list\n",
    "    (in the order from the first to the last layer)\n",
    "    \n",
    "    Do not forget to set weights of the network!\n",
    "    \"\"\"\n",
    "    network, X, y = args\n",
    "    ### your code here\n",
    "    set_weights(weights, network)\n",
    "    probs = forward(network, X)\n",
    "    loss = NLL(probs, y)\n",
    "    grad_output = grad_NLL(probs, y)\n",
    "    list_backwards = []\n",
    "    for layer in network[::-1]:\n",
    "        grad_output, grad_weights = layer.backward(grad_output)\n",
    "        if len(grad_weights) != 0:\n",
    "            list_backwards = list(grad_weights) + list_backwards\n",
    "    return loss, np.array(list_backwards)"
   ]
  },
  {
   "cell_type": "markdown",
   "metadata": {
    "hidden": true
   },
   "source": [
    "Теперь мы готовы обучать нашу нейросеть. "
   ]
  },
  {
   "cell_type": "code",
   "execution_count": 48,
   "metadata": {
    "ExecuteTime": {
     "end_time": "2021-03-03T14:44:52.175017Z",
     "start_time": "2021-03-03T14:44:52.148090Z"
    },
    "hidden": true
   },
   "outputs": [],
   "source": [
    "weights = get_weights(network)"
   ]
  },
  {
   "cell_type": "code",
   "execution_count": 49,
   "metadata": {
    "ExecuteTime": {
     "end_time": "2021-03-03T14:44:53.078366Z",
     "start_time": "2021-03-03T14:44:52.179006Z"
    },
    "hidden": true
   },
   "outputs": [],
   "source": [
    "res = minimize(\n",
    "    compute_loss_grad, weights,       # fun and start point\n",
    "    args=[network, X_train, y_train], # args passed to fun\n",
    "    method=\"L-BFGS-B\",                # optimization method\n",
    "    jac=True                          # says that gradient is computed in fun\n",
    ")"
   ]
  },
  {
   "cell_type": "code",
   "execution_count": 50,
   "metadata": {
    "ExecuteTime": {
     "end_time": "2021-03-03T14:44:53.093332Z",
     "start_time": "2021-03-03T14:44:53.081402Z"
    },
    "hidden": true
   },
   "outputs": [
    {
     "data": {
      "text/plain": [
       "dict_keys(['fun', 'jac', 'nfev', 'njev', 'nit', 'status', 'message', 'x', 'success', 'hess_inv'])"
      ]
     },
     "execution_count": 50,
     "metadata": {},
     "output_type": "execute_result"
    }
   ],
   "source": [
    "res.keys()"
   ]
  },
  {
   "cell_type": "code",
   "execution_count": 51,
   "metadata": {
    "ExecuteTime": {
     "end_time": "2021-03-03T14:44:53.109290Z",
     "start_time": "2021-03-03T14:44:53.096325Z"
    },
    "hidden": true,
    "scrolled": true
   },
   "outputs": [
    {
     "data": {
      "text/plain": [
       "148"
      ]
     },
     "execution_count": 51,
     "metadata": {},
     "output_type": "execute_result"
    }
   ],
   "source": [
    "res[\"nit\"] # number of iterations (should be >> 10)"
   ]
  },
  {
   "cell_type": "code",
   "execution_count": 52,
   "metadata": {
    "ExecuteTime": {
     "end_time": "2021-03-03T14:44:53.125246Z",
     "start_time": "2021-03-03T14:44:53.112286Z"
    },
    "hidden": true
   },
   "outputs": [
    {
     "data": {
      "text/plain": [
       "True"
      ]
     },
     "execution_count": 52,
     "metadata": {},
     "output_type": "execute_result"
    }
   ],
   "source": [
    "res[\"success\"] # should be True"
   ]
  },
  {
   "cell_type": "code",
   "execution_count": 53,
   "metadata": {
    "ExecuteTime": {
     "end_time": "2021-03-03T14:44:53.140244Z",
     "start_time": "2021-03-03T14:44:53.128239Z"
    },
    "hidden": true
   },
   "outputs": [
    {
     "data": {
      "text/plain": [
       "array([ 4.48064213e-03, -8.91057309e-03,  5.25976883e-04, ...,\n",
       "       -3.78180111e-01, -8.12303092e-01, -1.45955468e-02])"
      ]
     },
     "execution_count": 53,
     "metadata": {},
     "output_type": "execute_result"
    }
   ],
   "source": [
    "res[\"x\"] # leraned weights"
   ]
  },
  {
   "cell_type": "markdown",
   "metadata": {
    "hidden": true
   },
   "source": [
    "Выведите качество на обучении (`X_train`, `y_train`) и на контроле (`X_test`, `y_test`). Не забудьте установить веса!"
   ]
  },
  {
   "cell_type": "code",
   "execution_count": 54,
   "metadata": {},
   "outputs": [],
   "source": [
    "from sklearn.metrics import accuracy_score"
   ]
  },
  {
   "cell_type": "code",
   "execution_count": 55,
   "metadata": {
    "ExecuteTime": {
     "end_time": "2021-03-03T14:44:53.172124Z",
     "start_time": "2021-03-03T14:44:53.144212Z"
    },
    "hidden": true
   },
   "outputs": [
    {
     "name": "stdout",
     "output_type": "stream",
     "text": [
      "NLL (Train / Test)   : 1.1780179638067727e-06 / 0.8879365769556936\n",
      "Accuracy (Train / Test): 1.0 / 0.9466666666666667\n"
     ]
    }
   ],
   "source": [
    "### your code here\n",
    "set_weights(res['x'], network)\n",
    "print('NLL (Train / Test)   :', NLL(forward(network, X_train), y_train), '/',  NLL(forward(network, X_test), y_test))\n",
    "print('Accuracy (Train / Test):', accuracy_score(predict(network, X_train), y_train), '/', accuracy_score(predict(network, X_test), y_test))"
   ]
  },
  {
   "cell_type": "markdown",
   "metadata": {
    "hidden": true
   },
   "source": [
    "У `minimize` есть также аргумент `callback` — в нее можно передать функцию, которая будет вызываться после каждой итерации оптимизации. Такую функцию удобно оформить в виде метода класса, который будет сохранять качество на обучении контроле после каждой итерации. Реализуйте этот метод в классе `Callback`:"
   ]
  },
  {
   "cell_type": "code",
   "execution_count": 56,
   "metadata": {
    "ExecuteTime": {
     "end_time": "2021-03-03T14:44:53.188082Z",
     "start_time": "2021-03-03T14:44:53.175117Z"
    },
    "hidden": true
   },
   "outputs": [],
   "source": [
    "class Callback:\n",
    "    def __init__(self, network, X_train, y_train, X_test, y_test, print=False):\n",
    "        self.network = network\n",
    "        self.X_train = X_train\n",
    "        self.X_test = X_test\n",
    "        self.y_train = y_train\n",
    "        self.y_test = y_test\n",
    "        self.print = print\n",
    "        self.train_acc = []\n",
    "        self.test_acc = []\n",
    "        \n",
    "    def call(self, weights):\n",
    "        \"\"\"\n",
    "        Computes quality on train and test set with given weights\n",
    "        and saves to self.train_acc and self.test_acc.\n",
    "        If self.print is True, also prints these 2 values\n",
    "        \"\"\"\n",
    "        ### your code here\n",
    "        set_weights(weights, self.network)\n",
    "        train_acc = accuracy_score(predict(self.network, self.X_train), self.y_train)\n",
    "        test_acc = accuracy_score(predict(self.network, self.X_test), self.y_test)\n",
    "        self.train_acc.append(train_acc)\n",
    "        self.test_acc.append(test_acc)\n",
    "        if self.print:\n",
    "            print('Iteration: ', len(self.train_acc), '-train: ', train_acc, '-test: ', test_acc)"
   ]
  },
  {
   "cell_type": "code",
   "execution_count": 57,
   "metadata": {
    "ExecuteTime": {
     "end_time": "2021-03-03T14:44:54.497924Z",
     "start_time": "2021-03-03T14:44:53.191074Z"
    },
    "hidden": true
   },
   "outputs": [
    {
     "name": "stdout",
     "output_type": "stream",
     "text": [
      "Iteration:  1 -train:  0.10616184112843356 -test:  0.08444444444444445\n",
      "Iteration:  2 -train:  0.10616184112843356 -test:  0.08444444444444445\n",
      "Iteration:  3 -train:  0.10616184112843356 -test:  0.08444444444444445\n",
      "Iteration:  4 -train:  0.10764662212323682 -test:  0.08444444444444445\n",
      "Iteration:  5 -train:  0.2026726057906459 -test:  0.18\n",
      "Iteration:  6 -train:  0.3489235337787676 -test:  0.3511111111111111\n",
      "Iteration:  7 -train:  0.3429844097995546 -test:  0.3333333333333333\n",
      "Iteration:  8 -train:  0.3615441722345954 -test:  0.3488888888888889\n",
      "Iteration:  9 -train:  0.4417223459539718 -test:  0.4688888888888889\n",
      "Iteration:  10 -train:  0.43207126948775054 -test:  0.4266666666666667\n",
      "Iteration:  11 -train:  0.4862657757980698 -test:  0.4711111111111111\n",
      "Iteration:  12 -train:  0.5167037861915368 -test:  0.5066666666666667\n",
      "Iteration:  13 -train:  0.5560504825538233 -test:  0.5422222222222223\n",
      "Iteration:  14 -train:  0.5679287305122495 -test:  0.5688888888888889\n",
      "Iteration:  15 -train:  0.5605048255382331 -test:  0.5488888888888889\n",
      "Iteration:  16 -train:  0.6250927988121752 -test:  0.5955555555555555\n",
      "Iteration:  17 -train:  0.6622123236822569 -test:  0.6511111111111111\n",
      "Iteration:  18 -train:  0.7045285820341499 -test:  0.6866666666666666\n",
      "Iteration:  19 -train:  0.682256867112101 -test:  0.6644444444444444\n",
      "Iteration:  20 -train:  0.6896807720861173 -test:  0.6755555555555556\n",
      "Iteration:  21 -train:  0.7052709725315516 -test:  0.68\n",
      "Iteration:  22 -train:  0.7126948775055679 -test:  0.6866666666666666\n",
      "Iteration:  23 -train:  0.7149220489977728 -test:  0.6911111111111111\n",
      "Iteration:  24 -train:  0.7290274684484038 -test:  0.7\n",
      "Iteration:  25 -train:  0.7498144023756496 -test:  0.7111111111111111\n",
      "Iteration:  26 -train:  0.7564959168522642 -test:  0.7444444444444445\n",
      "Iteration:  27 -train:  0.7676317743132888 -test:  0.7577777777777778\n",
      "Iteration:  28 -train:  0.7980697847067557 -test:  0.7644444444444445\n",
      "Iteration:  29 -train:  0.8054936896807721 -test:  0.7666666666666667\n",
      "Iteration:  30 -train:  0.8144023756495917 -test:  0.7822222222222223\n",
      "Iteration:  31 -train:  0.807720861172977 -test:  0.7822222222222223\n",
      "Iteration:  32 -train:  0.8329621380846325 -test:  0.8066666666666666\n",
      "Iteration:  33 -train:  0.8314773570898293 -test:  0.8133333333333334\n",
      "Iteration:  34 -train:  0.8351893095768375 -test:  0.82\n",
      "Iteration:  35 -train:  0.8433556050482554 -test:  0.82\n",
      "Iteration:  36 -train:  0.8485523385300668 -test:  0.8244444444444444\n",
      "Iteration:  37 -train:  0.8544914625092799 -test:  0.8311111111111111\n",
      "Iteration:  38 -train:  0.8544914625092799 -test:  0.8355555555555556\n",
      "Iteration:  39 -train:  0.8715664439495174 -test:  0.8444444444444444\n",
      "Iteration:  40 -train:  0.8834446919079436 -test:  0.8488888888888889\n",
      "Iteration:  41 -train:  0.8841870824053452 -test:  0.8555555555555555\n",
      "Iteration:  42 -train:  0.8834446919079436 -test:  0.8644444444444445\n",
      "Iteration:  43 -train:  0.8923533778767632 -test:  0.8777777777777778\n",
      "Iteration:  44 -train:  0.8997772828507795 -test:  0.8777777777777778\n",
      "Iteration:  45 -train:  0.9049740163325909 -test:  0.8955555555555555\n",
      "Iteration:  46 -train:  0.9049740163325909 -test:  0.8911111111111111\n",
      "Iteration:  47 -train:  0.9057164068299925 -test:  0.8888888888888888\n",
      "Iteration:  48 -train:  0.9168522642910171 -test:  0.8977777777777778\n",
      "Iteration:  49 -train:  0.9168522642910171 -test:  0.8888888888888888\n",
      "Iteration:  50 -train:  0.9220489977728286 -test:  0.9111111111111111\n",
      "Iteration:  51 -train:  0.9242761692650334 -test:  0.9111111111111111\n",
      "Iteration:  52 -train:  0.9235337787676318 -test:  0.9155555555555556\n",
      "Iteration:  53 -train:  0.9205642167780252 -test:  0.9111111111111111\n",
      "Iteration:  54 -train:  0.933184855233853 -test:  0.9177777777777778\n",
      "Iteration:  55 -train:  0.9324424647364514 -test:  0.9177777777777778\n",
      "Iteration:  56 -train:  0.9368968077208611 -test:  0.9222222222222223\n",
      "Iteration:  57 -train:  0.933184855233853 -test:  0.9244444444444444\n",
      "Iteration:  58 -train:  0.933184855233853 -test:  0.9177777777777778\n",
      "Iteration:  59 -train:  0.9383815887156645 -test:  0.9288888888888889\n",
      "Iteration:  60 -train:  0.9420935412026726 -test:  0.92\n",
      "Iteration:  61 -train:  0.947290274684484 -test:  0.9222222222222223\n",
      "Iteration:  62 -train:  0.9532293986636972 -test:  0.9222222222222223\n",
      "Iteration:  63 -train:  0.949517446176689 -test:  0.9288888888888889\n",
      "Iteration:  64 -train:  0.9502598366740905 -test:  0.9311111111111111\n",
      "Iteration:  65 -train:  0.955456570155902 -test:  0.9288888888888889\n",
      "Iteration:  66 -train:  0.955456570155902 -test:  0.9355555555555556\n",
      "Iteration:  67 -train:  0.9621380846325167 -test:  0.9288888888888889\n",
      "Iteration:  68 -train:  0.9621380846325167 -test:  0.9355555555555556\n",
      "Iteration:  69 -train:  0.9643652561247216 -test:  0.9466666666666667\n",
      "Iteration:  70 -train:  0.9680772086117297 -test:  0.9488888888888889\n",
      "Iteration:  71 -train:  0.9710467706013363 -test:  0.9466666666666667\n",
      "Iteration:  72 -train:  0.9740163325909429 -test:  0.9466666666666667\n",
      "Iteration:  73 -train:  0.9755011135857461 -test:  0.9488888888888889\n",
      "Iteration:  74 -train:  0.9755011135857461 -test:  0.9533333333333334\n",
      "Iteration:  75 -train:  0.9747587230883444 -test:  0.9466666666666667\n",
      "Iteration:  76 -train:  0.9747587230883444 -test:  0.9466666666666667\n",
      "Iteration:  77 -train:  0.9784706755753526 -test:  0.9488888888888889\n",
      "Iteration:  78 -train:  0.9784706755753526 -test:  0.9511111111111111\n",
      "Iteration:  79 -train:  0.9792130660727543 -test:  0.9511111111111111\n",
      "Iteration:  80 -train:  0.9784706755753526 -test:  0.9488888888888889\n",
      "Iteration:  81 -train:  0.9821826280623608 -test:  0.9511111111111111\n",
      "Iteration:  82 -train:  0.985894580549369 -test:  0.9577777777777777\n",
      "Iteration:  83 -train:  0.9844097995545658 -test:  0.9488888888888889\n",
      "Iteration:  84 -train:  0.9873793615441723 -test:  0.9577777777777777\n",
      "Iteration:  85 -train:  0.9881217520415738 -test:  0.9577777777777777\n",
      "Iteration:  86 -train:  0.9881217520415738 -test:  0.9577777777777777\n",
      "Iteration:  87 -train:  0.9844097995545658 -test:  0.9577777777777777\n",
      "Iteration:  88 -train:  0.9888641425389755 -test:  0.9533333333333334\n",
      "Iteration:  89 -train:  0.9933184855233853 -test:  0.9533333333333334\n",
      "Iteration:  90 -train:  0.9948032665181886 -test:  0.9511111111111111\n",
      "Iteration:  91 -train:  0.9948032665181886 -test:  0.9444444444444444\n",
      "Iteration:  92 -train:  0.994060876020787 -test:  0.9466666666666667\n",
      "Iteration:  93 -train:  0.9955456570155902 -test:  0.9488888888888889\n",
      "Iteration:  94 -train:  0.9962880475129918 -test:  0.9466666666666667\n",
      "Iteration:  95 -train:  0.9962880475129918 -test:  0.9466666666666667\n",
      "Iteration:  96 -train:  0.9962880475129918 -test:  0.9466666666666667\n",
      "Iteration:  97 -train:  0.9955456570155902 -test:  0.9511111111111111\n",
      "Iteration:  98 -train:  0.9962880475129918 -test:  0.9533333333333334\n",
      "Iteration:  99 -train:  0.9970304380103935 -test:  0.9533333333333334\n",
      "Iteration:  100 -train:  0.9970304380103935 -test:  0.9533333333333334\n",
      "Iteration:  101 -train:  0.9977728285077951 -test:  0.9533333333333334\n",
      "Iteration:  102 -train:  0.9970304380103935 -test:  0.9555555555555556\n",
      "Iteration:  103 -train:  0.9977728285077951 -test:  0.9533333333333334\n",
      "Iteration:  104 -train:  0.9977728285077951 -test:  0.9488888888888889\n",
      "Iteration:  105 -train:  0.9977728285077951 -test:  0.9488888888888889\n",
      "Iteration:  106 -train:  0.9977728285077951 -test:  0.9511111111111111\n",
      "Iteration:  107 -train:  0.9977728285077951 -test:  0.9466666666666667\n",
      "Iteration:  108 -train:  0.9977728285077951 -test:  0.9488888888888889\n",
      "Iteration:  109 -train:  0.9985152190051967 -test:  0.9466666666666667\n",
      "Iteration:  110 -train:  0.9992576095025983 -test:  0.9444444444444444\n",
      "Iteration:  111 -train:  1.0 -test:  0.9444444444444444\n",
      "Iteration:  112 -train:  1.0 -test:  0.9444444444444444\n",
      "Iteration:  113 -train:  1.0 -test:  0.9511111111111111\n",
      "Iteration:  114 -train:  1.0 -test:  0.9511111111111111\n",
      "Iteration:  115 -train:  1.0 -test:  0.9511111111111111\n",
      "Iteration:  116 -train:  1.0 -test:  0.9488888888888889\n",
      "Iteration:  117 -train:  1.0 -test:  0.9488888888888889\n",
      "Iteration:  118 -train:  1.0 -test:  0.9511111111111111\n",
      "Iteration:  119 -train:  1.0 -test:  0.9466666666666667\n",
      "Iteration:  120 -train:  1.0 -test:  0.9444444444444444\n",
      "Iteration:  121 -train:  1.0 -test:  0.9466666666666667\n",
      "Iteration:  122 -train:  1.0 -test:  0.9466666666666667\n",
      "Iteration:  123 -train:  1.0 -test:  0.9488888888888889\n",
      "Iteration:  124 -train:  1.0 -test:  0.9511111111111111\n",
      "Iteration:  125 -train:  1.0 -test:  0.9511111111111111\n",
      "Iteration:  126 -train:  1.0 -test:  0.9511111111111111\n",
      "Iteration:  127 -train:  1.0 -test:  0.9533333333333334\n",
      "Iteration:  128 -train:  1.0 -test:  0.9533333333333334\n",
      "Iteration:  129 -train:  1.0 -test:  0.9533333333333334\n",
      "Iteration:  130 -train:  1.0 -test:  0.9533333333333334\n",
      "Iteration:  131 -train:  1.0 -test:  0.9511111111111111\n",
      "Iteration:  132 -train:  1.0 -test:  0.9511111111111111\n",
      "Iteration:  133 -train:  1.0 -test:  0.9511111111111111\n",
      "Iteration:  134 -train:  1.0 -test:  0.9488888888888889\n",
      "Iteration:  135 -train:  1.0 -test:  0.9488888888888889\n",
      "Iteration:  136 -train:  1.0 -test:  0.9466666666666667\n",
      "Iteration:  137 -train:  1.0 -test:  0.9488888888888889\n",
      "Iteration:  138 -train:  1.0 -test:  0.9466666666666667\n",
      "Iteration:  139 -train:  1.0 -test:  0.9466666666666667\n",
      "Iteration:  140 -train:  1.0 -test:  0.9444444444444444\n",
      "Iteration:  141 -train:  1.0 -test:  0.9444444444444444\n",
      "Iteration:  142 -train:  1.0 -test:  0.9422222222222222\n",
      "Iteration:  143 -train:  1.0 -test:  0.9466666666666667\n",
      "Iteration:  144 -train:  1.0 -test:  0.9466666666666667\n",
      "Iteration:  145 -train:  1.0 -test:  0.9466666666666667\n",
      "Iteration:  146 -train:  1.0 -test:  0.9444444444444444\n",
      "Iteration:  147 -train:  1.0 -test:  0.9444444444444444\n",
      "Iteration:  148 -train:  1.0 -test:  0.9466666666666667\n"
     ]
    }
   ],
   "source": [
    "cb = Callback(network, X_train, y_train, X_test, y_test, print=True)\n",
    "\n",
    "res = minimize(\n",
    "    compute_loss_grad, weights,  \n",
    "    args=[network, X_train, y_train], \n",
    "    method=\"L-BFGS-B\",\n",
    "    jac=True,\n",
    "    callback=cb.call\n",
    ")"
   ]
  },
  {
   "cell_type": "markdown",
   "metadata": {
    "hidden": true
   },
   "source": [
    "Изобразите на графике кривую качества на обучени и контроле по итерациям:"
   ]
  },
  {
   "cell_type": "code",
   "execution_count": 175,
   "metadata": {
    "ExecuteTime": {
     "end_time": "2021-03-03T14:44:54.816117Z",
     "start_time": "2021-03-03T14:44:54.500922Z"
    },
    "hidden": true
   },
   "outputs": [
    {
     "data": {
      "image/png": "[encoded data removed]",
      "text/plain": [
       "<Figure size 1000x500 with 1 Axes>"
      ]
     },
     "metadata": {},
     "output_type": "display_data"
    }
   ],
   "source": [
    "fig, ax = plt.subplots(1, 1, figsize=(10, 5))\n",
    "ax.plot(cb.train_acc, label=\"train acc\")\n",
    "ax.plot(cb.test_acc, label=\"test acc\")\n",
    "ax.set_xlabel(\"Iteration\")\n",
    "ax.set_ylabel(\"Accuracy\")\n",
    "ax.grid(True)\n",
    "ax.legend()\n",
    "\n",
    "fig.tight_layout()\n",
    "plt.show()"
   ]
  },
  {
   "cell_type": "markdown",
   "metadata": {
    "heading_collapsed": true,
    "hidden": true
   },
   "source": [
    "### `Эксперименты с числом слоев (1 балл)`"
   ]
  },
  {
   "cell_type": "markdown",
   "metadata": {
    "hidden": true
   },
   "source": [
    "Ясно, что из-за случайного начального приближения с каждым запуском обучения мы будем получать различное качество. Попробуем обучить нашу нейросеть с разным числом слоев несколько раз.\n",
    "\n",
    "Заполните матрицы `accs_train` и `accs_test`. В позиции `[i, j]` должна стоять величина доли правильных ответов сети с $i+1$ полносвязными слоями при $j$-м запуске (все запуски идентичны)."
   ]
  },
  {
   "cell_type": "code",
   "execution_count": 176,
   "metadata": {
    "ExecuteTime": {
     "end_time": "2021-03-03T14:44:54.832074Z",
     "start_time": "2021-03-03T14:44:54.819071Z"
    },
    "hidden": true
   },
   "outputs": [],
   "source": [
    "accs_train = np.zeros((5, 5))\n",
    "accs_test = np.zeros((5, 5))"
   ]
  },
  {
   "cell_type": "code",
   "execution_count": 177,
   "metadata": {
    "ExecuteTime": {
     "end_time": "2021-03-03T14:45:56.444624Z",
     "start_time": "2021-03-03T14:44:54.836024Z"
    },
    "hidden": true
   },
   "outputs": [],
   "source": [
    "### your code here\n",
    "for i in range(5):\n",
    "    for j in range(5):\n",
    "        network = make_network(input_size, hidden_layers_size, output_size, i + 1, ReLU)\n",
    "        weights = get_weights(network)\n",
    "        res = minimize(compute_loss_grad, weights, args=[network, X_train, y_train], method=\"L-BFGS-B\", jac=True)\n",
    "        set_weights(res['x'], network)\n",
    "        accs_train[i][j] = accuracy_score(predict(network, X_train), y_train)\n",
    "        accs_test[i][j] = accuracy_score(predict(network, X_test), y_test)"
   ]
  },
  {
   "cell_type": "markdown",
   "metadata": {
    "hidden": true
   },
   "source": [
    "Построим боксплоты полученного качества (горизонтальная линия в каждом столбце — среднее, прямоугольник показывает разброс)."
   ]
  },
  {
   "cell_type": "code",
   "execution_count": 178,
   "metadata": {
    "ExecuteTime": {
     "end_time": "2021-03-03T14:45:57.060827Z",
     "start_time": "2021-03-03T14:45:56.447467Z"
    },
    "collapsed": true,
    "hidden": true
   },
   "outputs": [
    {
     "data": {
      "image/png": "[encoded data removed]",
      "text/plain": [
       "<Figure size 1000x800 with 2 Axes>"
      ]
     },
     "metadata": {},
     "output_type": "display_data"
    }
   ],
   "source": [
    "fig, axes = plt.subplots(2, 1, figsize=(10, 8))\n",
    "\n",
    "axes[0].boxplot(accs_train.T, showfliers=False)\n",
    "axes[1].boxplot(accs_test.T, showfliers=False)\n",
    "\n",
    "axes[0].set_xlabel(\"Number of layers\")\n",
    "axes[1].set_xlabel(\"Number of layers\")\n",
    "\n",
    "axes[0].set_ylabel(\"Train accuracy\")\n",
    "axes[1].set_ylabel(\"Test accuracy\")\n",
    "\n",
    "axes[0].set_title(\"Train quality in 5 runs\")\n",
    "axes[1].set_title(\"Test quality in 5 runs\")\n",
    "\n",
    "axes[0].grid(True)\n",
    "axes[1].grid(True)\n",
    "\n",
    "fig.tight_layout()\n",
    "plt.show()"
   ]
  },
  {
   "attachments": {},
   "cell_type": "markdown",
   "metadata": {
    "hidden": true
   },
   "source": [
    "Дайте развёрнутый ответ на вопросы (в этой же ячейке):\n",
    "* Как изменяются качество на обучении и контроле и устойчивость процесса обучения при увеличении числа слоев?\n",
    "* Можно ли сказать, что логистическая регрессия (линейная модель) дает качество хуже, чем нелинейная модель?\n",
    "\n",
    "__Ответы:__\n",
    "\n",
    "Модели с любым количеством слоёв достаточно, чтобы полностью запомнить обучающую выборку, таким образом у нас точность на траине 100% и отсутствие разброса.\n",
    "\n",
    "Что касается контрольной выборки, по графику можно сделать вывод, что подбор количества слоёв оказывает значительное влияение на качество нашей модели. В нашем случае модели с 2 и 3 показывают лучшее качество, но обладая при этом большим разбросом. Модели с 1, 4 и 5 слоями более устойчивы. Таким образом, нельзя заранее сказать, будет ли лучше модель с увелечением количества слоёв.\n",
    "\n",
    "Однозначного ответа на то, показывает ли линейная модель качество хуже, чем нелинейная, дать не получится: линейная модель (1 слой) оказывается лучше моделей с 4-5 слоями, но хуже, чем с 2-3 слоями (но она более устойчива), на которых уже присутствует слой нелинейности."
   ]
  },
  {
   "cell_type": "markdown",
   "metadata": {
    "heading_collapsed": true,
    "hidden": true
   },
   "source": [
    "### `Эксперименты c различными инициализациями весов (1 балл)`"
   ]
  },
  {
   "cell_type": "markdown",
   "metadata": {
    "hidden": true
   },
   "source": [
    "Как уже было сказано, начальная инициализация весов нейронной сети может сильно влиять на процесс ее обучения и, как следствие, на ее качество.\n",
    "\n",
    "В этом пункте вам предлагается попробовать обучить несколько нейронных сетей с различными инициализациями слоев.\n",
    "\n",
    "Для этого необходимо реализовать функцию, инициализирующую веса линейных слоёв нашей нейронной сети. Добавьте в функционал данного метода возможность инициализировать его веса с помощью инициализации Kaiming (используется, если в нейронной сети в качестве функций активации используется ReLU) и инициализации Xavier (используется, если в нейронной сети в качестве функций активации используется Tanh или Sigmoid):"
   ]
  },
  {
   "cell_type": "code",
   "execution_count": 60,
   "metadata": {
    "ExecuteTime": {
     "end_time": "2021-03-03T14:45:57.075786Z",
     "start_time": "2021-03-03T14:45:57.063819Z"
    },
    "code_folding": [],
    "hidden": true
   },
   "outputs": [],
   "source": [
    "def initialize_network(network, initialization):\n",
    "    for layer in network:\n",
    "        if isinstance(layer, Dense):\n",
    "            input_units, output_units = layer.weights.shape\n",
    "            if initialization == 'Kaiming':\n",
    "                ### your code here\n",
    "                std = np.sqrt(2 / input_units)\n",
    "                layer.weights = np.random.randn(input_units, output_units) * std\n",
    "            elif initialization == 'Xavier':\n",
    "                ### your code here\n",
    "                std = np.sqrt(6 / (input_units + output_units))\n",
    "                layer.weights = np.random.uniform(-std, std, (input_units, output_units))\n",
    "            else:\n",
    "                # Initialize weights with small random numbers from normal distribution.\n",
    "                # In this case `initialization` represents a standard deviation\n",
    "                # for normal distribution.\n",
    "                layer.weights = np.random.randn(input_units, output_units) * initialization\n",
    "            layer.biases = np.zeros_like(layer.biases)\n",
    "            \n",
    "            layer.params = [layer.weights, layer.biases]"
   ]
  },
  {
   "cell_type": "markdown",
   "metadata": {
    "hidden": true
   },
   "source": [
    "Теперь попробуйте для каждой из 3 инициализаций обучить нейронную сеть несколько раз. Попробуйте проделать данную операцию при зафиксированном числе слоев равным 3, 4 и 5."
   ]
  },
  {
   "cell_type": "markdown",
   "metadata": {
    "heading_collapsed": true,
    "hidden": true
   },
   "source": [
    "#### `3 слоя`\n",
    "\n",
    "Зафиксируйте в сети число слоев равное трем."
   ]
  },
  {
   "cell_type": "markdown",
   "metadata": {
    "hidden": true
   },
   "source": [
    "Заполните матрицы `accs_train` и `accs_test`. В позиции `[i, j]` должна стоять величина доли правильных ответов сети при $j$-м запуске (все запуски идентичны) с инициализацией Kaiming при $i = 3$, с инициализацией Xavier при $i = 4$ и с инициализацией из нормального распределения с фиксированными параметрами при $0 \\leqslant i \\leqslant 2$ (попробуйте здесь 3 разных параметра для стандартного отклонения для нормального распределения, например: `1e-3`, `1e-2`, `1e-1`). Заметьте, что при большом числе слоев слишком низкое стандартное отклонение может не давать нейронной сети нормально обучиться."
   ]
  },
  {
   "cell_type": "code",
   "execution_count": 193,
   "metadata": {
    "ExecuteTime": {
     "end_time": "2021-03-03T14:45:57.091744Z",
     "start_time": "2021-03-03T14:45:57.079777Z"
    },
    "hidden": true
   },
   "outputs": [],
   "source": [
    "init_vars = [1e-3, 1e-2, 1e-1, 'Kaiming', 'Xavier']"
   ]
  },
  {
   "cell_type": "code",
   "execution_count": 194,
   "metadata": {
    "ExecuteTime": {
     "end_time": "2021-03-03T14:45:57.107701Z",
     "start_time": "2021-03-03T14:45:57.094737Z"
    },
    "hidden": true
   },
   "outputs": [],
   "source": [
    "accs_train = np.zeros((5, 5))\n",
    "accs_test = np.zeros((5, 5))"
   ]
  },
  {
   "cell_type": "code",
   "execution_count": 195,
   "metadata": {
    "ExecuteTime": {
     "end_time": "2021-03-03T14:46:27.904407Z",
     "start_time": "2021-03-03T14:45:57.111690Z"
    },
    "hidden": true
   },
   "outputs": [],
   "source": [
    "### your code here\n",
    "for i in range(5):\n",
    "    for j in range(5):\n",
    "        network = make_network(input_size, hidden_layers_size, output_size, 3, ReLU)\n",
    "        initialize_network(network, init_vars[i])\n",
    "        weights = get_weights(network)\n",
    "        res = minimize(compute_loss_grad, weights, args=[network, X_train, y_train], method=\"L-BFGS-B\", jac=True)\n",
    "        set_weights(res['x'], network)\n",
    "        accs_train[i][j] = accuracy_score(predict(network, X_train), y_train)\n",
    "        accs_test[i][j] = accuracy_score(predict(network, X_test), y_test)"
   ]
  },
  {
   "cell_type": "markdown",
   "metadata": {
    "hidden": true
   },
   "source": [
    "Построим боксплоты полученного качества (горизонтальная линия в каждом столбце — среднее, прямоугольник показывает разброс)."
   ]
  },
  {
   "cell_type": "code",
   "execution_count": 184,
   "metadata": {
    "ExecuteTime": {
     "end_time": "2021-03-03T14:46:28.632502Z",
     "start_time": "2021-03-03T14:46:27.907401Z"
    },
    "hidden": true,
    "scrolled": false
   },
   "outputs": [
    {
     "data": {
      "image/png": "[encoded data removed]",
      "text/plain": [
       "<Figure size 1000x500 with 1 Axes>"
      ]
     },
     "metadata": {},
     "output_type": "display_data"
    }
   ],
   "source": [
    "init_vars_for_plot = [(x if isinstance(x, str) else fr\"$\\sigma = {x}$\") for x in init_vars]\n",
    "\n",
    "fig, ax = plt.subplots(1, 1, figsize=(10, 5))\n",
    "\n",
    "ax.boxplot(accs_test.T, labels=init_vars_for_plot, showfliers=False)\n",
    "\n",
    "ax.set_title(\"Test quality in 5 runs\")\n",
    "ax.set_xlabel(\"Initialization\")\n",
    "ax.set_ylabel(\"Test accuracy\")\n",
    "ax.grid(True)\n",
    "\n",
    "fig.tight_layout()\n",
    "plt.show()"
   ]
  },
  {
   "cell_type": "code",
   "execution_count": 197,
   "metadata": {},
   "outputs": [
    {
     "data": {
      "image/png": "[encoded data removed]",
      "text/plain": [
       "<Figure size 1000x500 with 1 Axes>"
      ]
     },
     "metadata": {},
     "output_type": "display_data"
    }
   ],
   "source": [
    "init_vars_for_plot = [(x if isinstance(x, str) else fr\"$\\sigma = {x}$\") for x in init_vars]\n",
    "\n",
    "fig, ax = plt.subplots(1, 1, figsize=(10, 5))\n",
    "\n",
    "ax.boxplot(accs_train.T, labels=init_vars_for_plot, showfliers=False)\n",
    "\n",
    "ax.set_title(\"Train quality in 5 runs\")\n",
    "ax.set_xlabel(\"Initialization\")\n",
    "ax.set_ylabel(\"Train accuracy\")\n",
    "ax.grid(True)\n",
    "\n",
    "fig.tight_layout()\n",
    "plt.show()"
   ]
  },
  {
   "cell_type": "markdown",
   "metadata": {
    "heading_collapsed": true,
    "hidden": true
   },
   "source": [
    "#### `4 слоя`\n",
    "\n",
    "Выполните тут тот же код, что и в предыдущем пункте, но только уже с 4 слоями в сети."
   ]
  },
  {
   "cell_type": "code",
   "execution_count": 185,
   "metadata": {
    "ExecuteTime": {
     "end_time": "2021-03-03T14:45:57.091744Z",
     "start_time": "2021-03-03T14:45:57.079777Z"
    },
    "hidden": true
   },
   "outputs": [],
   "source": [
    "init_vars = [5e-3, 1e-2, 1e-1, 'Kaiming', 'Xavier']"
   ]
  },
  {
   "cell_type": "code",
   "execution_count": 186,
   "metadata": {
    "ExecuteTime": {
     "end_time": "2021-03-03T14:45:57.107701Z",
     "start_time": "2021-03-03T14:45:57.094737Z"
    },
    "hidden": true
   },
   "outputs": [],
   "source": [
    "accs_train = np.zeros((5, 5))\n",
    "accs_test = np.zeros((5, 5))"
   ]
  },
  {
   "cell_type": "code",
   "execution_count": 187,
   "metadata": {
    "ExecuteTime": {
     "end_time": "2021-03-03T14:46:27.904407Z",
     "start_time": "2021-03-03T14:45:57.111690Z"
    },
    "hidden": true
   },
   "outputs": [],
   "source": [
    "### your code here\n",
    "for i in range(5):\n",
    "    for j in range(5):\n",
    "        network = make_network(input_size, hidden_layers_size, output_size, 4, ReLU)\n",
    "        initialize_network(network, init_vars[i])\n",
    "        weights = get_weights(network)\n",
    "        res = minimize(compute_loss_grad, weights, args=[network, X_train, y_train], method=\"L-BFGS-B\", jac=True)\n",
    "        set_weights(res['x'], network)\n",
    "        accs_train[i][j] = accuracy_score(predict(network, X_train), y_train)\n",
    "        accs_test[i][j] = accuracy_score(predict(network, X_test), y_test)"
   ]
  },
  {
   "cell_type": "markdown",
   "metadata": {
    "hidden": true
   },
   "source": [
    "Построим боксплоты полученного качества (горизонтальная линия в каждом столбце — среднее, прямоугольник показывает разброс)."
   ]
  },
  {
   "cell_type": "code",
   "execution_count": 188,
   "metadata": {
    "ExecuteTime": {
     "end_time": "2021-03-03T14:46:28.632502Z",
     "start_time": "2021-03-03T14:46:27.907401Z"
    },
    "hidden": true,
    "scrolled": false
   },
   "outputs": [
    {
     "data": {
      "image/png": "[encoded data removed]",
      "text/plain": [
       "<Figure size 1000x500 with 1 Axes>"
      ]
     },
     "metadata": {},
     "output_type": "display_data"
    }
   ],
   "source": [
    "init_vars_for_plot = [(x if isinstance(x, str) else fr\"$\\sigma = {x}$\") for x in init_vars]\n",
    "\n",
    "fig, ax = plt.subplots(1, 1, figsize=(10, 5))\n",
    "\n",
    "ax.boxplot(accs_test.T, labels=init_vars_for_plot, showfliers=False)\n",
    "\n",
    "ax.set_title(\"Test quality in 5 runs\")\n",
    "ax.set_xlabel(\"Initialization\")\n",
    "ax.set_ylabel(\"Test accuracy\")\n",
    "ax.grid(True)\n",
    "\n",
    "fig.tight_layout()\n",
    "plt.show()"
   ]
  },
  {
   "cell_type": "markdown",
   "metadata": {
    "heading_collapsed": true,
    "hidden": true
   },
   "source": [
    "#### `5 слоев`\n",
    "\n",
    "Выполните тут тот же код, что и в предыдущем пункте, но только уже с 5 слоями в сети."
   ]
  },
  {
   "cell_type": "code",
   "execution_count": 189,
   "metadata": {
    "ExecuteTime": {
     "end_time": "2021-03-03T14:45:57.091744Z",
     "start_time": "2021-03-03T14:45:57.079777Z"
    },
    "hidden": true
   },
   "outputs": [],
   "source": [
    "init_vars = [1e-2, 1e-1, 1e0, 'Kaiming', 'Xavier']"
   ]
  },
  {
   "cell_type": "code",
   "execution_count": 190,
   "metadata": {
    "ExecuteTime": {
     "end_time": "2021-03-03T14:45:57.107701Z",
     "start_time": "2021-03-03T14:45:57.094737Z"
    },
    "hidden": true
   },
   "outputs": [],
   "source": [
    "accs_train = np.zeros((5, 5))\n",
    "accs_test = np.zeros((5, 5))"
   ]
  },
  {
   "cell_type": "code",
   "execution_count": 191,
   "metadata": {
    "ExecuteTime": {
     "end_time": "2021-03-03T14:46:27.904407Z",
     "start_time": "2021-03-03T14:45:57.111690Z"
    },
    "hidden": true
   },
   "outputs": [],
   "source": [
    "### your code here\n",
    "for i in range(5):\n",
    "    for j in range(5):\n",
    "        network = make_network(input_size, hidden_layers_size, output_size, 5, ReLU)\n",
    "        initialize_network(network, init_vars[i])\n",
    "        weights = get_weights(network)\n",
    "        res = minimize(compute_loss_grad, weights, args=[network, X_train, y_train], method=\"L-BFGS-B\", jac=True)\n",
    "        set_weights(res['x'], network)\n",
    "        accs_train[i][j] = accuracy_score(predict(network, X_train), y_train)\n",
    "        accs_test[i][j] = accuracy_score(predict(network, X_test), y_test)"
   ]
  },
  {
   "cell_type": "markdown",
   "metadata": {
    "hidden": true
   },
   "source": [
    "Построим боксплоты полученного качества (горизонтальная линия в каждом столбце — среднее, прямоугольник показывает разброс)."
   ]
  },
  {
   "cell_type": "code",
   "execution_count": 192,
   "metadata": {
    "ExecuteTime": {
     "end_time": "2021-03-03T14:46:28.632502Z",
     "start_time": "2021-03-03T14:46:27.907401Z"
    },
    "hidden": true,
    "scrolled": false
   },
   "outputs": [
    {
     "data": {
      "image/png": "[encoded data removed]",
      "text/plain": [
       "<Figure size 1000x500 with 1 Axes>"
      ]
     },
     "metadata": {},
     "output_type": "display_data"
    }
   ],
   "source": [
    "init_vars_for_plot = [(x if isinstance(x, str) else fr\"$\\sigma = {x}$\") for x in init_vars]\n",
    "\n",
    "fig, ax = plt.subplots(1, 1, figsize=(10, 5))\n",
    "\n",
    "ax.boxplot(accs_test.T, labels=init_vars_for_plot, showfliers=False)\n",
    "\n",
    "ax.set_title(\"Test quality in 5 runs\")\n",
    "ax.set_xlabel(\"Initialization\")\n",
    "ax.set_ylabel(\"Test accuracy\")\n",
    "ax.grid(True)\n",
    "\n",
    "fig.tight_layout()\n",
    "plt.show()"
   ]
  },
  {
   "attachments": {},
   "cell_type": "markdown",
   "metadata": {
    "hidden": true
   },
   "source": [
    "Дайте развёрнутый ответ на вопросы (в этой же ячейке):\n",
    "* Как отличаются качество на обучении и контроле и устойчивость процесса обучения при различных инициализациях?\n",
    "* Какие инициализации помогают обучать более глубокие сети?\n",
    "\n",
    "__Ответы:__\n",
    "\n",
    "На обучении ситуация не меняется: от инициализации факт запоминания выборки на траине остаётся фактом. \n",
    "На трёх слоях неплохое качество показывают нормальное распределение со стандартным отклонением 1 и Kaiming, но последний более устойчив. На четырёх слоях Kaiming и Xavier гораздо устойчивее и показывают лучшую точность. При пяти слоях нормальное распределение показывает неудовлетворительные результаты: при стандартном отклонении, равном 1, разброс превышает 0.5. Kaiming и Xavier же снова более устойчивы и точны. Поэтому ясно, что при обучении глубоких сетей стоит использовать при инициализации Xavier и Kaiming, а не нормальное распределение."
   ]
  },
  {
   "cell_type": "markdown",
   "metadata": {
    "hidden": true
   },
   "source": [
    "Теперь сравним скорость обучения при различных инициализациях. Создайте два списка списков `accs_test_on_iterations`, `accs_train_on_iterations` в каждом из которых в позиции `[i]` (см. описание `i` в предыдущем пункте) будет лежать список из значений `accuracy` на тестовой и обучающей выборках соотвественно, полученных во время обучения модели. Количество слоев в сети зафиксируйте равным 4."
   ]
  },
  {
   "cell_type": "code",
   "execution_count": 199,
   "metadata": {
    "ExecuteTime": {
     "end_time": "2021-03-03T14:45:57.091744Z",
     "start_time": "2021-03-03T14:45:57.079777Z"
    },
    "hidden": true
   },
   "outputs": [],
   "source": [
    "init_vars = [1e-3, 1e-2, 1e-1, 'Kaiming', 'Xavier']"
   ]
  },
  {
   "cell_type": "code",
   "execution_count": 200,
   "metadata": {
    "ExecuteTime": {
     "end_time": "2021-03-03T14:46:28.647453Z",
     "start_time": "2021-03-03T14:46:28.635495Z"
    },
    "hidden": true
   },
   "outputs": [],
   "source": [
    "accs_test_on_iterations = []\n",
    "accs_train_on_iterations = []"
   ]
  },
  {
   "cell_type": "code",
   "execution_count": 203,
   "metadata": {
    "ExecuteTime": {
     "end_time": "2021-03-03T14:46:34.433662Z",
     "start_time": "2021-03-03T14:46:28.650417Z"
    },
    "hidden": true
   },
   "outputs": [],
   "source": [
    "### your code here\n",
    "for i in init_vars:\n",
    "    network = make_network(input_size, hidden_layers_size, output_size, 4, ReLU)\n",
    "    initialize_network(network, i)\n",
    "    weights = get_weights(network)\n",
    "    cb = Callback(network, X_train, y_train, X_test, y_test, print=False)\n",
    "    res = minimize(compute_loss_grad, weights, args=[network, X_train, y_train], method=\"L-BFGS-B\", jac=True, callback=cb.call)\n",
    "    accs_train_on_iterations.append(cb.train_acc)\n",
    "    accs_test_on_iterations.append(cb.test_acc)"
   ]
  },
  {
   "cell_type": "code",
   "execution_count": 204,
   "metadata": {
    "ExecuteTime": {
     "end_time": "2021-03-03T14:46:34.875348Z",
     "start_time": "2021-03-03T14:46:34.436663Z"
    },
    "hidden": true
   },
   "outputs": [
    {
     "data": {
      "image/png": "[encoded data removed]",
      "text/plain": [
       "<Figure size 1000x500 with 1 Axes>"
      ]
     },
     "metadata": {},
     "output_type": "display_data"
    }
   ],
   "source": [
    "fig, ax = plt.subplots(1, 1, figsize=(10, 5))\n",
    "\n",
    "for idx, label in enumerate(init_vars_for_plot):\n",
    "    ax.plot(accs_test_on_iterations[idx], label=label)\n",
    "\n",
    "ax.set_title(\"Test quality for different initializations\")\n",
    "ax.set_xlabel(\"Epoch number\")\n",
    "ax.set_ylabel(\"Test accuracy\")\n",
    "ax.grid(True)\n",
    "ax.legend()\n",
    "\n",
    "fig.tight_layout()\n",
    "plt.show()"
   ]
  },
  {
   "attachments": {},
   "cell_type": "markdown",
   "metadata": {
    "ExecuteTime": {
     "end_time": "2021-03-03T14:37:15.087902Z",
     "start_time": "2021-03-03T14:37:15.065996Z"
    },
    "hidden": true
   },
   "source": [
    "Дайте развёрнутый ответ на вопросы (в этой же ячейке):\n",
    "* Как меняется скорость обучения в зависимости от выбранной инициализации?\n",
    "\n",
    "__Ответы:__\n",
    "\n",
    "Быстрее всего обучается сеть с инициализацией Kaiming, чуть медленнее Xavier. Самым долгим вариантом является инициализация со стандартным отклонением 0.01."
   ]
  },
  {
   "cell_type": "markdown",
   "metadata": {
    "heading_collapsed": true,
    "hidden": true
   },
   "source": [
    "### `Эксперименты c различными функциями активации (1 балл)`"
   ]
  },
  {
   "cell_type": "markdown",
   "metadata": {
    "hidden": true
   },
   "source": [
    "Проверим теперь, с какой функцией активации нейронная сеть будет обучаться лучше.\n",
    "\n",
    "В этом пункте вам предлагается попробовать обучить несколько нейронных сетей с различными функциями активации.\n",
    "\n",
    "Для этого нам нужно реализовать еще 2 слоя: для функций активации `Tanh` и `Sigmoid`."
   ]
  },
  {
   "cell_type": "code",
   "execution_count": 211,
   "metadata": {
    "ExecuteTime": {
     "end_time": "2021-03-03T14:46:34.891308Z",
     "start_time": "2021-03-03T14:46:34.878379Z"
    },
    "hidden": true
   },
   "outputs": [],
   "source": [
    "class Tanh:\n",
    "    \"\"\"\n",
    "    tanh(y) = (e^y - e^(-y)) / (e^y + e^(-y))\n",
    "    Используйте функцию np.tanh для подсчета гиперболического тангенса.\n",
    "    Вы можете сами реализовать подсчет tanh, но тогда вам нужно устойчиво его вычислять.\n",
    "    \"\"\"\n",
    "    def __init__(self):\n",
    "        self.params = [] # Tanh has no parameters\n",
    "\n",
    "    def forward(self, input):\n",
    "        \"\"\"\n",
    "        Apply elementwise Tanh to [batch, num_units] matrix\n",
    "        \"\"\"\n",
    "        ### your code here\n",
    "        self.input = input\n",
    "        return np.tanh(input)\n",
    "\n",
    "    def backward(self, grad_output):\n",
    "        \"\"\"\n",
    "        Compute gradient of loss w.r.t. Tanh input\n",
    "        grad_output shape: [batch, num_units]\n",
    "        output 1 shape: [batch, num_units]\n",
    "        output 2: []\n",
    "        \"\"\"\n",
    "        ### your code here\n",
    "        return grad_output * (1 - np.tanh(self.input) ** 2), []\n",
    "\n",
    "    def __repr__(self):\n",
    "        return 'Tanh()'"
   ]
  },
  {
   "cell_type": "code",
   "execution_count": 209,
   "metadata": {
    "ExecuteTime": {
     "end_time": "2021-03-03T14:46:34.907337Z",
     "start_time": "2021-03-03T14:46:34.894300Z"
    },
    "hidden": true
   },
   "outputs": [],
   "source": [
    "from scipy.special import expit\n",
    "    \n",
    "class Sigmoid:\n",
    "    \"\"\"\n",
    "    sigmoid(y) = 1 / (1 + e^(-y))\n",
    "    Используйте функцию expit для подсчета сигмоиды.\n",
    "    Вы можете сами реализовать подсчет сигмоиды, но тогда вам нужно устойчиво ее вычислять.\n",
    "    \"\"\"\n",
    "    def __init__(self):\n",
    "        self.params = [] # Sigmoid has no parameters\n",
    "\n",
    "    def forward(self, input):\n",
    "        \"\"\"\n",
    "        Apply elementwise Sigmoid to [batch, num_units] matrix\n",
    "        \"\"\"\n",
    "        ### your code here\n",
    "        self.input = input\n",
    "        return expit(input)\n",
    "\n",
    "    def backward(self, grad_output):\n",
    "        \"\"\"\n",
    "        Compute gradient of loss w.r.t. Sigmoid input\n",
    "        grad_output shape: [batch, num_units]\n",
    "        output 1 shape: [batch, num_units]\n",
    "        output 2: []\n",
    "        \"\"\"\n",
    "        ### your code here\n",
    "        return grad_output * (expit(self.input) * (1 - expit(self.input))), []\n",
    "\n",
    "    def __repr__(self):\n",
    "        return 'Sigmoid()'"
   ]
  },
  {
   "cell_type": "markdown",
   "metadata": {
    "hidden": true
   },
   "source": [
    "Теперь попробуйте для каждой из 3 функций активации обучить нейронную сеть несколько раз. Число слоев зафиксируйте равным 3. В случае `Tanh` и `Sigmoid` используйте инициализацию `Xavier`, а в случае `ReLU` используйте инициализацию `Kaiming`."
   ]
  },
  {
   "cell_type": "markdown",
   "metadata": {
    "hidden": true
   },
   "source": [
    "Заполните матрицы `accs_train` и `accs_test`. В позиции `[i, j]` должна стоять величина доли правильных ответов сети при $j$-м запуске (все запуски идентичны) с функцией активации $ReLU$ при $i = 0$, с функцией активации $Tanh$ при $i = 1$ и с функцией активации $Sigmoid$ при $i = 2$."
   ]
  },
  {
   "cell_type": "code",
   "execution_count": 207,
   "metadata": {
    "ExecuteTime": {
     "end_time": "2021-03-03T14:46:34.922732Z",
     "start_time": "2021-03-03T14:46:34.910271Z"
    },
    "hidden": true
   },
   "outputs": [],
   "source": [
    "act_func_vars = ['Tanh', 'Sigmoid', 'ReLU']\n",
    "init_for_act_funcs = ['Xavier', 'Xavier', 'Kaiming']"
   ]
  },
  {
   "cell_type": "code",
   "execution_count": 208,
   "metadata": {
    "ExecuteTime": {
     "end_time": "2021-03-03T14:46:34.938935Z",
     "start_time": "2021-03-03T14:46:34.925724Z"
    },
    "hidden": true
   },
   "outputs": [],
   "source": [
    "accs_train = np.zeros((3, 5))\n",
    "accs_test = np.zeros((3, 5))"
   ]
  },
  {
   "cell_type": "code",
   "execution_count": 212,
   "metadata": {
    "ExecuteTime": {
     "end_time": "2021-03-03T14:47:04.514986Z",
     "start_time": "2021-03-03T14:46:34.941104Z"
    },
    "hidden": true
   },
   "outputs": [],
   "source": [
    "### your code here\n",
    "for i in range(3):\n",
    "    for j in range(5):\n",
    "        if act_func_vars[i]=='ReLU':\n",
    "            network = make_network(input_size, hidden_layers_size, output_size, 3, activation_class=ReLU)\n",
    "        if act_func_vars[i]=='Tanh':\n",
    "            network = make_network(input_size, hidden_layers_size, output_size, 3, activation_class=Tanh)\n",
    "        if act_func_vars[i]=='Sigmoid':\n",
    "            network = make_network(input_size, hidden_layers_size, output_size, 3, activation_class=Sigmoid)\n",
    "        initialize_network(network, init_for_act_funcs[i])\n",
    "        weights = get_weights(network)\n",
    "        res = minimize(compute_loss_grad, weights, args=[network, X_train, y_train], method=\"L-BFGS-B\", jac=True)\n",
    "        set_weights(res['x'], network)\n",
    "        accs_train[i][j] = accuracy_score(predict(network, X_train), y_train)\n",
    "        accs_test[i][j] = accuracy_score(predict(network, X_test), y_test)"
   ]
  },
  {
   "cell_type": "markdown",
   "metadata": {
    "hidden": true
   },
   "source": [
    "Построим боксплоты полученного качества (горизонтальная линия в каждом столбце — среднее, прямоугольник показывает разброс)."
   ]
  },
  {
   "cell_type": "code",
   "execution_count": 213,
   "metadata": {
    "ExecuteTime": {
     "end_time": "2021-03-03T14:47:04.783320Z",
     "start_time": "2021-03-03T14:47:04.517701Z"
    },
    "hidden": true
   },
   "outputs": [
    {
     "data": {
      "image/png": "[encoded data removed]",
      "text/plain": [
       "<Figure size 1000x500 with 1 Axes>"
      ]
     },
     "metadata": {},
     "output_type": "display_data"
    }
   ],
   "source": [
    "fig, ax = plt.subplots(1, 1, figsize=(10, 5))\n",
    "\n",
    "ax.boxplot(accs_test.T, labels=act_func_vars, showfliers=False)\n",
    "\n",
    "ax.set_title(\"Test quality in 5 runs\")\n",
    "ax.set_xlabel(\"Activation function\")\n",
    "ax.set_ylabel(\"Test accuracy\")\n",
    "ax.grid(True)\n",
    "\n",
    "fig.tight_layout()\n",
    "plt.show()"
   ]
  },
  {
   "cell_type": "code",
   "execution_count": 214,
   "metadata": {},
   "outputs": [
    {
     "data": {
      "image/png": "[encoded data removed]",
      "text/plain": [
       "<Figure size 1000x500 with 1 Axes>"
      ]
     },
     "metadata": {},
     "output_type": "display_data"
    }
   ],
   "source": [
    "fig, ax = plt.subplots(1, 1, figsize=(10, 5))\n",
    "\n",
    "ax.boxplot(accs_train.T, labels=act_func_vars, showfliers=False)\n",
    "\n",
    "ax.set_title(\"Train quality in 5 runs\")\n",
    "ax.set_xlabel(\"Activation function\")\n",
    "ax.set_ylabel(\"Train accuracy\")\n",
    "ax.grid(True)\n",
    "\n",
    "fig.tight_layout()\n",
    "plt.show()"
   ]
  },
  {
   "attachments": {},
   "cell_type": "markdown",
   "metadata": {
    "hidden": true
   },
   "source": [
    "Дайте развёрнутый ответ на вопросы (в этой же ячейке):\n",
    "* Как отличаются качество на обучении и контроле и устойчивость процесса обучения при различных функциях активации?\n",
    "\n",
    "__Ответы:__\n",
    "Ситуация с качеством на обучении та же. Выборка запоминается полностью, качество стопроцентное. На наших данных, на тесте лучшим образом себя показала функция активации ReLu, показывая заметно лучшее качество и более устойчивое поведение. Сигмоида и тангенс демонстрирует примерно одинаковое качество, но тангенс более устойчив.\n"
   ]
  },
  {
   "cell_type": "markdown",
   "metadata": {
    "hidden": true
   },
   "source": [
    "\\* Несколько фрагментов кода в задании написаны на основе материалов [курса по глубинному обучению на ФКН НИУ ВШЭ](https://www.hse.ru/ba/ami/courses/205504078.html)"
   ]
  },
  {
   "cell_type": "markdown",
   "metadata": {
    "heading_collapsed": true
   },
   "source": [
    "## `Бонусная часть`"
   ]
  },
  {
   "cell_type": "markdown",
   "metadata": {
    "hidden": true
   },
   "source": [
    "### `Реализация метода оптимизации (1 балл)`\n",
    "\n",
    "Реализуйте сами метод оптимизации (аналог функции `minimize`) для рассмотренной выше архитектуры. В качестве метода оптимизации используйте SGD + momentum. Продемонстрируйте правильную работу метода оптимизации, сравните его работу с LBFGS-B. Сделайте выводы."
   ]
  },
  {
   "cell_type": "code",
   "execution_count": null,
   "metadata": {},
   "outputs": [],
   "source": []
  },
  {
   "cell_type": "markdown",
   "metadata": {
    "hidden": true
   },
   "source": [
    "### `Dropout (1 балл)`\n",
    "\n",
    "Реализуйте слой Dropout. Сравните обучение сети из большого числа слоёв при использовании Dropout и без его использования (предварительно подберите адекватный параметр $p$). Сделайте выводы."
   ]
  },
  {
   "cell_type": "code",
   "execution_count": 219,
   "metadata": {},
   "outputs": [],
   "source": [
    "class Dropout:\n",
    "    def __init__(self, p=0.01):\n",
    "        self.p = p\n",
    "        self.params = []\n",
    "    \n",
    "    def forward(self, input):\n",
    "        q = 1 - self.p #probability of neuron's remaining\n",
    "        self.mask = np.random.choice(2, input.shape, replace=True, p=[self.p, q]) / q #Inverted Dropout\n",
    "        return input * self.mask\n",
    "    \n",
    "    def backward(self, grad_output):\n",
    "        return self.mask * grad_output, []\n",
    "    \n",
    "    def __repr__(self):\n",
    "        return f'Dropout({self.p})'"
   ]
  },
  {
   "cell_type": "code",
   "execution_count": 224,
   "metadata": {},
   "outputs": [],
   "source": [
    "p_list = [0, 0.001, 0.01, 0.1, 0.5]\n",
    "accs_train = []\n",
    "accs_test = []\n",
    "for i in p_list:\n",
    "    network = [Dense(64, 1024), ReLU(), Dropout(i), Dense(1024, 1024), ReLU(), Dropout(i), Dense(1024, 1024), ReLU(), Dropout(i), Dense(1024, 10), LogSoftmax()]\n",
    "    initialize_network(network, 'Kaiming')\n",
    "    weights = get_weights(network)\n",
    "    cb = Callback(network, X_train, y_train, X_test, y_test, print=False)\n",
    "    res = minimize(compute_loss_grad, weights, args=[network, X_train, y_train], method=\"L-BFGS-B\", jac=True, callback=cb.call)\n",
    "    set_weights(res['x'], network)\n",
    "    accs_train.append(cb.train_acc)\n",
    "    accs_test.append(cb.test_acc)"
   ]
  },
  {
   "cell_type": "code",
   "execution_count": 225,
   "metadata": {},
   "outputs": [
    {
     "data": {
      "image/png": "[encoded data removed]",
      "text/plain": [
       "<Figure size 1000x500 with 1 Axes>"
      ]
     },
     "metadata": {},
     "output_type": "display_data"
    }
   ],
   "source": [
    "fig, ax = plt.subplots(1, 1, figsize=(10, 5))\n",
    "\n",
    "for idx, label in enumerate(p_list):\n",
    "    ax.plot(accs_test[idx], label=label)\n",
    "\n",
    "ax.set_title(\"Test quality for different values of parameter p in Dropout\")\n",
    "ax.set_xlabel(\"Epoch number\")\n",
    "ax.set_ylabel(\"Test accuracy\")\n",
    "ax.grid(True)\n",
    "ax.legend()\n",
    "\n",
    "fig.tight_layout()\n",
    "plt.show()"
   ]
  },
  {
   "attachments": {},
   "cell_type": "markdown",
   "metadata": {},
   "source": [
    "Для анализа влияния DropOut я взял большее количество слоёв и большую ширину скрытых слоёв. Можно заметить, что dropout гораздо быстрее сходится, причём для меньших р (0.001, 0.01) не сильно уступая в точности варианту без dropout. Если ограничиться <20 эпохами, то dropout оказывается и вовсе сильнее.\n",
    "Не имеет смысла брать параметр р слишком большим, таким образом, мы слишком прорежаем нашу есть и качество предсказания падает."
   ]
  },
  {
   "cell_type": "markdown",
   "metadata": {
    "hidden": true
   },
   "source": [
    "### `BatchNormalization (1 балл)`\n",
    "\n",
    "Реализуйте слой `BatchNormalization`. Сравните обучение сети из большого числа слоёв при использовании `BatchNormalization` и без его использования. Сделайте выводы."
   ]
  },
  {
   "cell_type": "code",
   "execution_count": 2,
   "metadata": {},
   "outputs": [],
   "source": [
    "class BatchNormalization():\n",
    "\n",
    "    def __init__(self, size):\n",
    "        self.size = size\n",
    "        self.gamma = np.ones(size, dtype=\"float32\")\n",
    "        self.bias = np.zeros(size, dtype=\"float32\")\n",
    "        self.params = [self.gamma, self.bias]\n",
    "\n",
    "    def forward(self, input):\n",
    "        self.num_examples = input.shape[0]\n",
    "        self.mean_x = np.mean(input, axis=0, keepdims=True)\n",
    "        self.var_x = np.mean((input - self.mean_x) ** 2, axis=0, keepdims=True)\n",
    "\n",
    "        self.var_x += 1e-5\n",
    "        self.stddev_x = np.sqrt(self.var_x)\n",
    "        self.x_minus_mean = input - self.mean_x\n",
    "        self.standard_x = self.x_minus_mean / self.stddev_x\n",
    "        return self.gamma * self.standard_x + self.bias\n",
    "\n",
    "    def backward(self, grad_output):\n",
    "        standard_grad = grad_output * self.gamma\n",
    "\n",
    "        var_grad = np.sum(standard_grad * self.x_minus_mean * -0.5 * self.var_x ** (-3/2),\n",
    "                          axis=0, keepdims=True)\n",
    "        stddev_inv = 1 / self.stddev_x\n",
    "        aux_x_minus_mean = 2 * self.x_minus_mean / self.num_examples\n",
    "\n",
    "        mean_grad = (np.sum(standard_grad * -stddev_inv, axis=0,\n",
    "                            keepdims=True) +\n",
    "                            var_grad * np.sum(-aux_x_minus_mean, axis=0,\n",
    "                            keepdims=True))\n",
    "\n",
    "        self.gamma_grad = np.sum(grad_output * self.standard_x, axis=0,\n",
    "                                 keepdims=True)\n",
    "        self.bias_grad = np.sum(grad_output, axis=0, keepdims=True)\n",
    "\n",
    "        return standard_grad * stddev_inv + var_grad * aux_x_minus_mean + \\\n",
    "               mean_grad / self.num_examples, np.r_[np.sum(grad_output * self.standard_x, axis=0), np.sum(grad_output, axis=0)]\n"
   ]
  },
  {
   "cell_type": "code",
   "execution_count": 58,
   "metadata": {},
   "outputs": [],
   "source": [
    "accs_train = []\n",
    "accs_test = []"
   ]
  },
  {
   "cell_type": "code",
   "execution_count": 61,
   "metadata": {},
   "outputs": [],
   "source": [
    "network = [Dense(64, 32), BatchNormalization(32), ReLU(), Dense(32, 32), ReLU(), Dense(32, 32), ReLU(), Dense(32, 10), LogSoftmax()]\n",
    "initialize_network(network, 'Kaiming')\n",
    "weights = get_weights(network)\n",
    "cb = Callback(network, X_train, y_train, X_test, y_test, print=False)\n",
    "res = minimize(compute_loss_grad, weights, args=[network, X_train, y_train], method=\"L-BFGS-B\", jac=True, callback=cb.call)\n",
    "set_weights(res['x'], network)\n",
    "accs_train.append(cb.train_acc)\n",
    "accs_test.append(cb.test_acc)"
   ]
  },
  {
   "cell_type": "code",
   "execution_count": 62,
   "metadata": {},
   "outputs": [],
   "source": [
    "network = [Dense(64, 32), ReLU(), Dense(32, 32), ReLU(), Dense(32, 32), ReLU(), Dense(32, 10), LogSoftmax()]\n",
    "initialize_network(network, 'Kaiming')\n",
    "weights = get_weights(network)\n",
    "cb = Callback(network, X_train, y_train, X_test, y_test, print=False)\n",
    "res = minimize(compute_loss_grad, weights, args=[network, X_train, y_train], method=\"L-BFGS-B\", jac=True, callback=cb.call)\n",
    "set_weights(res['x'], network)\n",
    "accs_train.append(cb.train_acc)\n",
    "accs_test.append(cb.test_acc)"
   ]
  },
  {
   "cell_type": "code",
   "execution_count": 63,
   "metadata": {},
   "outputs": [],
   "source": [
    "names = ['With BatchNormalization', 'Withoit BatchNormalization']"
   ]
  },
  {
   "cell_type": "code",
   "execution_count": 64,
   "metadata": {},
   "outputs": [
    {
     "data": {
      "image/png": "[encoded data removed]",
      "text/plain": [
       "<Figure size 1000x500 with 1 Axes>"
      ]
     },
     "metadata": {},
     "output_type": "display_data"
    }
   ],
   "source": [
    "fig, ax = plt.subplots(1, 1, figsize=(10, 5))\n",
    "\n",
    "for idx, label in enumerate(names):\n",
    "    ax.plot(accs_test[idx], label=label)\n",
    "\n",
    "ax.set_title(\"Test quality depending on usage BatchNormalization\")\n",
    "ax.set_xlabel(\"Epoch number\")\n",
    "ax.set_ylabel(\"Test accuracy\")\n",
    "ax.grid(True)\n",
    "ax.legend()\n",
    "\n",
    "fig.tight_layout()\n",
    "plt.show()"
   ]
  },
  {
   "attachments": {},
   "cell_type": "markdown",
   "metadata": {},
   "source": [
    "Как мы видим, слой BN улучшил нашу сеть: она стала быстрее сходиться и заметно быстрее достигает хорошей точности предсказания. Таким образом, использование слоя BatchNorm является хорошим подспорьем при обучении нейронных сетей."
   ]
  }
 ],
 "metadata": {
  "kernelspec": {
   "display_name": "Python 3 (ipykernel)",
   "language": "python",
   "name": "python3"
  },
  "language_info": {
   "codemirror_mode": {
    "name": "ipython",
    "version": 3
   },
   "file_extension": ".py",
   "mimetype": "text/x-python",
   "name": "python",
   "nbconvert_exporter": "python",
   "pygments_lexer": "ipython3",
   "version": "3.8.16"
  }
 },
 "nbformat": 4,
 "nbformat_minor": 2
}
