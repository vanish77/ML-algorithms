{
 "cells": [
  {
   "cell_type": "code",
   "execution_count": 1,
   "metadata": {},
   "outputs": [],
   "source": [
    "import numpy as np\n",
    "from sklearn.neighbors import NearestNeighbors\n",
    "import time\n",
    "from sklearn.datasets import fetch_openml\n",
    "from sklearn.model_selection import train_test_split\n",
    "from operator import index\n",
    "import random\n",
    "import pickle\n",
    "import matplotlib_inline\n",
    "import matplotlib.pyplot as plt\n",
    "import pandas as pd\n",
    "from matplotlib.pyplot import MultipleLocator\n",
    "import sklearn.metrics"
   ]
  },
  {
   "cell_type": "code",
   "execution_count": 2,
   "metadata": {},
   "outputs": [],
   "source": [
    "def euclidean_distance(X, Y):\n",
    "    sum_of_squares = np.add.outer(np.sum(X ** 2, axis=1), np.sum(Y ** 2, axis=1))\n",
    "    composition = np.dot(X, Y.T)\n",
    "    return np.sqrt(sum_of_squares - 2 * composition)\n",
    "\n",
    "\n",
    "# def cosine_distance(X, Y):\n",
    "#     matrix_dot = np.dot(X, Y.T)\n",
    "#     l2norms = np.sqrt(((X ** 2).sum(1)[:, None]) * ((Y ** 2).sum(1)))\n",
    "#     return 1 - matrix_dot / l2norms\n",
    "\n",
    "def cosine_distance(X, Y):\n",
    "    return 1 - np.dot(X, Y.T) / (np.linalg.norm(X) * np.linalg.norm(Y))\n",
    " "
   ]
  },
  {
   "cell_type": "code",
   "execution_count": 3,
   "metadata": {},
   "outputs": [],
   "source": [
    "eps = 1e-5\n",
    "\n",
    "\n",
    "class KNNClassifier:\n",
    "    def __init__(self, k=5, strategy='my_own', metric='euclidean', weights=False, test_block_size=20):\n",
    "        self.k = k\n",
    "        self.strategy = strategy\n",
    "        self.metric = metric\n",
    "        self.weights = weights\n",
    "        self.test_block_size = test_block_size\n",
    "       # self.__dc, self.__d_index = None, None\n",
    "\n",
    "    def fit(self, X_train, y_train):\n",
    "        self.n_classes = len(set(y_train))  # здесь нужно доработать, если классы - строки\n",
    "\n",
    "        if (self.strategy == 'my_own'):\n",
    "            self.X_train = X_train\n",
    "            self.y_train = y_train\n",
    "            return self\n",
    "\n",
    "        if (self.strategy == 'brute'):\n",
    "            self.nn = NearestNeighbors(algorithm=\"brute\", metric=self.metric, n_neighbors=self.k)\n",
    "\n",
    "        if (self.strategy == 'kd_tree'):\n",
    "            self.nn = NearestNeighbors(algorithm=\"kd_tree\", metric=\"euclidean\", n_neighbors=self.k)\n",
    "\n",
    "        if (self.strategy == 'ball_tree'):\n",
    "            self.nn = NearestNeighbors(algorithm=\"ball_tree\", metric=\"euclidean\", n_neighbors=self.k)\n",
    "\n",
    "        self.nn.fit(X_train, y_train)\n",
    "        self.X_train = X_train\n",
    "        self.y_train = y_train\n",
    "\n",
    "        return self\n",
    "\n",
    "    def predict(self, X_test):\n",
    "        return np.argmax(self.find_scores(X_test), axis=1)\n",
    "\n",
    "    def score_custom(self, X_test, k):\n",
    "        metric = {'cosine': cosine_distance, 'euclidean': euclidean_distance}\n",
    "        dists = metric[self.metric](X_test, self.X_train)\n",
    "        d_index = np.argpartition(dists, np.arange(1, k + 1), axis=1)[:, :k]\n",
    "        d = np.partition(dists, np.arange(1, k + 1), axis=1)[:, :k]\n",
    "        return d, d_index\n",
    "\n",
    "    def find_kneighbors(self, X_test, return_distance=True):\n",
    "        start_time = time.time()\n",
    "        length_X = X_test.shape[0]\n",
    "        N_batches = (length_X // self.test_block_size + 1) if (length_X % self.test_block_size != 0) else (\n",
    "                length_X // self.test_block_size)\n",
    "        distes, indexes = [], []\n",
    "        for bin in range(N_batches):\n",
    "            x_test = X_test[bin * self.test_block_size:min((bin + 1) * self.test_block_size, length_X)]\n",
    "            if (self.strategy == 'my_own'):\n",
    "                dist, ind = self.score_custom(x_test, self.k)\n",
    "            else:\n",
    "                dist, ind = self.nn.kneighbors(x_test, n_neighbors=self.k)\n",
    "            distes.append(dist)\n",
    "            indexes.append(ind)\n",
    "\n",
    "        if not return_distance:\n",
    "            return np.vstack(indexes)\n",
    "        end_time = time.time()\n",
    "        global work_time\n",
    "        work_time = end_time - start_time\n",
    "        return np.vstack(distes), np.vstack(indexes)\n",
    "\n",
    "    def find_scores(self, x_test):\n",
    "        dc, d_index = self.find_kneighbors(x_test)\n",
    "        return self.voting(dc, d_index, x_test.shape[0], self.k)\n",
    "\n",
    "    def voting(self, dc, d_index, n, k):\n",
    "        votes = self.y_train[d_index]\n",
    "        rez = np.zeros((n, self.n_classes))\n",
    "        if (self.weights):\n",
    "            weights = 1 / (dc + eps)\n",
    "        else:\n",
    "            weights = np.ones((n, k))\n",
    "\n",
    "        for i in range(self.n_classes):\n",
    "            rez[:, i] = ((votes == i) * weights).sum(axis=1)\n",
    "        return rez\n",
    "\n",
    "    def score(self, predicted, y_test):\n",
    "        return (predicted == y_test).sum() / len(y_test)   "
   ]
  },
  {
   "cell_type": "code",
   "execution_count": 4,
   "metadata": {},
   "outputs": [],
   "source": [
    "def accuracy(predicted, y_test):\n",
    "    return (predicted == y_test).sum() / y_test.shape[0]\n",
    "\n",
    "\n",
    "def kfold(n, n_folds=5):\n",
    "    index = np.arange(n)\n",
    "    block_size = n // n_folds\n",
    "    cum = 0\n",
    "    res = []\n",
    "    for bin in range(n_folds):\n",
    "        start = bin * block_size + cum\n",
    "        if (bin < n % n_folds):\n",
    "            cum += 1\n",
    "        stop = min((bin + 1) * block_size, n) + cum\n",
    "        res.append((np.hstack([index[:start], index[stop:]]), index[start:stop]))\n",
    "    return res\n",
    "\n",
    "\n",
    "def knn_cross_val_score(X, y, k_list, score='accuracy', cv=None, **kwargs):\n",
    "    res = {}\n",
    "    if cv is None:\n",
    "        cv = kfold(len(X))\n",
    "    for k in k_list:\n",
    "        res[k] = []\n",
    "    clf = KNNClassifier(k=np.max(np.array(k_list)), **kwargs)\n",
    "    for train, test in cv:\n",
    "        X_train, X_valid, y_train, y_valid = X[train], X[test], y[train], y[test]\n",
    "        clf.fit(np.array(X_train), np.array(y_train))\n",
    "        dc, d_index = clf.find_kneighbors(X_valid)\n",
    "        for k in k_list:\n",
    "            votes = clf.voting(dc[:, :k], d_index[:, :k], X_valid.shape[0], k)\n",
    "            predicted = np.argmax(votes, axis=1)\n",
    "            if score == 'accuracy':\n",
    "                res[k].append(accuracy(predicted, y_valid))\n",
    "    for k in k_list:\n",
    "        res[k] = np.asarray(res[k])\n",
    "\n",
    "    return res"
   ]
  },
  {
   "cell_type": "code",
   "execution_count": 30,
   "metadata": {},
   "outputs": [],
   "source": [
    "mnist = fetch_openml(\"mnist_784\")"
   ]
  },
  {
   "cell_type": "code",
   "execution_count": 29,
   "metadata": {},
   "outputs": [
    {
     "ename": "NameError",
     "evalue": "name 'mnist' is not defined",
     "output_type": "error",
     "traceback": [
      "\u001b[1;31m---------------------------------------------------------------------------\u001b[0m",
      "\u001b[1;31mNameError\u001b[0m                                 Traceback (most recent call last)",
      "\u001b[1;32mc:\\Jupyter\\prak_mmp\\EXPERIMENTS.ipynb Cell 6\u001b[0m in \u001b[0;36m<cell line: 1>\u001b[1;34m()\u001b[0m\n\u001b[1;32m----> <a href='vscode-notebook-cell:/c%3A/Jupyter/prak_mmp/EXPERIMENTS.ipynb#W6sZmlsZQ%3D%3D?line=0'>1</a>\u001b[0m X_train, X_test, y_train, y_test \u001b[39m=\u001b[39m train_test_split(mnist\u001b[39m.\u001b[39mdata, mnist\u001b[39m.\u001b[39mtarget, test_size\u001b[39m=\u001b[39m\u001b[39m10000\u001b[39m)\n\u001b[0;32m      <a href='vscode-notebook-cell:/c%3A/Jupyter/prak_mmp/EXPERIMENTS.ipynb#W6sZmlsZQ%3D%3D?line=1'>2</a>\u001b[0m X_test_array \u001b[39m=\u001b[39m np\u001b[39m.\u001b[39marray(X_test)\n\u001b[0;32m      <a href='vscode-notebook-cell:/c%3A/Jupyter/prak_mmp/EXPERIMENTS.ipynb#W6sZmlsZQ%3D%3D?line=2'>3</a>\u001b[0m X_train_array \u001b[39m=\u001b[39m np\u001b[39m.\u001b[39marray(X_train)\n",
      "\u001b[1;31mNameError\u001b[0m: name 'mnist' is not defined"
     ]
    }
   ],
   "source": [
    "X_train, X_test, y_train, y_test = train_test_split(mnist.data, mnist.target, test_size=10000)\n",
    "X_test_array = np.array(X_test)\n",
    "X_train_array = np.array(X_train)\n",
    "y_test_array = np.array(y_test)\n",
    "y_train_array = np.array(y_train)"
   ]
  },
  {
   "cell_type": "code",
   "execution_count": 177,
   "metadata": {},
   "outputs": [],
   "source": [
    "y_test_array = np.array(list(map(int, y_test_array)))\n",
    "y_train_array = np.array(list(map(int, y_train_array)))"
   ]
  },
  {
   "cell_type": "code",
   "execution_count": 178,
   "metadata": {},
   "outputs": [],
   "source": [
    "np.savetxt('C:\\Jupyter\\prak_mmp\\Experience\\X_test_mnist_array.txt', X_test_array)\n",
    "np.savetxt('C:\\Jupyter\\prak_mmp\\Experience\\X_train_mnist_array.txt', X_train_array)"
   ]
  },
  {
   "cell_type": "code",
   "execution_count": 179,
   "metadata": {},
   "outputs": [],
   "source": [
    "np.savetxt('C:\\Jupyter\\prak_mmp\\Experience\\y_test_mnist_array.txt', np.array(list(map(int, y_test_array))))"
   ]
  },
  {
   "cell_type": "code",
   "execution_count": 180,
   "metadata": {},
   "outputs": [],
   "source": [
    "np.savetxt('C:\\Jupyter\\prak_mmp\\Experience\\y_train_mnist_array.txt', np.array(list(map(int, y_train_array))))"
   ]
  },
  {
   "cell_type": "code",
   "execution_count": 5,
   "metadata": {},
   "outputs": [],
   "source": [
    "X_test_array = np.loadtxt('C:\\Jupyter\\prak_mmp\\Experience\\X_test_mnist_array.txt')\n",
    "X_train_array = np.loadtxt('C:\\Jupyter\\prak_mmp\\Experience\\X_train_mnist_array.txt')\n",
    "y_test_array = np.loadtxt('C:\\Jupyter\\prak_mmp\\Experience\\y_test_mnist_array.txt')\n",
    "y_train_array = np.loadtxt('C:\\Jupyter\\prak_mmp\\Experience\\y_train_mnist_array.txt')"
   ]
  },
  {
   "cell_type": "markdown",
   "metadata": {},
   "source": [
    "### Эксперимент №1"
   ]
  },
  {
   "cell_type": "code",
   "execution_count": 8,
   "metadata": {},
   "outputs": [],
   "source": [
    "list_my_own = []\n",
    "list_kd_tree = []\n",
    "list_brute = []\n",
    "list_ball_tree = []"
   ]
  },
  {
   "cell_type": "code",
   "execution_count": 9,
   "metadata": {},
   "outputs": [],
   "source": [
    "num_of_features = [10, 20, 100]"
   ]
  },
  {
   "cell_type": "code",
   "execution_count": 11,
   "metadata": {},
   "outputs": [],
   "source": [
    "clf1 = KNNClassifier(k=5, strategy='my_own', metric='euclidean', weights=False, test_block_size=20)\n",
    "clf2 = KNNClassifier(k=5, strategy='kd_tree', metric='euclidean', weights=False, test_block_size=20)\n",
    "clf3 = KNNClassifier(k=5, strategy='ball_tree', metric='euclidean', weights=False, test_block_size=20)\n",
    "clf4 = KNNClassifier(k=5, strategy='brute', metric='euclidean', weights=False, test_block_size=20)\n",
    "\n",
    "for num in num_of_features:\n",
    "    indexes = random.sample(list(np.arange(0, X_train_array.shape[1])), num)\n",
    "    indexes.sort()\n",
    "\n",
    "    clf1.fit(X_train_array[:, indexes], y_train_array)\n",
    "    clf2.fit(X_train_array[:, indexes], y_train_array)\n",
    "    clf3.fit(X_train_array[:, indexes], y_train_array)\n",
    "    clf4.fit(X_train_array[:, indexes], y_train_array)\n",
    "\n",
    "    predict = clf1.predict(X_test_array[:, indexes])\n",
    "    list_my_own.append(work_time)\n",
    "\n",
    "    predict = clf2.predict(X_test_array[:, indexes])\n",
    "    list_kd_tree.append(work_time)\n",
    "\n",
    "    predict = clf3.predict(X_test_array[:, indexes])\n",
    "    list_ball_tree.append(work_time)\n",
    "\n",
    "    predict = clf4.predict(X_test_array[:, indexes])\n",
    "    list_brute.append(work_time)"
   ]
  },
  {
   "cell_type": "code",
   "execution_count": 12,
   "metadata": {},
   "outputs": [
    {
     "data": {
      "text/plain": [
       "{'n_features': [10, 20, 100],\n",
       " 'my_own': [47.38346719741821, 74.6025505065918, 64.54397630691528],\n",
       " 'brute': [9.860639333724976, 10.260392427444458, 18.082817554473877],\n",
       " 'kd_tree': [3.445570945739746, 16.197870016098022, 164.11362099647522],\n",
       " 'ball_tree': [4.6923768520355225, 37.85926127433777, 154.64644837379456]}"
      ]
     },
     "execution_count": 12,
     "metadata": {},
     "output_type": "execute_result"
    }
   ],
   "source": [
    "my_time = {'n_features':num_of_features, 'my_own': list_my_own, 'brute': list_brute, 'kd_tree': list_kd_tree, 'ball_tree': list_ball_tree}\n",
    "my_time"
   ]
  },
  {
   "cell_type": "code",
   "execution_count": 101,
   "metadata": {},
   "outputs": [],
   "source": [
    "#df = pd.DataFrame(my_time)\n",
    "\n",
    "f = open('experiment1_df.pckl', 'rb')\n",
    "df1 = pickle.load(f)\n",
    "f.close()"
   ]
  },
  {
   "cell_type": "code",
   "execution_count": 103,
   "metadata": {},
   "outputs": [
    {
     "data": {
      "application/pdf": "[encoded data removed]",
      "image/svg+xml": "<?xml version=\"1.0\" encoding=\"utf-8\" standalone=\"no\"?>\n<!DOCTYPE svg PUBLIC \"-//W3C//DTD SVG 1.1//EN\"\n  \"http://www.w3.org/Graphics/SVG/1.1/DTD/svg11.dtd\">\n<svg xmlns:xlink=\"http://www.w3.org/1999/xlink\" width=\"393.35125pt\" height=\"277.314375pt\" viewBox=\"0 0 393.35125 277.314375\" xmlns=\"http://www.w3.org/2000/svg\" version=\"1.1\">\n <metadata>\n  <rdf:RDF xmlns:dc=\"http://purl.org/dc/elements/1.1/\" xmlns:cc=\"http://creativecommons.org/ns#\" xmlns:rdf=\"http://www.w3.org/1999/02/22-rdf-syntax-ns#\">\n   <cc:Work>\n    <dc:type rdf:resource=\"http://purl.org/dc/dcmitype/StillImage\"/>\n    <dc:date>2022-10-15T12:57:20.030076</dc:date>\n    <dc:format>image/svg+xml</dc:format>\n    <dc:creator>\n     <cc:Agent>\n      <dc:title>Matplotlib v3.6.0, https://matplotlib.org/</dc:title>\n     </cc:Agent>\n    </dc:creator>\n   </cc:Work>\n  </rdf:RDF>\n </metadata>\n <defs>\n  <style type=\"text/css\">*{stroke-linejoin: round; stroke-linecap: butt}</style>\n </defs>\n <g id=\"figure_1\">\n  <g id=\"patch_1\">\n   <path d=\"M 0 277.314375 \nL 393.35125 277.314375 \nL 393.35125 0 \nL 0 0 \nL 0 277.314375 \nz\n\" style=\"fill: none\"/>\n  </g>\n  <g id=\"axes_1\">\n   <g id=\"patch_2\">\n    <path d=\"M 46.965625 239.758125 \nL 381.765625 239.758125 \nL 381.765625 22.318125 \nL 46.965625 22.318125 \nz\n\" style=\"fill: #ffffff\"/>\n   </g>\n   <g id=\"matplotlib.axis_1\">\n    <g id=\"xtick_1\">\n     <g id=\"line2d_1\">\n      <path d=\"M 96.001989 239.758125 \nL 96.001989 22.318125 \n\" clip-path=\"url(#p3e7cf12ca7)\" style=\"fill: none; stroke: #b0b0b0; stroke-width: 0.8; stroke-linecap: square\"/>\n     </g>\n     <g id=\"line2d_2\">\n      <defs>\n       <path id=\"mf9dfa664d3\" d=\"M 0 0 \nL 0 3.5 \n\" style=\"stroke: #000000; stroke-width: 0.8\"/>\n      </defs>\n      <g>\n       <use xlink:href=\"#mf9dfa664d3\" x=\"96.001989\" y=\"239.758125\" style=\"stroke: #000000; stroke-width: 0.8\"/>\n      </g>\n     </g>\n     <g id=\"text_1\">\n      <!-- 20 -->\n      <g transform=\"translate(89.639489 254.356562) scale(0.1 -0.1)\">\n       <defs>\n        <path id=\"DejaVuSans-32\" d=\"M 1228 531 \nL 3431 531 \nL 3431 0 \nL 469 0 \nL 469 531 \nQ 828 903 1448 1529 \nQ 2069 2156 2228 2338 \nQ 2531 2678 2651 2914 \nQ 2772 3150 2772 3378 \nQ 2772 3750 2511 3984 \nQ 2250 4219 1831 4219 \nQ 1534 4219 1204 4116 \nQ 875 4013 500 3803 \nL 500 4441 \nQ 881 4594 1212 4672 \nQ 1544 4750 1819 4750 \nQ 2544 4750 2975 4387 \nQ 3406 4025 3406 3419 \nQ 3406 3131 3298 2873 \nQ 3191 2616 2906 2266 \nQ 2828 2175 2409 1742 \nQ 1991 1309 1228 531 \nz\n\" transform=\"scale(0.015625)\"/>\n        <path id=\"DejaVuSans-30\" d=\"M 2034 4250 \nQ 1547 4250 1301 3770 \nQ 1056 3291 1056 2328 \nQ 1056 1369 1301 889 \nQ 1547 409 2034 409 \nQ 2525 409 2770 889 \nQ 3016 1369 3016 2328 \nQ 3016 3291 2770 3770 \nQ 2525 4250 2034 4250 \nz\nM 2034 4750 \nQ 2819 4750 3233 4129 \nQ 3647 3509 3647 2328 \nQ 3647 1150 3233 529 \nQ 2819 -91 2034 -91 \nQ 1250 -91 836 529 \nQ 422 1150 422 2328 \nQ 422 3509 836 4129 \nQ 1250 4750 2034 4750 \nz\n\" transform=\"scale(0.015625)\"/>\n       </defs>\n       <use xlink:href=\"#DejaVuSans-32\"/>\n       <use xlink:href=\"#DejaVuSans-30\" x=\"63.623047\"/>\n      </g>\n     </g>\n    </g>\n    <g id=\"xtick_2\">\n     <g id=\"line2d_3\">\n      <path d=\"M 163.638352 239.758125 \nL 163.638352 22.318125 \n\" clip-path=\"url(#p3e7cf12ca7)\" style=\"fill: none; stroke: #b0b0b0; stroke-width: 0.8; stroke-linecap: square\"/>\n     </g>\n     <g id=\"line2d_4\">\n      <g>\n       <use xlink:href=\"#mf9dfa664d3\" x=\"163.638352\" y=\"239.758125\" style=\"stroke: #000000; stroke-width: 0.8\"/>\n      </g>\n     </g>\n     <g id=\"text_2\">\n      <!-- 40 -->\n      <g transform=\"translate(157.275852 254.356562) scale(0.1 -0.1)\">\n       <defs>\n        <path id=\"DejaVuSans-34\" d=\"M 2419 4116 \nL 825 1625 \nL 2419 1625 \nL 2419 4116 \nz\nM 2253 4666 \nL 3047 4666 \nL 3047 1625 \nL 3713 1625 \nL 3713 1100 \nL 3047 1100 \nL 3047 0 \nL 2419 0 \nL 2419 1100 \nL 313 1100 \nL 313 1709 \nL 2253 4666 \nz\n\" transform=\"scale(0.015625)\"/>\n       </defs>\n       <use xlink:href=\"#DejaVuSans-34\"/>\n       <use xlink:href=\"#DejaVuSans-30\" x=\"63.623047\"/>\n      </g>\n     </g>\n    </g>\n    <g id=\"xtick_3\">\n     <g id=\"line2d_5\">\n      <path d=\"M 231.274716 239.758125 \nL 231.274716 22.318125 \n\" clip-path=\"url(#p3e7cf12ca7)\" style=\"fill: none; stroke: #b0b0b0; stroke-width: 0.8; stroke-linecap: square\"/>\n     </g>\n     <g id=\"line2d_6\">\n      <g>\n       <use xlink:href=\"#mf9dfa664d3\" x=\"231.274716\" y=\"239.758125\" style=\"stroke: #000000; stroke-width: 0.8\"/>\n      </g>\n     </g>\n     <g id=\"text_3\">\n      <!-- 60 -->\n      <g transform=\"translate(224.912216 254.356562) scale(0.1 -0.1)\">\n       <defs>\n        <path id=\"DejaVuSans-36\" d=\"M 2113 2584 \nQ 1688 2584 1439 2293 \nQ 1191 2003 1191 1497 \nQ 1191 994 1439 701 \nQ 1688 409 2113 409 \nQ 2538 409 2786 701 \nQ 3034 994 3034 1497 \nQ 3034 2003 2786 2293 \nQ 2538 2584 2113 2584 \nz\nM 3366 4563 \nL 3366 3988 \nQ 3128 4100 2886 4159 \nQ 2644 4219 2406 4219 \nQ 1781 4219 1451 3797 \nQ 1122 3375 1075 2522 \nQ 1259 2794 1537 2939 \nQ 1816 3084 2150 3084 \nQ 2853 3084 3261 2657 \nQ 3669 2231 3669 1497 \nQ 3669 778 3244 343 \nQ 2819 -91 2113 -91 \nQ 1303 -91 875 529 \nQ 447 1150 447 2328 \nQ 447 3434 972 4092 \nQ 1497 4750 2381 4750 \nQ 2619 4750 2861 4703 \nQ 3103 4656 3366 4563 \nz\n\" transform=\"scale(0.015625)\"/>\n       </defs>\n       <use xlink:href=\"#DejaVuSans-36\"/>\n       <use xlink:href=\"#DejaVuSans-30\" x=\"63.623047\"/>\n      </g>\n     </g>\n    </g>\n    <g id=\"xtick_4\">\n     <g id=\"line2d_7\">\n      <path d=\"M 298.91108 239.758125 \nL 298.91108 22.318125 \n\" clip-path=\"url(#p3e7cf12ca7)\" style=\"fill: none; stroke: #b0b0b0; stroke-width: 0.8; stroke-linecap: square\"/>\n     </g>\n     <g id=\"line2d_8\">\n      <g>\n       <use xlink:href=\"#mf9dfa664d3\" x=\"298.91108\" y=\"239.758125\" style=\"stroke: #000000; stroke-width: 0.8\"/>\n      </g>\n     </g>\n     <g id=\"text_4\">\n      <!-- 80 -->\n      <g transform=\"translate(292.54858 254.356562) scale(0.1 -0.1)\">\n       <defs>\n        <path id=\"DejaVuSans-38\" d=\"M 2034 2216 \nQ 1584 2216 1326 1975 \nQ 1069 1734 1069 1313 \nQ 1069 891 1326 650 \nQ 1584 409 2034 409 \nQ 2484 409 2743 651 \nQ 3003 894 3003 1313 \nQ 3003 1734 2745 1975 \nQ 2488 2216 2034 2216 \nz\nM 1403 2484 \nQ 997 2584 770 2862 \nQ 544 3141 544 3541 \nQ 544 4100 942 4425 \nQ 1341 4750 2034 4750 \nQ 2731 4750 3128 4425 \nQ 3525 4100 3525 3541 \nQ 3525 3141 3298 2862 \nQ 3072 2584 2669 2484 \nQ 3125 2378 3379 2068 \nQ 3634 1759 3634 1313 \nQ 3634 634 3220 271 \nQ 2806 -91 2034 -91 \nQ 1263 -91 848 271 \nQ 434 634 434 1313 \nQ 434 1759 690 2068 \nQ 947 2378 1403 2484 \nz\nM 1172 3481 \nQ 1172 3119 1398 2916 \nQ 1625 2713 2034 2713 \nQ 2441 2713 2670 2916 \nQ 2900 3119 2900 3481 \nQ 2900 3844 2670 4047 \nQ 2441 4250 2034 4250 \nQ 1625 4250 1398 4047 \nQ 1172 3844 1172 3481 \nz\n\" transform=\"scale(0.015625)\"/>\n       </defs>\n       <use xlink:href=\"#DejaVuSans-38\"/>\n       <use xlink:href=\"#DejaVuSans-30\" x=\"63.623047\"/>\n      </g>\n     </g>\n    </g>\n    <g id=\"xtick_5\">\n     <g id=\"line2d_9\">\n      <path d=\"M 366.547443 239.758125 \nL 366.547443 22.318125 \n\" clip-path=\"url(#p3e7cf12ca7)\" style=\"fill: none; stroke: #b0b0b0; stroke-width: 0.8; stroke-linecap: square\"/>\n     </g>\n     <g id=\"line2d_10\">\n      <g>\n       <use xlink:href=\"#mf9dfa664d3\" x=\"366.547443\" y=\"239.758125\" style=\"stroke: #000000; stroke-width: 0.8\"/>\n      </g>\n     </g>\n     <g id=\"text_5\">\n      <!-- 100 -->\n      <g transform=\"translate(357.003693 254.356562) scale(0.1 -0.1)\">\n       <defs>\n        <path id=\"DejaVuSans-31\" d=\"M 794 531 \nL 1825 531 \nL 1825 4091 \nL 703 3866 \nL 703 4441 \nL 1819 4666 \nL 2450 4666 \nL 2450 531 \nL 3481 531 \nL 3481 0 \nL 794 0 \nL 794 531 \nz\n\" transform=\"scale(0.015625)\"/>\n       </defs>\n       <use xlink:href=\"#DejaVuSans-31\"/>\n       <use xlink:href=\"#DejaVuSans-30\" x=\"63.623047\"/>\n       <use xlink:href=\"#DejaVuSans-30\" x=\"127.246094\"/>\n      </g>\n     </g>\n    </g>\n    <g id=\"text_6\">\n     <!-- Number of features -->\n     <g transform=\"translate(165.628125 268.034687) scale(0.1 -0.1)\">\n      <defs>\n       <path id=\"DejaVuSans-4e\" d=\"M 628 4666 \nL 1478 4666 \nL 3547 763 \nL 3547 4666 \nL 4159 4666 \nL 4159 0 \nL 3309 0 \nL 1241 3903 \nL 1241 0 \nL 628 0 \nL 628 4666 \nz\n\" transform=\"scale(0.015625)\"/>\n       <path id=\"DejaVuSans-75\" d=\"M 544 1381 \nL 544 3500 \nL 1119 3500 \nL 1119 1403 \nQ 1119 906 1312 657 \nQ 1506 409 1894 409 \nQ 2359 409 2629 706 \nQ 2900 1003 2900 1516 \nL 2900 3500 \nL 3475 3500 \nL 3475 0 \nL 2900 0 \nL 2900 538 \nQ 2691 219 2414 64 \nQ 2138 -91 1772 -91 \nQ 1169 -91 856 284 \nQ 544 659 544 1381 \nz\nM 1991 3584 \nL 1991 3584 \nz\n\" transform=\"scale(0.015625)\"/>\n       <path id=\"DejaVuSans-6d\" d=\"M 3328 2828 \nQ 3544 3216 3844 3400 \nQ 4144 3584 4550 3584 \nQ 5097 3584 5394 3201 \nQ 5691 2819 5691 2113 \nL 5691 0 \nL 5113 0 \nL 5113 2094 \nQ 5113 2597 4934 2840 \nQ 4756 3084 4391 3084 \nQ 3944 3084 3684 2787 \nQ 3425 2491 3425 1978 \nL 3425 0 \nL 2847 0 \nL 2847 2094 \nQ 2847 2600 2669 2842 \nQ 2491 3084 2119 3084 \nQ 1678 3084 1418 2786 \nQ 1159 2488 1159 1978 \nL 1159 0 \nL 581 0 \nL 581 3500 \nL 1159 3500 \nL 1159 2956 \nQ 1356 3278 1631 3431 \nQ 1906 3584 2284 3584 \nQ 2666 3584 2933 3390 \nQ 3200 3197 3328 2828 \nz\n\" transform=\"scale(0.015625)\"/>\n       <path id=\"DejaVuSans-62\" d=\"M 3116 1747 \nQ 3116 2381 2855 2742 \nQ 2594 3103 2138 3103 \nQ 1681 3103 1420 2742 \nQ 1159 2381 1159 1747 \nQ 1159 1113 1420 752 \nQ 1681 391 2138 391 \nQ 2594 391 2855 752 \nQ 3116 1113 3116 1747 \nz\nM 1159 2969 \nQ 1341 3281 1617 3432 \nQ 1894 3584 2278 3584 \nQ 2916 3584 3314 3078 \nQ 3713 2572 3713 1747 \nQ 3713 922 3314 415 \nQ 2916 -91 2278 -91 \nQ 1894 -91 1617 61 \nQ 1341 213 1159 525 \nL 1159 0 \nL 581 0 \nL 581 4863 \nL 1159 4863 \nL 1159 2969 \nz\n\" transform=\"scale(0.015625)\"/>\n       <path id=\"DejaVuSans-65\" d=\"M 3597 1894 \nL 3597 1613 \nL 953 1613 \nQ 991 1019 1311 708 \nQ 1631 397 2203 397 \nQ 2534 397 2845 478 \nQ 3156 559 3463 722 \nL 3463 178 \nQ 3153 47 2828 -22 \nQ 2503 -91 2169 -91 \nQ 1331 -91 842 396 \nQ 353 884 353 1716 \nQ 353 2575 817 3079 \nQ 1281 3584 2069 3584 \nQ 2775 3584 3186 3129 \nQ 3597 2675 3597 1894 \nz\nM 3022 2063 \nQ 3016 2534 2758 2815 \nQ 2500 3097 2075 3097 \nQ 1594 3097 1305 2825 \nQ 1016 2553 972 2059 \nL 3022 2063 \nz\n\" transform=\"scale(0.015625)\"/>\n       <path id=\"DejaVuSans-72\" d=\"M 2631 2963 \nQ 2534 3019 2420 3045 \nQ 2306 3072 2169 3072 \nQ 1681 3072 1420 2755 \nQ 1159 2438 1159 1844 \nL 1159 0 \nL 581 0 \nL 581 3500 \nL 1159 3500 \nL 1159 2956 \nQ 1341 3275 1631 3429 \nQ 1922 3584 2338 3584 \nQ 2397 3584 2469 3576 \nQ 2541 3569 2628 3553 \nL 2631 2963 \nz\n\" transform=\"scale(0.015625)\"/>\n       <path id=\"DejaVuSans-20\" transform=\"scale(0.015625)\"/>\n       <path id=\"DejaVuSans-6f\" d=\"M 1959 3097 \nQ 1497 3097 1228 2736 \nQ 959 2375 959 1747 \nQ 959 1119 1226 758 \nQ 1494 397 1959 397 \nQ 2419 397 2687 759 \nQ 2956 1122 2956 1747 \nQ 2956 2369 2687 2733 \nQ 2419 3097 1959 3097 \nz\nM 1959 3584 \nQ 2709 3584 3137 3096 \nQ 3566 2609 3566 1747 \nQ 3566 888 3137 398 \nQ 2709 -91 1959 -91 \nQ 1206 -91 779 398 \nQ 353 888 353 1747 \nQ 353 2609 779 3096 \nQ 1206 3584 1959 3584 \nz\n\" transform=\"scale(0.015625)\"/>\n       <path id=\"DejaVuSans-66\" d=\"M 2375 4863 \nL 2375 4384 \nL 1825 4384 \nQ 1516 4384 1395 4259 \nQ 1275 4134 1275 3809 \nL 1275 3500 \nL 2222 3500 \nL 2222 3053 \nL 1275 3053 \nL 1275 0 \nL 697 0 \nL 697 3053 \nL 147 3053 \nL 147 3500 \nL 697 3500 \nL 697 3744 \nQ 697 4328 969 4595 \nQ 1241 4863 1831 4863 \nL 2375 4863 \nz\n\" transform=\"scale(0.015625)\"/>\n       <path id=\"DejaVuSans-61\" d=\"M 2194 1759 \nQ 1497 1759 1228 1600 \nQ 959 1441 959 1056 \nQ 959 750 1161 570 \nQ 1363 391 1709 391 \nQ 2188 391 2477 730 \nQ 2766 1069 2766 1631 \nL 2766 1759 \nL 2194 1759 \nz\nM 3341 1997 \nL 3341 0 \nL 2766 0 \nL 2766 531 \nQ 2569 213 2275 61 \nQ 1981 -91 1556 -91 \nQ 1019 -91 701 211 \nQ 384 513 384 1019 \nQ 384 1609 779 1909 \nQ 1175 2209 1959 2209 \nL 2766 2209 \nL 2766 2266 \nQ 2766 2663 2505 2880 \nQ 2244 3097 1772 3097 \nQ 1472 3097 1187 3025 \nQ 903 2953 641 2809 \nL 641 3341 \nQ 956 3463 1253 3523 \nQ 1550 3584 1831 3584 \nQ 2591 3584 2966 3190 \nQ 3341 2797 3341 1997 \nz\n\" transform=\"scale(0.015625)\"/>\n       <path id=\"DejaVuSans-74\" d=\"M 1172 4494 \nL 1172 3500 \nL 2356 3500 \nL 2356 3053 \nL 1172 3053 \nL 1172 1153 \nQ 1172 725 1289 603 \nQ 1406 481 1766 481 \nL 2356 481 \nL 2356 0 \nL 1766 0 \nQ 1100 0 847 248 \nQ 594 497 594 1153 \nL 594 3053 \nL 172 3053 \nL 172 3500 \nL 594 3500 \nL 594 4494 \nL 1172 4494 \nz\n\" transform=\"scale(0.015625)\"/>\n       <path id=\"DejaVuSans-73\" d=\"M 2834 3397 \nL 2834 2853 \nQ 2591 2978 2328 3040 \nQ 2066 3103 1784 3103 \nQ 1356 3103 1142 2972 \nQ 928 2841 928 2578 \nQ 928 2378 1081 2264 \nQ 1234 2150 1697 2047 \nL 1894 2003 \nQ 2506 1872 2764 1633 \nQ 3022 1394 3022 966 \nQ 3022 478 2636 193 \nQ 2250 -91 1575 -91 \nQ 1294 -91 989 -36 \nQ 684 19 347 128 \nL 347 722 \nQ 666 556 975 473 \nQ 1284 391 1588 391 \nQ 1994 391 2212 530 \nQ 2431 669 2431 922 \nQ 2431 1156 2273 1281 \nQ 2116 1406 1581 1522 \nL 1381 1569 \nQ 847 1681 609 1914 \nQ 372 2147 372 2553 \nQ 372 3047 722 3315 \nQ 1072 3584 1716 3584 \nQ 2034 3584 2315 3537 \nQ 2597 3491 2834 3397 \nz\n\" transform=\"scale(0.015625)\"/>\n      </defs>\n      <use xlink:href=\"#DejaVuSans-4e\"/>\n      <use xlink:href=\"#DejaVuSans-75\" x=\"74.804688\"/>\n      <use xlink:href=\"#DejaVuSans-6d\" x=\"138.183594\"/>\n      <use xlink:href=\"#DejaVuSans-62\" x=\"235.595703\"/>\n      <use xlink:href=\"#DejaVuSans-65\" x=\"299.072266\"/>\n      <use xlink:href=\"#DejaVuSans-72\" x=\"360.595703\"/>\n      <use xlink:href=\"#DejaVuSans-20\" x=\"401.708984\"/>\n      <use xlink:href=\"#DejaVuSans-6f\" x=\"433.496094\"/>\n      <use xlink:href=\"#DejaVuSans-66\" x=\"494.677734\"/>\n      <use xlink:href=\"#DejaVuSans-20\" x=\"529.882812\"/>\n      <use xlink:href=\"#DejaVuSans-66\" x=\"561.669922\"/>\n      <use xlink:href=\"#DejaVuSans-65\" x=\"596.875\"/>\n      <use xlink:href=\"#DejaVuSans-61\" x=\"658.398438\"/>\n      <use xlink:href=\"#DejaVuSans-74\" x=\"719.677734\"/>\n      <use xlink:href=\"#DejaVuSans-75\" x=\"758.886719\"/>\n      <use xlink:href=\"#DejaVuSans-72\" x=\"822.265625\"/>\n      <use xlink:href=\"#DejaVuSans-65\" x=\"861.128906\"/>\n      <use xlink:href=\"#DejaVuSans-73\" x=\"922.652344\"/>\n     </g>\n    </g>\n   </g>\n   <g id=\"matplotlib.axis_2\">\n    <g id=\"ytick_1\">\n     <g id=\"line2d_11\">\n      <path d=\"M 46.965625 234.113635 \nL 381.765625 234.113635 \n\" clip-path=\"url(#p3e7cf12ca7)\" style=\"fill: none; stroke: #b0b0b0; stroke-width: 0.8; stroke-linecap: square\"/>\n     </g>\n     <g id=\"line2d_12\">\n      <defs>\n       <path id=\"m57fd2d9685\" d=\"M 0 0 \nL -3.5 0 \n\" style=\"stroke: #000000; stroke-width: 0.8\"/>\n      </defs>\n      <g>\n       <use xlink:href=\"#m57fd2d9685\" x=\"46.965625\" y=\"234.113635\" style=\"stroke: #000000; stroke-width: 0.8\"/>\n      </g>\n     </g>\n     <g id=\"text_7\">\n      <!-- 0 -->\n      <g transform=\"translate(33.603125 237.912854) scale(0.1 -0.1)\">\n       <use xlink:href=\"#DejaVuSans-30\"/>\n      </g>\n     </g>\n    </g>\n    <g id=\"ytick_2\">\n     <g id=\"line2d_13\">\n      <path d=\"M 46.965625 209.507283 \nL 381.765625 209.507283 \n\" clip-path=\"url(#p3e7cf12ca7)\" style=\"fill: none; stroke: #b0b0b0; stroke-width: 0.8; stroke-linecap: square\"/>\n     </g>\n     <g id=\"line2d_14\">\n      <g>\n       <use xlink:href=\"#m57fd2d9685\" x=\"46.965625\" y=\"209.507283\" style=\"stroke: #000000; stroke-width: 0.8\"/>\n      </g>\n     </g>\n     <g id=\"text_8\">\n      <!-- 20 -->\n      <g transform=\"translate(27.240625 213.306502) scale(0.1 -0.1)\">\n       <use xlink:href=\"#DejaVuSans-32\"/>\n       <use xlink:href=\"#DejaVuSans-30\" x=\"63.623047\"/>\n      </g>\n     </g>\n    </g>\n    <g id=\"ytick_3\">\n     <g id=\"line2d_15\">\n      <path d=\"M 46.965625 184.900932 \nL 381.765625 184.900932 \n\" clip-path=\"url(#p3e7cf12ca7)\" style=\"fill: none; stroke: #b0b0b0; stroke-width: 0.8; stroke-linecap: square\"/>\n     </g>\n     <g id=\"line2d_16\">\n      <g>\n       <use xlink:href=\"#m57fd2d9685\" x=\"46.965625\" y=\"184.900932\" style=\"stroke: #000000; stroke-width: 0.8\"/>\n      </g>\n     </g>\n     <g id=\"text_9\">\n      <!-- 40 -->\n      <g transform=\"translate(27.240625 188.700151) scale(0.1 -0.1)\">\n       <use xlink:href=\"#DejaVuSans-34\"/>\n       <use xlink:href=\"#DejaVuSans-30\" x=\"63.623047\"/>\n      </g>\n     </g>\n    </g>\n    <g id=\"ytick_4\">\n     <g id=\"line2d_17\">\n      <path d=\"M 46.965625 160.29458 \nL 381.765625 160.29458 \n\" clip-path=\"url(#p3e7cf12ca7)\" style=\"fill: none; stroke: #b0b0b0; stroke-width: 0.8; stroke-linecap: square\"/>\n     </g>\n     <g id=\"line2d_18\">\n      <g>\n       <use xlink:href=\"#m57fd2d9685\" x=\"46.965625\" y=\"160.29458\" style=\"stroke: #000000; stroke-width: 0.8\"/>\n      </g>\n     </g>\n     <g id=\"text_10\">\n      <!-- 60 -->\n      <g transform=\"translate(27.240625 164.093799) scale(0.1 -0.1)\">\n       <use xlink:href=\"#DejaVuSans-36\"/>\n       <use xlink:href=\"#DejaVuSans-30\" x=\"63.623047\"/>\n      </g>\n     </g>\n    </g>\n    <g id=\"ytick_5\">\n     <g id=\"line2d_19\">\n      <path d=\"M 46.965625 135.688228 \nL 381.765625 135.688228 \n\" clip-path=\"url(#p3e7cf12ca7)\" style=\"fill: none; stroke: #b0b0b0; stroke-width: 0.8; stroke-linecap: square\"/>\n     </g>\n     <g id=\"line2d_20\">\n      <g>\n       <use xlink:href=\"#m57fd2d9685\" x=\"46.965625\" y=\"135.688228\" style=\"stroke: #000000; stroke-width: 0.8\"/>\n      </g>\n     </g>\n     <g id=\"text_11\">\n      <!-- 80 -->\n      <g transform=\"translate(27.240625 139.487447) scale(0.1 -0.1)\">\n       <use xlink:href=\"#DejaVuSans-38\"/>\n       <use xlink:href=\"#DejaVuSans-30\" x=\"63.623047\"/>\n      </g>\n     </g>\n    </g>\n    <g id=\"ytick_6\">\n     <g id=\"line2d_21\">\n      <path d=\"M 46.965625 111.081877 \nL 381.765625 111.081877 \n\" clip-path=\"url(#p3e7cf12ca7)\" style=\"fill: none; stroke: #b0b0b0; stroke-width: 0.8; stroke-linecap: square\"/>\n     </g>\n     <g id=\"line2d_22\">\n      <g>\n       <use xlink:href=\"#m57fd2d9685\" x=\"46.965625\" y=\"111.081877\" style=\"stroke: #000000; stroke-width: 0.8\"/>\n      </g>\n     </g>\n     <g id=\"text_12\">\n      <!-- 100 -->\n      <g transform=\"translate(20.878125 114.881095) scale(0.1 -0.1)\">\n       <use xlink:href=\"#DejaVuSans-31\"/>\n       <use xlink:href=\"#DejaVuSans-30\" x=\"63.623047\"/>\n       <use xlink:href=\"#DejaVuSans-30\" x=\"127.246094\"/>\n      </g>\n     </g>\n    </g>\n    <g id=\"ytick_7\">\n     <g id=\"line2d_23\">\n      <path d=\"M 46.965625 86.475525 \nL 381.765625 86.475525 \n\" clip-path=\"url(#p3e7cf12ca7)\" style=\"fill: none; stroke: #b0b0b0; stroke-width: 0.8; stroke-linecap: square\"/>\n     </g>\n     <g id=\"line2d_24\">\n      <g>\n       <use xlink:href=\"#m57fd2d9685\" x=\"46.965625\" y=\"86.475525\" style=\"stroke: #000000; stroke-width: 0.8\"/>\n      </g>\n     </g>\n     <g id=\"text_13\">\n      <!-- 120 -->\n      <g transform=\"translate(20.878125 90.274744) scale(0.1 -0.1)\">\n       <use xlink:href=\"#DejaVuSans-31\"/>\n       <use xlink:href=\"#DejaVuSans-32\" x=\"63.623047\"/>\n       <use xlink:href=\"#DejaVuSans-30\" x=\"127.246094\"/>\n      </g>\n     </g>\n    </g>\n    <g id=\"ytick_8\">\n     <g id=\"line2d_25\">\n      <path d=\"M 46.965625 61.869173 \nL 381.765625 61.869173 \n\" clip-path=\"url(#p3e7cf12ca7)\" style=\"fill: none; stroke: #b0b0b0; stroke-width: 0.8; stroke-linecap: square\"/>\n     </g>\n     <g id=\"line2d_26\">\n      <g>\n       <use xlink:href=\"#m57fd2d9685\" x=\"46.965625\" y=\"61.869173\" style=\"stroke: #000000; stroke-width: 0.8\"/>\n      </g>\n     </g>\n     <g id=\"text_14\">\n      <!-- 140 -->\n      <g transform=\"translate(20.878125 65.668392) scale(0.1 -0.1)\">\n       <use xlink:href=\"#DejaVuSans-31\"/>\n       <use xlink:href=\"#DejaVuSans-34\" x=\"63.623047\"/>\n       <use xlink:href=\"#DejaVuSans-30\" x=\"127.246094\"/>\n      </g>\n     </g>\n    </g>\n    <g id=\"ytick_9\">\n     <g id=\"line2d_27\">\n      <path d=\"M 46.965625 37.262822 \nL 381.765625 37.262822 \n\" clip-path=\"url(#p3e7cf12ca7)\" style=\"fill: none; stroke: #b0b0b0; stroke-width: 0.8; stroke-linecap: square\"/>\n     </g>\n     <g id=\"line2d_28\">\n      <g>\n       <use xlink:href=\"#m57fd2d9685\" x=\"46.965625\" y=\"37.262822\" style=\"stroke: #000000; stroke-width: 0.8\"/>\n      </g>\n     </g>\n     <g id=\"text_15\">\n      <!-- 160 -->\n      <g transform=\"translate(20.878125 41.06204) scale(0.1 -0.1)\">\n       <use xlink:href=\"#DejaVuSans-31\"/>\n       <use xlink:href=\"#DejaVuSans-36\" x=\"63.623047\"/>\n       <use xlink:href=\"#DejaVuSans-30\" x=\"127.246094\"/>\n      </g>\n     </g>\n    </g>\n    <g id=\"text_16\">\n     <!-- Run time (s) -->\n     <g transform=\"translate(14.798438 161.605312) rotate(-90) scale(0.1 -0.1)\">\n      <defs>\n       <path id=\"DejaVuSans-52\" d=\"M 2841 2188 \nQ 3044 2119 3236 1894 \nQ 3428 1669 3622 1275 \nL 4263 0 \nL 3584 0 \nL 2988 1197 \nQ 2756 1666 2539 1819 \nQ 2322 1972 1947 1972 \nL 1259 1972 \nL 1259 0 \nL 628 0 \nL 628 4666 \nL 2053 4666 \nQ 2853 4666 3247 4331 \nQ 3641 3997 3641 3322 \nQ 3641 2881 3436 2590 \nQ 3231 2300 2841 2188 \nz\nM 1259 4147 \nL 1259 2491 \nL 2053 2491 \nQ 2509 2491 2742 2702 \nQ 2975 2913 2975 3322 \nQ 2975 3731 2742 3939 \nQ 2509 4147 2053 4147 \nL 1259 4147 \nz\n\" transform=\"scale(0.015625)\"/>\n       <path id=\"DejaVuSans-6e\" d=\"M 3513 2113 \nL 3513 0 \nL 2938 0 \nL 2938 2094 \nQ 2938 2591 2744 2837 \nQ 2550 3084 2163 3084 \nQ 1697 3084 1428 2787 \nQ 1159 2491 1159 1978 \nL 1159 0 \nL 581 0 \nL 581 3500 \nL 1159 3500 \nL 1159 2956 \nQ 1366 3272 1645 3428 \nQ 1925 3584 2291 3584 \nQ 2894 3584 3203 3211 \nQ 3513 2838 3513 2113 \nz\n\" transform=\"scale(0.015625)\"/>\n       <path id=\"DejaVuSans-69\" d=\"M 603 3500 \nL 1178 3500 \nL 1178 0 \nL 603 0 \nL 603 3500 \nz\nM 603 4863 \nL 1178 4863 \nL 1178 4134 \nL 603 4134 \nL 603 4863 \nz\n\" transform=\"scale(0.015625)\"/>\n       <path id=\"DejaVuSans-28\" d=\"M 1984 4856 \nQ 1566 4138 1362 3434 \nQ 1159 2731 1159 2009 \nQ 1159 1288 1364 580 \nQ 1569 -128 1984 -844 \nL 1484 -844 \nQ 1016 -109 783 600 \nQ 550 1309 550 2009 \nQ 550 2706 781 3412 \nQ 1013 4119 1484 4856 \nL 1984 4856 \nz\n\" transform=\"scale(0.015625)\"/>\n       <path id=\"DejaVuSans-29\" d=\"M 513 4856 \nL 1013 4856 \nQ 1481 4119 1714 3412 \nQ 1947 2706 1947 2009 \nQ 1947 1309 1714 600 \nQ 1481 -109 1013 -844 \nL 513 -844 \nQ 928 -128 1133 580 \nQ 1338 1288 1338 2009 \nQ 1338 2731 1133 3434 \nQ 928 4138 513 4856 \nz\n\" transform=\"scale(0.015625)\"/>\n      </defs>\n      <use xlink:href=\"#DejaVuSans-52\"/>\n      <use xlink:href=\"#DejaVuSans-75\" x=\"64.982422\"/>\n      <use xlink:href=\"#DejaVuSans-6e\" x=\"128.361328\"/>\n      <use xlink:href=\"#DejaVuSans-20\" x=\"191.740234\"/>\n      <use xlink:href=\"#DejaVuSans-74\" x=\"223.527344\"/>\n      <use xlink:href=\"#DejaVuSans-69\" x=\"262.736328\"/>\n      <use xlink:href=\"#DejaVuSans-6d\" x=\"290.519531\"/>\n      <use xlink:href=\"#DejaVuSans-65\" x=\"387.931641\"/>\n      <use xlink:href=\"#DejaVuSans-20\" x=\"449.455078\"/>\n      <use xlink:href=\"#DejaVuSans-28\" x=\"481.242188\"/>\n      <use xlink:href=\"#DejaVuSans-73\" x=\"520.255859\"/>\n      <use xlink:href=\"#DejaVuSans-29\" x=\"572.355469\"/>\n     </g>\n    </g>\n   </g>\n   <g id=\"line2d_29\">\n    <path d=\"M 62.183807 229.874489 \nL 96.001989 214.185111 \nL 366.547443 32.201761 \n\" clip-path=\"url(#p3e7cf12ca7)\" style=\"fill: none; stroke: #008000; stroke-width: 1.5; stroke-linecap: square\"/>\n   </g>\n   <g id=\"line2d_30\">\n    <path d=\"M 62.183807 221.981917 \nL 96.001989 221.490094 \nL 366.547443 211.866027 \n\" clip-path=\"url(#p3e7cf12ca7)\" style=\"fill: none; stroke: #ff0000; stroke-width: 1.5; stroke-linecap: square\"/>\n   </g>\n   <g id=\"line2d_31\">\n    <path d=\"M 62.183807 175.816922 \nL 96.001989 142.328805 \nL 366.547443 154.704046 \n\" clip-path=\"url(#p3e7cf12ca7)\" style=\"fill: none; stroke: #0000ff; stroke-width: 1.5; stroke-linecap: square\"/>\n   </g>\n   <g id=\"line2d_32\">\n    <path d=\"M 62.183807 228.340521 \nL 96.001989 187.53472 \nL 366.547443 43.84939 \n\" clip-path=\"url(#p3e7cf12ca7)\" style=\"fill: none; stroke: #ff8c00; stroke-width: 1.5; stroke-linecap: square\"/>\n   </g>\n   <g id=\"patch_3\">\n    <path d=\"M 46.965625 239.758125 \nL 46.965625 22.318125 \n\" style=\"fill: none; stroke: #000000; stroke-width: 0.8; stroke-linejoin: miter; stroke-linecap: square\"/>\n   </g>\n   <g id=\"patch_4\">\n    <path d=\"M 381.765625 239.758125 \nL 381.765625 22.318125 \n\" style=\"fill: none; stroke: #000000; stroke-width: 0.8; stroke-linejoin: miter; stroke-linecap: square\"/>\n   </g>\n   <g id=\"patch_5\">\n    <path d=\"M 46.965625 239.758125 \nL 381.765625 239.758125 \n\" style=\"fill: none; stroke: #000000; stroke-width: 0.8; stroke-linejoin: miter; stroke-linecap: square\"/>\n   </g>\n   <g id=\"patch_6\">\n    <path d=\"M 46.965625 22.318125 \nL 381.765625 22.318125 \n\" style=\"fill: none; stroke: #000000; stroke-width: 0.8; stroke-linejoin: miter; stroke-linecap: square\"/>\n   </g>\n   <g id=\"text_17\">\n    <!-- Dependence run time algorithm from number of features -->\n    <g transform=\"translate(42.58 16.318125) scale(0.12 -0.12)\">\n     <defs>\n      <path id=\"DejaVuSans-44\" d=\"M 1259 4147 \nL 1259 519 \nL 2022 519 \nQ 2988 519 3436 956 \nQ 3884 1394 3884 2338 \nQ 3884 3275 3436 3711 \nQ 2988 4147 2022 4147 \nL 1259 4147 \nz\nM 628 4666 \nL 1925 4666 \nQ 3281 4666 3915 4102 \nQ 4550 3538 4550 2338 \nQ 4550 1131 3912 565 \nQ 3275 0 1925 0 \nL 628 0 \nL 628 4666 \nz\n\" transform=\"scale(0.015625)\"/>\n      <path id=\"DejaVuSans-70\" d=\"M 1159 525 \nL 1159 -1331 \nL 581 -1331 \nL 581 3500 \nL 1159 3500 \nL 1159 2969 \nQ 1341 3281 1617 3432 \nQ 1894 3584 2278 3584 \nQ 2916 3584 3314 3078 \nQ 3713 2572 3713 1747 \nQ 3713 922 3314 415 \nQ 2916 -91 2278 -91 \nQ 1894 -91 1617 61 \nQ 1341 213 1159 525 \nz\nM 3116 1747 \nQ 3116 2381 2855 2742 \nQ 2594 3103 2138 3103 \nQ 1681 3103 1420 2742 \nQ 1159 2381 1159 1747 \nQ 1159 1113 1420 752 \nQ 1681 391 2138 391 \nQ 2594 391 2855 752 \nQ 3116 1113 3116 1747 \nz\n\" transform=\"scale(0.015625)\"/>\n      <path id=\"DejaVuSans-64\" d=\"M 2906 2969 \nL 2906 4863 \nL 3481 4863 \nL 3481 0 \nL 2906 0 \nL 2906 525 \nQ 2725 213 2448 61 \nQ 2172 -91 1784 -91 \nQ 1150 -91 751 415 \nQ 353 922 353 1747 \nQ 353 2572 751 3078 \nQ 1150 3584 1784 3584 \nQ 2172 3584 2448 3432 \nQ 2725 3281 2906 2969 \nz\nM 947 1747 \nQ 947 1113 1208 752 \nQ 1469 391 1925 391 \nQ 2381 391 2643 752 \nQ 2906 1113 2906 1747 \nQ 2906 2381 2643 2742 \nQ 2381 3103 1925 3103 \nQ 1469 3103 1208 2742 \nQ 947 2381 947 1747 \nz\n\" transform=\"scale(0.015625)\"/>\n      <path id=\"DejaVuSans-63\" d=\"M 3122 3366 \nL 3122 2828 \nQ 2878 2963 2633 3030 \nQ 2388 3097 2138 3097 \nQ 1578 3097 1268 2742 \nQ 959 2388 959 1747 \nQ 959 1106 1268 751 \nQ 1578 397 2138 397 \nQ 2388 397 2633 464 \nQ 2878 531 3122 666 \nL 3122 134 \nQ 2881 22 2623 -34 \nQ 2366 -91 2075 -91 \nQ 1284 -91 818 406 \nQ 353 903 353 1747 \nQ 353 2603 823 3093 \nQ 1294 3584 2113 3584 \nQ 2378 3584 2631 3529 \nQ 2884 3475 3122 3366 \nz\n\" transform=\"scale(0.015625)\"/>\n      <path id=\"DejaVuSans-6c\" d=\"M 603 4863 \nL 1178 4863 \nL 1178 0 \nL 603 0 \nL 603 4863 \nz\n\" transform=\"scale(0.015625)\"/>\n      <path id=\"DejaVuSans-67\" d=\"M 2906 1791 \nQ 2906 2416 2648 2759 \nQ 2391 3103 1925 3103 \nQ 1463 3103 1205 2759 \nQ 947 2416 947 1791 \nQ 947 1169 1205 825 \nQ 1463 481 1925 481 \nQ 2391 481 2648 825 \nQ 2906 1169 2906 1791 \nz\nM 3481 434 \nQ 3481 -459 3084 -895 \nQ 2688 -1331 1869 -1331 \nQ 1566 -1331 1297 -1286 \nQ 1028 -1241 775 -1147 \nL 775 -588 \nQ 1028 -725 1275 -790 \nQ 1522 -856 1778 -856 \nQ 2344 -856 2625 -561 \nQ 2906 -266 2906 331 \nL 2906 616 \nQ 2728 306 2450 153 \nQ 2172 0 1784 0 \nQ 1141 0 747 490 \nQ 353 981 353 1791 \nQ 353 2603 747 3093 \nQ 1141 3584 1784 3584 \nQ 2172 3584 2450 3431 \nQ 2728 3278 2906 2969 \nL 2906 3500 \nL 3481 3500 \nL 3481 434 \nz\n\" transform=\"scale(0.015625)\"/>\n      <path id=\"DejaVuSans-68\" d=\"M 3513 2113 \nL 3513 0 \nL 2938 0 \nL 2938 2094 \nQ 2938 2591 2744 2837 \nQ 2550 3084 2163 3084 \nQ 1697 3084 1428 2787 \nQ 1159 2491 1159 1978 \nL 1159 0 \nL 581 0 \nL 581 4863 \nL 1159 4863 \nL 1159 2956 \nQ 1366 3272 1645 3428 \nQ 1925 3584 2291 3584 \nQ 2894 3584 3203 3211 \nQ 3513 2838 3513 2113 \nz\n\" transform=\"scale(0.015625)\"/>\n     </defs>\n     <use xlink:href=\"#DejaVuSans-44\"/>\n     <use xlink:href=\"#DejaVuSans-65\" x=\"77.001953\"/>\n     <use xlink:href=\"#DejaVuSans-70\" x=\"138.525391\"/>\n     <use xlink:href=\"#DejaVuSans-65\" x=\"202.001953\"/>\n     <use xlink:href=\"#DejaVuSans-6e\" x=\"263.525391\"/>\n     <use xlink:href=\"#DejaVuSans-64\" x=\"326.904297\"/>\n     <use xlink:href=\"#DejaVuSans-65\" x=\"390.380859\"/>\n     <use xlink:href=\"#DejaVuSans-6e\" x=\"451.904297\"/>\n     <use xlink:href=\"#DejaVuSans-63\" x=\"515.283203\"/>\n     <use xlink:href=\"#DejaVuSans-65\" x=\"570.263672\"/>\n     <use xlink:href=\"#DejaVuSans-20\" x=\"631.787109\"/>\n     <use xlink:href=\"#DejaVuSans-72\" x=\"663.574219\"/>\n     <use xlink:href=\"#DejaVuSans-75\" x=\"704.6875\"/>\n     <use xlink:href=\"#DejaVuSans-6e\" x=\"768.066406\"/>\n     <use xlink:href=\"#DejaVuSans-20\" x=\"831.445312\"/>\n     <use xlink:href=\"#DejaVuSans-74\" x=\"863.232422\"/>\n     <use xlink:href=\"#DejaVuSans-69\" x=\"902.441406\"/>\n     <use xlink:href=\"#DejaVuSans-6d\" x=\"930.224609\"/>\n     <use xlink:href=\"#DejaVuSans-65\" x=\"1027.636719\"/>\n     <use xlink:href=\"#DejaVuSans-20\" x=\"1089.160156\"/>\n     <use xlink:href=\"#DejaVuSans-61\" x=\"1120.947266\"/>\n     <use xlink:href=\"#DejaVuSans-6c\" x=\"1182.226562\"/>\n     <use xlink:href=\"#DejaVuSans-67\" x=\"1210.009766\"/>\n     <use xlink:href=\"#DejaVuSans-6f\" x=\"1273.486328\"/>\n     <use xlink:href=\"#DejaVuSans-72\" x=\"1334.667969\"/>\n     <use xlink:href=\"#DejaVuSans-69\" x=\"1375.78125\"/>\n     <use xlink:href=\"#DejaVuSans-74\" x=\"1403.564453\"/>\n     <use xlink:href=\"#DejaVuSans-68\" x=\"1442.773438\"/>\n     <use xlink:href=\"#DejaVuSans-6d\" x=\"1506.152344\"/>\n     <use xlink:href=\"#DejaVuSans-20\" x=\"1603.564453\"/>\n     <use xlink:href=\"#DejaVuSans-66\" x=\"1635.351562\"/>\n     <use xlink:href=\"#DejaVuSans-72\" x=\"1670.556641\"/>\n     <use xlink:href=\"#DejaVuSans-6f\" x=\"1709.419922\"/>\n     <use xlink:href=\"#DejaVuSans-6d\" x=\"1770.601562\"/>\n     <use xlink:href=\"#DejaVuSans-20\" x=\"1868.013672\"/>\n     <use xlink:href=\"#DejaVuSans-6e\" x=\"1899.800781\"/>\n     <use xlink:href=\"#DejaVuSans-75\" x=\"1963.179688\"/>\n     <use xlink:href=\"#DejaVuSans-6d\" x=\"2026.558594\"/>\n     <use xlink:href=\"#DejaVuSans-62\" x=\"2123.970703\"/>\n     <use xlink:href=\"#DejaVuSans-65\" x=\"2187.447266\"/>\n     <use xlink:href=\"#DejaVuSans-72\" x=\"2248.970703\"/>\n     <use xlink:href=\"#DejaVuSans-20\" x=\"2290.083984\"/>\n     <use xlink:href=\"#DejaVuSans-6f\" x=\"2321.871094\"/>\n     <use xlink:href=\"#DejaVuSans-66\" x=\"2383.052734\"/>\n     <use xlink:href=\"#DejaVuSans-20\" x=\"2418.257812\"/>\n     <use xlink:href=\"#DejaVuSans-66\" x=\"2450.044922\"/>\n     <use xlink:href=\"#DejaVuSans-65\" x=\"2485.25\"/>\n     <use xlink:href=\"#DejaVuSans-61\" x=\"2546.773438\"/>\n     <use xlink:href=\"#DejaVuSans-74\" x=\"2608.052734\"/>\n     <use xlink:href=\"#DejaVuSans-75\" x=\"2647.261719\"/>\n     <use xlink:href=\"#DejaVuSans-72\" x=\"2710.640625\"/>\n     <use xlink:href=\"#DejaVuSans-65\" x=\"2749.503906\"/>\n     <use xlink:href=\"#DejaVuSans-73\" x=\"2811.027344\"/>\n    </g>\n   </g>\n   <g id=\"legend_1\">\n    <g id=\"patch_7\">\n     <path d=\"M 53.965625 89.865 \nL 129.110938 89.865 \nQ 131.110938 89.865 131.110938 87.865 \nL 131.110938 29.318125 \nQ 131.110938 27.318125 129.110938 27.318125 \nL 53.965625 27.318125 \nQ 51.965625 27.318125 51.965625 29.318125 \nL 51.965625 87.865 \nQ 51.965625 89.865 53.965625 89.865 \nz\n\" style=\"fill: #ffffff; opacity: 0.8; stroke: #cccccc; stroke-linejoin: miter\"/>\n    </g>\n    <g id=\"line2d_33\">\n     <path d=\"M 55.965625 35.416562 \nL 65.965625 35.416562 \nL 75.965625 35.416562 \n\" style=\"fill: none; stroke: #008000; stroke-width: 1.5; stroke-linecap: square\"/>\n    </g>\n    <g id=\"text_18\">\n     <!-- kd_tree -->\n     <g transform=\"translate(83.965625 38.916562) scale(0.1 -0.1)\">\n      <defs>\n       <path id=\"DejaVuSans-6b\" d=\"M 581 4863 \nL 1159 4863 \nL 1159 1991 \nL 2875 3500 \nL 3609 3500 \nL 1753 1863 \nL 3688 0 \nL 2938 0 \nL 1159 1709 \nL 1159 0 \nL 581 0 \nL 581 4863 \nz\n\" transform=\"scale(0.015625)\"/>\n       <path id=\"DejaVuSans-5f\" d=\"M 3263 -1063 \nL 3263 -1509 \nL -63 -1509 \nL -63 -1063 \nL 3263 -1063 \nz\n\" transform=\"scale(0.015625)\"/>\n      </defs>\n      <use xlink:href=\"#DejaVuSans-6b\"/>\n      <use xlink:href=\"#DejaVuSans-64\" x=\"57.910156\"/>\n      <use xlink:href=\"#DejaVuSans-5f\" x=\"121.386719\"/>\n      <use xlink:href=\"#DejaVuSans-74\" x=\"171.386719\"/>\n      <use xlink:href=\"#DejaVuSans-72\" x=\"210.595703\"/>\n      <use xlink:href=\"#DejaVuSans-65\" x=\"249.458984\"/>\n      <use xlink:href=\"#DejaVuSans-65\" x=\"310.982422\"/>\n     </g>\n    </g>\n    <g id=\"line2d_34\">\n     <path d=\"M 55.965625 50.372813 \nL 65.965625 50.372813 \nL 75.965625 50.372813 \n\" style=\"fill: none; stroke: #ff0000; stroke-width: 1.5; stroke-linecap: square\"/>\n    </g>\n    <g id=\"text_19\">\n     <!-- brute -->\n     <g transform=\"translate(83.965625 53.872813) scale(0.1 -0.1)\">\n      <use xlink:href=\"#DejaVuSans-62\"/>\n      <use xlink:href=\"#DejaVuSans-72\" x=\"63.476562\"/>\n      <use xlink:href=\"#DejaVuSans-75\" x=\"104.589844\"/>\n      <use xlink:href=\"#DejaVuSans-74\" x=\"167.96875\"/>\n      <use xlink:href=\"#DejaVuSans-65\" x=\"207.177734\"/>\n     </g>\n    </g>\n    <g id=\"line2d_35\">\n     <path d=\"M 55.965625 65.050938 \nL 65.965625 65.050938 \nL 75.965625 65.050938 \n\" style=\"fill: none; stroke: #0000ff; stroke-width: 1.5; stroke-linecap: square\"/>\n    </g>\n    <g id=\"text_20\">\n     <!-- my_own -->\n     <g transform=\"translate(83.965625 68.550938) scale(0.1 -0.1)\">\n      <defs>\n       <path id=\"DejaVuSans-79\" d=\"M 2059 -325 \nQ 1816 -950 1584 -1140 \nQ 1353 -1331 966 -1331 \nL 506 -1331 \nL 506 -850 \nL 844 -850 \nQ 1081 -850 1212 -737 \nQ 1344 -625 1503 -206 \nL 1606 56 \nL 191 3500 \nL 800 3500 \nL 1894 763 \nL 2988 3500 \nL 3597 3500 \nL 2059 -325 \nz\n\" transform=\"scale(0.015625)\"/>\n       <path id=\"DejaVuSans-77\" d=\"M 269 3500 \nL 844 3500 \nL 1563 769 \nL 2278 3500 \nL 2956 3500 \nL 3675 769 \nL 4391 3500 \nL 4966 3500 \nL 4050 0 \nL 3372 0 \nL 2619 2869 \nL 1863 0 \nL 1184 0 \nL 269 3500 \nz\n\" transform=\"scale(0.015625)\"/>\n      </defs>\n      <use xlink:href=\"#DejaVuSans-6d\"/>\n      <use xlink:href=\"#DejaVuSans-79\" x=\"97.412109\"/>\n      <use xlink:href=\"#DejaVuSans-5f\" x=\"156.591797\"/>\n      <use xlink:href=\"#DejaVuSans-6f\" x=\"206.591797\"/>\n      <use xlink:href=\"#DejaVuSans-77\" x=\"267.773438\"/>\n      <use xlink:href=\"#DejaVuSans-6e\" x=\"349.560547\"/>\n     </g>\n    </g>\n    <g id=\"line2d_36\">\n     <path d=\"M 55.965625 80.007187 \nL 65.965625 80.007187 \nL 75.965625 80.007187 \n\" style=\"fill: none; stroke: #ff8c00; stroke-width: 1.5; stroke-linecap: square\"/>\n    </g>\n    <g id=\"text_21\">\n     <!-- ball_tree -->\n     <g transform=\"translate(83.965625 83.507187) scale(0.1 -0.1)\">\n      <use xlink:href=\"#DejaVuSans-62\"/>\n      <use xlink:href=\"#DejaVuSans-61\" x=\"63.476562\"/>\n      <use xlink:href=\"#DejaVuSans-6c\" x=\"124.755859\"/>\n      <use xlink:href=\"#DejaVuSans-6c\" x=\"152.539062\"/>\n      <use xlink:href=\"#DejaVuSans-5f\" x=\"180.322266\"/>\n      <use xlink:href=\"#DejaVuSans-74\" x=\"230.322266\"/>\n      <use xlink:href=\"#DejaVuSans-72\" x=\"269.53125\"/>\n      <use xlink:href=\"#DejaVuSans-65\" x=\"308.394531\"/>\n      <use xlink:href=\"#DejaVuSans-65\" x=\"369.917969\"/>\n     </g>\n    </g>\n   </g>\n  </g>\n </g>\n <defs>\n  <clipPath id=\"p3e7cf12ca7\">\n   <rect x=\"46.965625\" y=\"22.318125\" width=\"334.8\" height=\"217.44\"/>\n  </clipPath>\n </defs>\n</svg>\n",
      "text/plain": [
       "<Figure size 432x288 with 1 Axes>"
      ]
     },
     "metadata": {
      "needs_background": "light"
     },
     "output_type": "display_data"
    }
   ],
   "source": [
    "from matplotlib.ticker import FormatStrFormatter\n",
    "\n",
    "fig = plt.figure()\n",
    "plt.xlabel(\"Number of features\")\n",
    "plt.ylabel(\"Run time (s)\")\n",
    "plt.title('Dependence run time algorithm from number of features')\n",
    "plt.grid()\n",
    "plt.plot(df1['n_features'], df1['kd_tree'], color = 'green', label = 'kd_tree')\n",
    "plt.plot(df1['n_features'], df1['brute'], color = 'red', label = 'brute')\n",
    "plt.plot(df1['n_features'], df1['my_own'], color = 'blue', label = 'my_own')\n",
    "plt.plot(df1['n_features'], df1['ball_tree'], color = 'darkorange', label = 'ball_tree')\n",
    "plt.legend(loc='best')\n",
    "plt.show()\n",
    "matplotlib_inline.backend_inline.set_matplotlib_formats('pdf', 'svg')\n",
    "fig.savefig('exp1.pdf', transparent=True, facecolor = 'white', bbox_inches = 'tight')"
   ]
  },
  {
   "cell_type": "markdown",
   "metadata": {},
   "source": [
    "### Эксперимент №2"
   ]
  },
  {
   "cell_type": "code",
   "execution_count": 36,
   "metadata": {},
   "outputs": [],
   "source": [
    "k_list = np.arange(1,11)\n",
    "res_time = {}\n",
    "res_accuracy = {}\n",
    "cv_arg = kfold(X_train_array.shape[0], 3)\n",
    "\n",
    "for metric in ['euclidean', 'cosine']:\n",
    "    kwargs = {'strategy':'brute', 'metric':metric}\n",
    "    start_time = time.time()\n",
    "    res = knn_cross_val_score(X_train_array, y_train_array, k_list, score='accuracy', cv=cv_arg, **kwargs)\n",
    "    end_time = time.time()\n",
    "    work_time = end_time - start_time\n",
    "    res_time[metric] = work_time\n",
    "    res_accuracy[metric] = res"
   ]
  },
  {
   "cell_type": "code",
   "execution_count": 37,
   "metadata": {},
   "outputs": [
    {
     "data": {
      "text/plain": [
       "{'euclidean': 182.33409810066223, 'cosine': 942.0278644561768}"
      ]
     },
     "execution_count": 37,
     "metadata": {},
     "output_type": "execute_result"
    }
   ],
   "source": [
    "res_time"
   ]
  },
  {
   "cell_type": "code",
   "execution_count": 72,
   "metadata": {},
   "outputs": [],
   "source": [
    "f = open('experiment2_res_time.pckl', 'wb')\n",
    "pickle.dump(res_time, f)\n",
    "f.close()"
   ]
  },
  {
   "cell_type": "code",
   "execution_count": 62,
   "metadata": {},
   "outputs": [],
   "source": [
    "x = res_accuracy.copy()\n",
    "for key1, value1 in x.items():\n",
    "    for key2, value2 in value1.items():\n",
    "        mean = value2.sum() / 3\n",
    "        x[key1][key2] = mean\n",
    "pickle.dump(x, f)"
   ]
  },
  {
   "cell_type": "code",
   "execution_count": 69,
   "metadata": {},
   "outputs": [],
   "source": [
    "df = pd.DataFrame(x)\n",
    "df['k'] = np.arange(1,11)\n",
    "\n",
    "f = open('experiment2_df.pckl', 'wb')\n",
    "pickle.dump(df, f)\n",
    "f.close()"
   ]
  },
  {
   "cell_type": "code",
   "execution_count": 60,
   "metadata": {},
   "outputs": [
    {
     "data": {
      "application/pdf": "[encoded data removed]",
      "image/svg+xml": "<?xml version=\"1.0\" encoding=\"utf-8\" standalone=\"no\"?>\n<!DOCTYPE svg PUBLIC \"-//W3C//DTD SVG 1.1//EN\"\n  \"http://www.w3.org/Graphics/SVG/1.1/DTD/svg11.dtd\">\n<svg xmlns:xlink=\"http://www.w3.org/1999/xlink\" width=\"398.50625pt\" height=\"277.314375pt\" viewBox=\"0 0 398.50625 277.314375\" xmlns=\"http://www.w3.org/2000/svg\" version=\"1.1\">\n <metadata>\n  <rdf:RDF xmlns:dc=\"http://purl.org/dc/elements/1.1/\" xmlns:cc=\"http://creativecommons.org/ns#\" xmlns:rdf=\"http://www.w3.org/1999/02/22-rdf-syntax-ns#\">\n   <cc:Work>\n    <dc:type rdf:resource=\"http://purl.org/dc/dcmitype/StillImage\"/>\n    <dc:date>2022-10-11T12:18:14.793175</dc:date>\n    <dc:format>image/svg+xml</dc:format>\n    <dc:creator>\n     <cc:Agent>\n      <dc:title>Matplotlib v3.6.0, https://matplotlib.org/</dc:title>\n     </cc:Agent>\n    </dc:creator>\n   </cc:Work>\n  </rdf:RDF>\n </metadata>\n <defs>\n  <style type=\"text/css\">*{stroke-linejoin: round; stroke-linecap: butt}</style>\n </defs>\n <g id=\"figure_1\">\n  <g id=\"patch_1\">\n   <path d=\"M 0 277.314375 \nL 398.50625 277.314375 \nL 398.50625 0 \nL 0 0 \nL 0 277.314375 \nz\n\" style=\"fill: none\"/>\n  </g>\n  <g id=\"axes_1\">\n   <g id=\"patch_2\">\n    <path d=\"M 56.50625 239.758125 \nL 391.30625 239.758125 \nL 391.30625 22.318125 \nL 56.50625 22.318125 \nz\n\" style=\"fill: #ffffff\"/>\n   </g>\n   <g id=\"matplotlib.axis_1\">\n    <g id=\"xtick_1\">\n     <g id=\"line2d_1\">\n      <path d=\"M 71.724432 239.758125 \nL 71.724432 22.318125 \n\" clip-path=\"url(#pa3090d9952)\" style=\"fill: none; stroke: #b0b0b0; stroke-width: 0.8; stroke-linecap: square\"/>\n     </g>\n     <g id=\"line2d_2\">\n      <defs>\n       <path id=\"m2ceb7ec008\" d=\"M 0 0 \nL 0 3.5 \n\" style=\"stroke: #000000; stroke-width: 0.8\"/>\n      </defs>\n      <g>\n       <use xlink:href=\"#m2ceb7ec008\" x=\"71.724432\" y=\"239.758125\" style=\"stroke: #000000; stroke-width: 0.8\"/>\n      </g>\n     </g>\n     <g id=\"text_1\">\n      <!-- 1 -->\n      <g transform=\"translate(68.543182 254.356562) scale(0.1 -0.1)\">\n       <defs>\n        <path id=\"DejaVuSans-31\" d=\"M 794 531 \nL 1825 531 \nL 1825 4091 \nL 703 3866 \nL 703 4441 \nL 1819 4666 \nL 2450 4666 \nL 2450 531 \nL 3481 531 \nL 3481 0 \nL 794 0 \nL 794 531 \nz\n\" transform=\"scale(0.015625)\"/>\n       </defs>\n       <use xlink:href=\"#DejaVuSans-31\"/>\n      </g>\n     </g>\n    </g>\n    <g id=\"xtick_2\">\n     <g id=\"line2d_3\">\n      <path d=\"M 105.542614 239.758125 \nL 105.542614 22.318125 \n\" clip-path=\"url(#pa3090d9952)\" style=\"fill: none; stroke: #b0b0b0; stroke-width: 0.8; stroke-linecap: square\"/>\n     </g>\n     <g id=\"line2d_4\">\n      <g>\n       <use xlink:href=\"#m2ceb7ec008\" x=\"105.542614\" y=\"239.758125\" style=\"stroke: #000000; stroke-width: 0.8\"/>\n      </g>\n     </g>\n     <g id=\"text_2\">\n      <!-- 2 -->\n      <g transform=\"translate(102.361364 254.356562) scale(0.1 -0.1)\">\n       <defs>\n        <path id=\"DejaVuSans-32\" d=\"M 1228 531 \nL 3431 531 \nL 3431 0 \nL 469 0 \nL 469 531 \nQ 828 903 1448 1529 \nQ 2069 2156 2228 2338 \nQ 2531 2678 2651 2914 \nQ 2772 3150 2772 3378 \nQ 2772 3750 2511 3984 \nQ 2250 4219 1831 4219 \nQ 1534 4219 1204 4116 \nQ 875 4013 500 3803 \nL 500 4441 \nQ 881 4594 1212 4672 \nQ 1544 4750 1819 4750 \nQ 2544 4750 2975 4387 \nQ 3406 4025 3406 3419 \nQ 3406 3131 3298 2873 \nQ 3191 2616 2906 2266 \nQ 2828 2175 2409 1742 \nQ 1991 1309 1228 531 \nz\n\" transform=\"scale(0.015625)\"/>\n       </defs>\n       <use xlink:href=\"#DejaVuSans-32\"/>\n      </g>\n     </g>\n    </g>\n    <g id=\"xtick_3\">\n     <g id=\"line2d_5\">\n      <path d=\"M 139.360795 239.758125 \nL 139.360795 22.318125 \n\" clip-path=\"url(#pa3090d9952)\" style=\"fill: none; stroke: #b0b0b0; stroke-width: 0.8; stroke-linecap: square\"/>\n     </g>\n     <g id=\"line2d_6\">\n      <g>\n       <use xlink:href=\"#m2ceb7ec008\" x=\"139.360795\" y=\"239.758125\" style=\"stroke: #000000; stroke-width: 0.8\"/>\n      </g>\n     </g>\n     <g id=\"text_3\">\n      <!-- 3 -->\n      <g transform=\"translate(136.179545 254.356562) scale(0.1 -0.1)\">\n       <defs>\n        <path id=\"DejaVuSans-33\" d=\"M 2597 2516 \nQ 3050 2419 3304 2112 \nQ 3559 1806 3559 1356 \nQ 3559 666 3084 287 \nQ 2609 -91 1734 -91 \nQ 1441 -91 1130 -33 \nQ 819 25 488 141 \nL 488 750 \nQ 750 597 1062 519 \nQ 1375 441 1716 441 \nQ 2309 441 2620 675 \nQ 2931 909 2931 1356 \nQ 2931 1769 2642 2001 \nQ 2353 2234 1838 2234 \nL 1294 2234 \nL 1294 2753 \nL 1863 2753 \nQ 2328 2753 2575 2939 \nQ 2822 3125 2822 3475 \nQ 2822 3834 2567 4026 \nQ 2313 4219 1838 4219 \nQ 1578 4219 1281 4162 \nQ 984 4106 628 3988 \nL 628 4550 \nQ 988 4650 1302 4700 \nQ 1616 4750 1894 4750 \nQ 2613 4750 3031 4423 \nQ 3450 4097 3450 3541 \nQ 3450 3153 3228 2886 \nQ 3006 2619 2597 2516 \nz\n\" transform=\"scale(0.015625)\"/>\n       </defs>\n       <use xlink:href=\"#DejaVuSans-33\"/>\n      </g>\n     </g>\n    </g>\n    <g id=\"xtick_4\">\n     <g id=\"line2d_7\">\n      <path d=\"M 173.178977 239.758125 \nL 173.178977 22.318125 \n\" clip-path=\"url(#pa3090d9952)\" style=\"fill: none; stroke: #b0b0b0; stroke-width: 0.8; stroke-linecap: square\"/>\n     </g>\n     <g id=\"line2d_8\">\n      <g>\n       <use xlink:href=\"#m2ceb7ec008\" x=\"173.178977\" y=\"239.758125\" style=\"stroke: #000000; stroke-width: 0.8\"/>\n      </g>\n     </g>\n     <g id=\"text_4\">\n      <!-- 4 -->\n      <g transform=\"translate(169.997727 254.356562) scale(0.1 -0.1)\">\n       <defs>\n        <path id=\"DejaVuSans-34\" d=\"M 2419 4116 \nL 825 1625 \nL 2419 1625 \nL 2419 4116 \nz\nM 2253 4666 \nL 3047 4666 \nL 3047 1625 \nL 3713 1625 \nL 3713 1100 \nL 3047 1100 \nL 3047 0 \nL 2419 0 \nL 2419 1100 \nL 313 1100 \nL 313 1709 \nL 2253 4666 \nz\n\" transform=\"scale(0.015625)\"/>\n       </defs>\n       <use xlink:href=\"#DejaVuSans-34\"/>\n      </g>\n     </g>\n    </g>\n    <g id=\"xtick_5\">\n     <g id=\"line2d_9\">\n      <path d=\"M 206.997159 239.758125 \nL 206.997159 22.318125 \n\" clip-path=\"url(#pa3090d9952)\" style=\"fill: none; stroke: #b0b0b0; stroke-width: 0.8; stroke-linecap: square\"/>\n     </g>\n     <g id=\"line2d_10\">\n      <g>\n       <use xlink:href=\"#m2ceb7ec008\" x=\"206.997159\" y=\"239.758125\" style=\"stroke: #000000; stroke-width: 0.8\"/>\n      </g>\n     </g>\n     <g id=\"text_5\">\n      <!-- 5 -->\n      <g transform=\"translate(203.815909 254.356562) scale(0.1 -0.1)\">\n       <defs>\n        <path id=\"DejaVuSans-35\" d=\"M 691 4666 \nL 3169 4666 \nL 3169 4134 \nL 1269 4134 \nL 1269 2991 \nQ 1406 3038 1543 3061 \nQ 1681 3084 1819 3084 \nQ 2600 3084 3056 2656 \nQ 3513 2228 3513 1497 \nQ 3513 744 3044 326 \nQ 2575 -91 1722 -91 \nQ 1428 -91 1123 -41 \nQ 819 9 494 109 \nL 494 744 \nQ 775 591 1075 516 \nQ 1375 441 1709 441 \nQ 2250 441 2565 725 \nQ 2881 1009 2881 1497 \nQ 2881 1984 2565 2268 \nQ 2250 2553 1709 2553 \nQ 1456 2553 1204 2497 \nQ 953 2441 691 2322 \nL 691 4666 \nz\n\" transform=\"scale(0.015625)\"/>\n       </defs>\n       <use xlink:href=\"#DejaVuSans-35\"/>\n      </g>\n     </g>\n    </g>\n    <g id=\"xtick_6\">\n     <g id=\"line2d_11\">\n      <path d=\"M 240.815341 239.758125 \nL 240.815341 22.318125 \n\" clip-path=\"url(#pa3090d9952)\" style=\"fill: none; stroke: #b0b0b0; stroke-width: 0.8; stroke-linecap: square\"/>\n     </g>\n     <g id=\"line2d_12\">\n      <g>\n       <use xlink:href=\"#m2ceb7ec008\" x=\"240.815341\" y=\"239.758125\" style=\"stroke: #000000; stroke-width: 0.8\"/>\n      </g>\n     </g>\n     <g id=\"text_6\">\n      <!-- 6 -->\n      <g transform=\"translate(237.634091 254.356562) scale(0.1 -0.1)\">\n       <defs>\n        <path id=\"DejaVuSans-36\" d=\"M 2113 2584 \nQ 1688 2584 1439 2293 \nQ 1191 2003 1191 1497 \nQ 1191 994 1439 701 \nQ 1688 409 2113 409 \nQ 2538 409 2786 701 \nQ 3034 994 3034 1497 \nQ 3034 2003 2786 2293 \nQ 2538 2584 2113 2584 \nz\nM 3366 4563 \nL 3366 3988 \nQ 3128 4100 2886 4159 \nQ 2644 4219 2406 4219 \nQ 1781 4219 1451 3797 \nQ 1122 3375 1075 2522 \nQ 1259 2794 1537 2939 \nQ 1816 3084 2150 3084 \nQ 2853 3084 3261 2657 \nQ 3669 2231 3669 1497 \nQ 3669 778 3244 343 \nQ 2819 -91 2113 -91 \nQ 1303 -91 875 529 \nQ 447 1150 447 2328 \nQ 447 3434 972 4092 \nQ 1497 4750 2381 4750 \nQ 2619 4750 2861 4703 \nQ 3103 4656 3366 4563 \nz\n\" transform=\"scale(0.015625)\"/>\n       </defs>\n       <use xlink:href=\"#DejaVuSans-36\"/>\n      </g>\n     </g>\n    </g>\n    <g id=\"xtick_7\">\n     <g id=\"line2d_13\">\n      <path d=\"M 274.633523 239.758125 \nL 274.633523 22.318125 \n\" clip-path=\"url(#pa3090d9952)\" style=\"fill: none; stroke: #b0b0b0; stroke-width: 0.8; stroke-linecap: square\"/>\n     </g>\n     <g id=\"line2d_14\">\n      <g>\n       <use xlink:href=\"#m2ceb7ec008\" x=\"274.633523\" y=\"239.758125\" style=\"stroke: #000000; stroke-width: 0.8\"/>\n      </g>\n     </g>\n     <g id=\"text_7\">\n      <!-- 7 -->\n      <g transform=\"translate(271.452273 254.356562) scale(0.1 -0.1)\">\n       <defs>\n        <path id=\"DejaVuSans-37\" d=\"M 525 4666 \nL 3525 4666 \nL 3525 4397 \nL 1831 0 \nL 1172 0 \nL 2766 4134 \nL 525 4134 \nL 525 4666 \nz\n\" transform=\"scale(0.015625)\"/>\n       </defs>\n       <use xlink:href=\"#DejaVuSans-37\"/>\n      </g>\n     </g>\n    </g>\n    <g id=\"xtick_8\">\n     <g id=\"line2d_15\">\n      <path d=\"M 308.451705 239.758125 \nL 308.451705 22.318125 \n\" clip-path=\"url(#pa3090d9952)\" style=\"fill: none; stroke: #b0b0b0; stroke-width: 0.8; stroke-linecap: square\"/>\n     </g>\n     <g id=\"line2d_16\">\n      <g>\n       <use xlink:href=\"#m2ceb7ec008\" x=\"308.451705\" y=\"239.758125\" style=\"stroke: #000000; stroke-width: 0.8\"/>\n      </g>\n     </g>\n     <g id=\"text_8\">\n      <!-- 8 -->\n      <g transform=\"translate(305.270455 254.356562) scale(0.1 -0.1)\">\n       <defs>\n        <path id=\"DejaVuSans-38\" d=\"M 2034 2216 \nQ 1584 2216 1326 1975 \nQ 1069 1734 1069 1313 \nQ 1069 891 1326 650 \nQ 1584 409 2034 409 \nQ 2484 409 2743 651 \nQ 3003 894 3003 1313 \nQ 3003 1734 2745 1975 \nQ 2488 2216 2034 2216 \nz\nM 1403 2484 \nQ 997 2584 770 2862 \nQ 544 3141 544 3541 \nQ 544 4100 942 4425 \nQ 1341 4750 2034 4750 \nQ 2731 4750 3128 4425 \nQ 3525 4100 3525 3541 \nQ 3525 3141 3298 2862 \nQ 3072 2584 2669 2484 \nQ 3125 2378 3379 2068 \nQ 3634 1759 3634 1313 \nQ 3634 634 3220 271 \nQ 2806 -91 2034 -91 \nQ 1263 -91 848 271 \nQ 434 634 434 1313 \nQ 434 1759 690 2068 \nQ 947 2378 1403 2484 \nz\nM 1172 3481 \nQ 1172 3119 1398 2916 \nQ 1625 2713 2034 2713 \nQ 2441 2713 2670 2916 \nQ 2900 3119 2900 3481 \nQ 2900 3844 2670 4047 \nQ 2441 4250 2034 4250 \nQ 1625 4250 1398 4047 \nQ 1172 3844 1172 3481 \nz\n\" transform=\"scale(0.015625)\"/>\n       </defs>\n       <use xlink:href=\"#DejaVuSans-38\"/>\n      </g>\n     </g>\n    </g>\n    <g id=\"xtick_9\">\n     <g id=\"line2d_17\">\n      <path d=\"M 342.269886 239.758125 \nL 342.269886 22.318125 \n\" clip-path=\"url(#pa3090d9952)\" style=\"fill: none; stroke: #b0b0b0; stroke-width: 0.8; stroke-linecap: square\"/>\n     </g>\n     <g id=\"line2d_18\">\n      <g>\n       <use xlink:href=\"#m2ceb7ec008\" x=\"342.269886\" y=\"239.758125\" style=\"stroke: #000000; stroke-width: 0.8\"/>\n      </g>\n     </g>\n     <g id=\"text_9\">\n      <!-- 9 -->\n      <g transform=\"translate(339.088636 254.356562) scale(0.1 -0.1)\">\n       <defs>\n        <path id=\"DejaVuSans-39\" d=\"M 703 97 \nL 703 672 \nQ 941 559 1184 500 \nQ 1428 441 1663 441 \nQ 2288 441 2617 861 \nQ 2947 1281 2994 2138 \nQ 2813 1869 2534 1725 \nQ 2256 1581 1919 1581 \nQ 1219 1581 811 2004 \nQ 403 2428 403 3163 \nQ 403 3881 828 4315 \nQ 1253 4750 1959 4750 \nQ 2769 4750 3195 4129 \nQ 3622 3509 3622 2328 \nQ 3622 1225 3098 567 \nQ 2575 -91 1691 -91 \nQ 1453 -91 1209 -44 \nQ 966 3 703 97 \nz\nM 1959 2075 \nQ 2384 2075 2632 2365 \nQ 2881 2656 2881 3163 \nQ 2881 3666 2632 3958 \nQ 2384 4250 1959 4250 \nQ 1534 4250 1286 3958 \nQ 1038 3666 1038 3163 \nQ 1038 2656 1286 2365 \nQ 1534 2075 1959 2075 \nz\n\" transform=\"scale(0.015625)\"/>\n       </defs>\n       <use xlink:href=\"#DejaVuSans-39\"/>\n      </g>\n     </g>\n    </g>\n    <g id=\"xtick_10\">\n     <g id=\"line2d_19\">\n      <path d=\"M 376.088068 239.758125 \nL 376.088068 22.318125 \n\" clip-path=\"url(#pa3090d9952)\" style=\"fill: none; stroke: #b0b0b0; stroke-width: 0.8; stroke-linecap: square\"/>\n     </g>\n     <g id=\"line2d_20\">\n      <g>\n       <use xlink:href=\"#m2ceb7ec008\" x=\"376.088068\" y=\"239.758125\" style=\"stroke: #000000; stroke-width: 0.8\"/>\n      </g>\n     </g>\n     <g id=\"text_10\">\n      <!-- 10 -->\n      <g transform=\"translate(369.725568 254.356562) scale(0.1 -0.1)\">\n       <defs>\n        <path id=\"DejaVuSans-30\" d=\"M 2034 4250 \nQ 1547 4250 1301 3770 \nQ 1056 3291 1056 2328 \nQ 1056 1369 1301 889 \nQ 1547 409 2034 409 \nQ 2525 409 2770 889 \nQ 3016 1369 3016 2328 \nQ 3016 3291 2770 3770 \nQ 2525 4250 2034 4250 \nz\nM 2034 4750 \nQ 2819 4750 3233 4129 \nQ 3647 3509 3647 2328 \nQ 3647 1150 3233 529 \nQ 2819 -91 2034 -91 \nQ 1250 -91 836 529 \nQ 422 1150 422 2328 \nQ 422 3509 836 4129 \nQ 1250 4750 2034 4750 \nz\n\" transform=\"scale(0.015625)\"/>\n       </defs>\n       <use xlink:href=\"#DejaVuSans-31\"/>\n       <use xlink:href=\"#DejaVuSans-30\" x=\"63.623047\"/>\n      </g>\n     </g>\n    </g>\n    <g id=\"text_11\">\n     <!-- Number of neighbors -->\n     <g transform=\"translate(170.951562 268.034687) scale(0.1 -0.1)\">\n      <defs>\n       <path id=\"DejaVuSans-4e\" d=\"M 628 4666 \nL 1478 4666 \nL 3547 763 \nL 3547 4666 \nL 4159 4666 \nL 4159 0 \nL 3309 0 \nL 1241 3903 \nL 1241 0 \nL 628 0 \nL 628 4666 \nz\n\" transform=\"scale(0.015625)\"/>\n       <path id=\"DejaVuSans-75\" d=\"M 544 1381 \nL 544 3500 \nL 1119 3500 \nL 1119 1403 \nQ 1119 906 1312 657 \nQ 1506 409 1894 409 \nQ 2359 409 2629 706 \nQ 2900 1003 2900 1516 \nL 2900 3500 \nL 3475 3500 \nL 3475 0 \nL 2900 0 \nL 2900 538 \nQ 2691 219 2414 64 \nQ 2138 -91 1772 -91 \nQ 1169 -91 856 284 \nQ 544 659 544 1381 \nz\nM 1991 3584 \nL 1991 3584 \nz\n\" transform=\"scale(0.015625)\"/>\n       <path id=\"DejaVuSans-6d\" d=\"M 3328 2828 \nQ 3544 3216 3844 3400 \nQ 4144 3584 4550 3584 \nQ 5097 3584 5394 3201 \nQ 5691 2819 5691 2113 \nL 5691 0 \nL 5113 0 \nL 5113 2094 \nQ 5113 2597 4934 2840 \nQ 4756 3084 4391 3084 \nQ 3944 3084 3684 2787 \nQ 3425 2491 3425 1978 \nL 3425 0 \nL 2847 0 \nL 2847 2094 \nQ 2847 2600 2669 2842 \nQ 2491 3084 2119 3084 \nQ 1678 3084 1418 2786 \nQ 1159 2488 1159 1978 \nL 1159 0 \nL 581 0 \nL 581 3500 \nL 1159 3500 \nL 1159 2956 \nQ 1356 3278 1631 3431 \nQ 1906 3584 2284 3584 \nQ 2666 3584 2933 3390 \nQ 3200 3197 3328 2828 \nz\n\" transform=\"scale(0.015625)\"/>\n       <path id=\"DejaVuSans-62\" d=\"M 3116 1747 \nQ 3116 2381 2855 2742 \nQ 2594 3103 2138 3103 \nQ 1681 3103 1420 2742 \nQ 1159 2381 1159 1747 \nQ 1159 1113 1420 752 \nQ 1681 391 2138 391 \nQ 2594 391 2855 752 \nQ 3116 1113 3116 1747 \nz\nM 1159 2969 \nQ 1341 3281 1617 3432 \nQ 1894 3584 2278 3584 \nQ 2916 3584 3314 3078 \nQ 3713 2572 3713 1747 \nQ 3713 922 3314 415 \nQ 2916 -91 2278 -91 \nQ 1894 -91 1617 61 \nQ 1341 213 1159 525 \nL 1159 0 \nL 581 0 \nL 581 4863 \nL 1159 4863 \nL 1159 2969 \nz\n\" transform=\"scale(0.015625)\"/>\n       <path id=\"DejaVuSans-65\" d=\"M 3597 1894 \nL 3597 1613 \nL 953 1613 \nQ 991 1019 1311 708 \nQ 1631 397 2203 397 \nQ 2534 397 2845 478 \nQ 3156 559 3463 722 \nL 3463 178 \nQ 3153 47 2828 -22 \nQ 2503 -91 2169 -91 \nQ 1331 -91 842 396 \nQ 353 884 353 1716 \nQ 353 2575 817 3079 \nQ 1281 3584 2069 3584 \nQ 2775 3584 3186 3129 \nQ 3597 2675 3597 1894 \nz\nM 3022 2063 \nQ 3016 2534 2758 2815 \nQ 2500 3097 2075 3097 \nQ 1594 3097 1305 2825 \nQ 1016 2553 972 2059 \nL 3022 2063 \nz\n\" transform=\"scale(0.015625)\"/>\n       <path id=\"DejaVuSans-72\" d=\"M 2631 2963 \nQ 2534 3019 2420 3045 \nQ 2306 3072 2169 3072 \nQ 1681 3072 1420 2755 \nQ 1159 2438 1159 1844 \nL 1159 0 \nL 581 0 \nL 581 3500 \nL 1159 3500 \nL 1159 2956 \nQ 1341 3275 1631 3429 \nQ 1922 3584 2338 3584 \nQ 2397 3584 2469 3576 \nQ 2541 3569 2628 3553 \nL 2631 2963 \nz\n\" transform=\"scale(0.015625)\"/>\n       <path id=\"DejaVuSans-20\" transform=\"scale(0.015625)\"/>\n       <path id=\"DejaVuSans-6f\" d=\"M 1959 3097 \nQ 1497 3097 1228 2736 \nQ 959 2375 959 1747 \nQ 959 1119 1226 758 \nQ 1494 397 1959 397 \nQ 2419 397 2687 759 \nQ 2956 1122 2956 1747 \nQ 2956 2369 2687 2733 \nQ 2419 3097 1959 3097 \nz\nM 1959 3584 \nQ 2709 3584 3137 3096 \nQ 3566 2609 3566 1747 \nQ 3566 888 3137 398 \nQ 2709 -91 1959 -91 \nQ 1206 -91 779 398 \nQ 353 888 353 1747 \nQ 353 2609 779 3096 \nQ 1206 3584 1959 3584 \nz\n\" transform=\"scale(0.015625)\"/>\n       <path id=\"DejaVuSans-66\" d=\"M 2375 4863 \nL 2375 4384 \nL 1825 4384 \nQ 1516 4384 1395 4259 \nQ 1275 4134 1275 3809 \nL 1275 3500 \nL 2222 3500 \nL 2222 3053 \nL 1275 3053 \nL 1275 0 \nL 697 0 \nL 697 3053 \nL 147 3053 \nL 147 3500 \nL 697 3500 \nL 697 3744 \nQ 697 4328 969 4595 \nQ 1241 4863 1831 4863 \nL 2375 4863 \nz\n\" transform=\"scale(0.015625)\"/>\n       <path id=\"DejaVuSans-6e\" d=\"M 3513 2113 \nL 3513 0 \nL 2938 0 \nL 2938 2094 \nQ 2938 2591 2744 2837 \nQ 2550 3084 2163 3084 \nQ 1697 3084 1428 2787 \nQ 1159 2491 1159 1978 \nL 1159 0 \nL 581 0 \nL 581 3500 \nL 1159 3500 \nL 1159 2956 \nQ 1366 3272 1645 3428 \nQ 1925 3584 2291 3584 \nQ 2894 3584 3203 3211 \nQ 3513 2838 3513 2113 \nz\n\" transform=\"scale(0.015625)\"/>\n       <path id=\"DejaVuSans-69\" d=\"M 603 3500 \nL 1178 3500 \nL 1178 0 \nL 603 0 \nL 603 3500 \nz\nM 603 4863 \nL 1178 4863 \nL 1178 4134 \nL 603 4134 \nL 603 4863 \nz\n\" transform=\"scale(0.015625)\"/>\n       <path id=\"DejaVuSans-67\" d=\"M 2906 1791 \nQ 2906 2416 2648 2759 \nQ 2391 3103 1925 3103 \nQ 1463 3103 1205 2759 \nQ 947 2416 947 1791 \nQ 947 1169 1205 825 \nQ 1463 481 1925 481 \nQ 2391 481 2648 825 \nQ 2906 1169 2906 1791 \nz\nM 3481 434 \nQ 3481 -459 3084 -895 \nQ 2688 -1331 1869 -1331 \nQ 1566 -1331 1297 -1286 \nQ 1028 -1241 775 -1147 \nL 775 -588 \nQ 1028 -725 1275 -790 \nQ 1522 -856 1778 -856 \nQ 2344 -856 2625 -561 \nQ 2906 -266 2906 331 \nL 2906 616 \nQ 2728 306 2450 153 \nQ 2172 0 1784 0 \nQ 1141 0 747 490 \nQ 353 981 353 1791 \nQ 353 2603 747 3093 \nQ 1141 3584 1784 3584 \nQ 2172 3584 2450 3431 \nQ 2728 3278 2906 2969 \nL 2906 3500 \nL 3481 3500 \nL 3481 434 \nz\n\" transform=\"scale(0.015625)\"/>\n       <path id=\"DejaVuSans-68\" d=\"M 3513 2113 \nL 3513 0 \nL 2938 0 \nL 2938 2094 \nQ 2938 2591 2744 2837 \nQ 2550 3084 2163 3084 \nQ 1697 3084 1428 2787 \nQ 1159 2491 1159 1978 \nL 1159 0 \nL 581 0 \nL 581 4863 \nL 1159 4863 \nL 1159 2956 \nQ 1366 3272 1645 3428 \nQ 1925 3584 2291 3584 \nQ 2894 3584 3203 3211 \nQ 3513 2838 3513 2113 \nz\n\" transform=\"scale(0.015625)\"/>\n       <path id=\"DejaVuSans-73\" d=\"M 2834 3397 \nL 2834 2853 \nQ 2591 2978 2328 3040 \nQ 2066 3103 1784 3103 \nQ 1356 3103 1142 2972 \nQ 928 2841 928 2578 \nQ 928 2378 1081 2264 \nQ 1234 2150 1697 2047 \nL 1894 2003 \nQ 2506 1872 2764 1633 \nQ 3022 1394 3022 966 \nQ 3022 478 2636 193 \nQ 2250 -91 1575 -91 \nQ 1294 -91 989 -36 \nQ 684 19 347 128 \nL 347 722 \nQ 666 556 975 473 \nQ 1284 391 1588 391 \nQ 1994 391 2212 530 \nQ 2431 669 2431 922 \nQ 2431 1156 2273 1281 \nQ 2116 1406 1581 1522 \nL 1381 1569 \nQ 847 1681 609 1914 \nQ 372 2147 372 2553 \nQ 372 3047 722 3315 \nQ 1072 3584 1716 3584 \nQ 2034 3584 2315 3537 \nQ 2597 3491 2834 3397 \nz\n\" transform=\"scale(0.015625)\"/>\n      </defs>\n      <use xlink:href=\"#DejaVuSans-4e\"/>\n      <use xlink:href=\"#DejaVuSans-75\" x=\"74.804688\"/>\n      <use xlink:href=\"#DejaVuSans-6d\" x=\"138.183594\"/>\n      <use xlink:href=\"#DejaVuSans-62\" x=\"235.595703\"/>\n      <use xlink:href=\"#DejaVuSans-65\" x=\"299.072266\"/>\n      <use xlink:href=\"#DejaVuSans-72\" x=\"360.595703\"/>\n      <use xlink:href=\"#DejaVuSans-20\" x=\"401.708984\"/>\n      <use xlink:href=\"#DejaVuSans-6f\" x=\"433.496094\"/>\n      <use xlink:href=\"#DejaVuSans-66\" x=\"494.677734\"/>\n      <use xlink:href=\"#DejaVuSans-20\" x=\"529.882812\"/>\n      <use xlink:href=\"#DejaVuSans-6e\" x=\"561.669922\"/>\n      <use xlink:href=\"#DejaVuSans-65\" x=\"625.048828\"/>\n      <use xlink:href=\"#DejaVuSans-69\" x=\"686.572266\"/>\n      <use xlink:href=\"#DejaVuSans-67\" x=\"714.355469\"/>\n      <use xlink:href=\"#DejaVuSans-68\" x=\"777.832031\"/>\n      <use xlink:href=\"#DejaVuSans-62\" x=\"841.210938\"/>\n      <use xlink:href=\"#DejaVuSans-6f\" x=\"904.6875\"/>\n      <use xlink:href=\"#DejaVuSans-72\" x=\"965.869141\"/>\n      <use xlink:href=\"#DejaVuSans-73\" x=\"1006.982422\"/>\n     </g>\n    </g>\n   </g>\n   <g id=\"matplotlib.axis_2\">\n    <g id=\"ytick_1\">\n     <g id=\"line2d_21\">\n      <path d=\"M 56.50625 220.555631 \nL 391.30625 220.555631 \n\" clip-path=\"url(#pa3090d9952)\" style=\"fill: none; stroke: #b0b0b0; stroke-width: 0.8; stroke-linecap: square\"/>\n     </g>\n     <g id=\"line2d_22\">\n      <defs>\n       <path id=\"m4689f41515\" d=\"M 0 0 \nL -3.5 0 \n\" style=\"stroke: #000000; stroke-width: 0.8\"/>\n      </defs>\n      <g>\n       <use xlink:href=\"#m4689f41515\" x=\"56.50625\" y=\"220.555631\" style=\"stroke: #000000; stroke-width: 0.8\"/>\n      </g>\n     </g>\n     <g id=\"text_12\">\n      <!-- 0.962 -->\n      <g transform=\"translate(20.878125 224.35485) scale(0.1 -0.1)\">\n       <defs>\n        <path id=\"DejaVuSans-2e\" d=\"M 684 794 \nL 1344 794 \nL 1344 0 \nL 684 0 \nL 684 794 \nz\n\" transform=\"scale(0.015625)\"/>\n       </defs>\n       <use xlink:href=\"#DejaVuSans-30\"/>\n       <use xlink:href=\"#DejaVuSans-2e\" x=\"63.623047\"/>\n       <use xlink:href=\"#DejaVuSans-39\" x=\"95.410156\"/>\n       <use xlink:href=\"#DejaVuSans-36\" x=\"159.033203\"/>\n       <use xlink:href=\"#DejaVuSans-32\" x=\"222.65625\"/>\n      </g>\n     </g>\n    </g>\n    <g id=\"ytick_2\">\n     <g id=\"line2d_23\">\n      <path d=\"M 56.50625 186.668878 \nL 391.30625 186.668878 \n\" clip-path=\"url(#pa3090d9952)\" style=\"fill: none; stroke: #b0b0b0; stroke-width: 0.8; stroke-linecap: square\"/>\n     </g>\n     <g id=\"line2d_24\">\n      <g>\n       <use xlink:href=\"#m4689f41515\" x=\"56.50625\" y=\"186.668878\" style=\"stroke: #000000; stroke-width: 0.8\"/>\n      </g>\n     </g>\n     <g id=\"text_13\">\n      <!-- 0.964 -->\n      <g transform=\"translate(20.878125 190.468097) scale(0.1 -0.1)\">\n       <use xlink:href=\"#DejaVuSans-30\"/>\n       <use xlink:href=\"#DejaVuSans-2e\" x=\"63.623047\"/>\n       <use xlink:href=\"#DejaVuSans-39\" x=\"95.410156\"/>\n       <use xlink:href=\"#DejaVuSans-36\" x=\"159.033203\"/>\n       <use xlink:href=\"#DejaVuSans-34\" x=\"222.65625\"/>\n      </g>\n     </g>\n    </g>\n    <g id=\"ytick_3\">\n     <g id=\"line2d_25\">\n      <path d=\"M 56.50625 152.782125 \nL 391.30625 152.782125 \n\" clip-path=\"url(#pa3090d9952)\" style=\"fill: none; stroke: #b0b0b0; stroke-width: 0.8; stroke-linecap: square\"/>\n     </g>\n     <g id=\"line2d_26\">\n      <g>\n       <use xlink:href=\"#m4689f41515\" x=\"56.50625\" y=\"152.782125\" style=\"stroke: #000000; stroke-width: 0.8\"/>\n      </g>\n     </g>\n     <g id=\"text_14\">\n      <!-- 0.966 -->\n      <g transform=\"translate(20.878125 156.581344) scale(0.1 -0.1)\">\n       <use xlink:href=\"#DejaVuSans-30\"/>\n       <use xlink:href=\"#DejaVuSans-2e\" x=\"63.623047\"/>\n       <use xlink:href=\"#DejaVuSans-39\" x=\"95.410156\"/>\n       <use xlink:href=\"#DejaVuSans-36\" x=\"159.033203\"/>\n       <use xlink:href=\"#DejaVuSans-36\" x=\"222.65625\"/>\n      </g>\n     </g>\n    </g>\n    <g id=\"ytick_4\">\n     <g id=\"line2d_27\">\n      <path d=\"M 56.50625 118.895372 \nL 391.30625 118.895372 \n\" clip-path=\"url(#pa3090d9952)\" style=\"fill: none; stroke: #b0b0b0; stroke-width: 0.8; stroke-linecap: square\"/>\n     </g>\n     <g id=\"line2d_28\">\n      <g>\n       <use xlink:href=\"#m4689f41515\" x=\"56.50625\" y=\"118.895372\" style=\"stroke: #000000; stroke-width: 0.8\"/>\n      </g>\n     </g>\n     <g id=\"text_15\">\n      <!-- 0.968 -->\n      <g transform=\"translate(20.878125 122.694591) scale(0.1 -0.1)\">\n       <use xlink:href=\"#DejaVuSans-30\"/>\n       <use xlink:href=\"#DejaVuSans-2e\" x=\"63.623047\"/>\n       <use xlink:href=\"#DejaVuSans-39\" x=\"95.410156\"/>\n       <use xlink:href=\"#DejaVuSans-36\" x=\"159.033203\"/>\n       <use xlink:href=\"#DejaVuSans-38\" x=\"222.65625\"/>\n      </g>\n     </g>\n    </g>\n    <g id=\"ytick_5\">\n     <g id=\"line2d_29\">\n      <path d=\"M 56.50625 85.008619 \nL 391.30625 85.008619 \n\" clip-path=\"url(#pa3090d9952)\" style=\"fill: none; stroke: #b0b0b0; stroke-width: 0.8; stroke-linecap: square\"/>\n     </g>\n     <g id=\"line2d_30\">\n      <g>\n       <use xlink:href=\"#m4689f41515\" x=\"56.50625\" y=\"85.008619\" style=\"stroke: #000000; stroke-width: 0.8\"/>\n      </g>\n     </g>\n     <g id=\"text_16\">\n      <!-- 0.970 -->\n      <g transform=\"translate(20.878125 88.807837) scale(0.1 -0.1)\">\n       <use xlink:href=\"#DejaVuSans-30\"/>\n       <use xlink:href=\"#DejaVuSans-2e\" x=\"63.623047\"/>\n       <use xlink:href=\"#DejaVuSans-39\" x=\"95.410156\"/>\n       <use xlink:href=\"#DejaVuSans-37\" x=\"159.033203\"/>\n       <use xlink:href=\"#DejaVuSans-30\" x=\"222.65625\"/>\n      </g>\n     </g>\n    </g>\n    <g id=\"ytick_6\">\n     <g id=\"line2d_31\">\n      <path d=\"M 56.50625 51.121865 \nL 391.30625 51.121865 \n\" clip-path=\"url(#pa3090d9952)\" style=\"fill: none; stroke: #b0b0b0; stroke-width: 0.8; stroke-linecap: square\"/>\n     </g>\n     <g id=\"line2d_32\">\n      <g>\n       <use xlink:href=\"#m4689f41515\" x=\"56.50625\" y=\"51.121865\" style=\"stroke: #000000; stroke-width: 0.8\"/>\n      </g>\n     </g>\n     <g id=\"text_17\">\n      <!-- 0.972 -->\n      <g transform=\"translate(20.878125 54.921084) scale(0.1 -0.1)\">\n       <use xlink:href=\"#DejaVuSans-30\"/>\n       <use xlink:href=\"#DejaVuSans-2e\" x=\"63.623047\"/>\n       <use xlink:href=\"#DejaVuSans-39\" x=\"95.410156\"/>\n       <use xlink:href=\"#DejaVuSans-37\" x=\"159.033203\"/>\n       <use xlink:href=\"#DejaVuSans-32\" x=\"222.65625\"/>\n      </g>\n     </g>\n    </g>\n    <g id=\"text_18\">\n     <!-- Accuracy -->\n     <g transform=\"translate(14.798437 153.86625) rotate(-90) scale(0.1 -0.1)\">\n      <defs>\n       <path id=\"DejaVuSans-41\" d=\"M 2188 4044 \nL 1331 1722 \nL 3047 1722 \nL 2188 4044 \nz\nM 1831 4666 \nL 2547 4666 \nL 4325 0 \nL 3669 0 \nL 3244 1197 \nL 1141 1197 \nL 716 0 \nL 50 0 \nL 1831 4666 \nz\n\" transform=\"scale(0.015625)\"/>\n       <path id=\"DejaVuSans-63\" d=\"M 3122 3366 \nL 3122 2828 \nQ 2878 2963 2633 3030 \nQ 2388 3097 2138 3097 \nQ 1578 3097 1268 2742 \nQ 959 2388 959 1747 \nQ 959 1106 1268 751 \nQ 1578 397 2138 397 \nQ 2388 397 2633 464 \nQ 2878 531 3122 666 \nL 3122 134 \nQ 2881 22 2623 -34 \nQ 2366 -91 2075 -91 \nQ 1284 -91 818 406 \nQ 353 903 353 1747 \nQ 353 2603 823 3093 \nQ 1294 3584 2113 3584 \nQ 2378 3584 2631 3529 \nQ 2884 3475 3122 3366 \nz\n\" transform=\"scale(0.015625)\"/>\n       <path id=\"DejaVuSans-61\" d=\"M 2194 1759 \nQ 1497 1759 1228 1600 \nQ 959 1441 959 1056 \nQ 959 750 1161 570 \nQ 1363 391 1709 391 \nQ 2188 391 2477 730 \nQ 2766 1069 2766 1631 \nL 2766 1759 \nL 2194 1759 \nz\nM 3341 1997 \nL 3341 0 \nL 2766 0 \nL 2766 531 \nQ 2569 213 2275 61 \nQ 1981 -91 1556 -91 \nQ 1019 -91 701 211 \nQ 384 513 384 1019 \nQ 384 1609 779 1909 \nQ 1175 2209 1959 2209 \nL 2766 2209 \nL 2766 2266 \nQ 2766 2663 2505 2880 \nQ 2244 3097 1772 3097 \nQ 1472 3097 1187 3025 \nQ 903 2953 641 2809 \nL 641 3341 \nQ 956 3463 1253 3523 \nQ 1550 3584 1831 3584 \nQ 2591 3584 2966 3190 \nQ 3341 2797 3341 1997 \nz\n\" transform=\"scale(0.015625)\"/>\n       <path id=\"DejaVuSans-79\" d=\"M 2059 -325 \nQ 1816 -950 1584 -1140 \nQ 1353 -1331 966 -1331 \nL 506 -1331 \nL 506 -850 \nL 844 -850 \nQ 1081 -850 1212 -737 \nQ 1344 -625 1503 -206 \nL 1606 56 \nL 191 3500 \nL 800 3500 \nL 1894 763 \nL 2988 3500 \nL 3597 3500 \nL 2059 -325 \nz\n\" transform=\"scale(0.015625)\"/>\n      </defs>\n      <use xlink:href=\"#DejaVuSans-41\"/>\n      <use xlink:href=\"#DejaVuSans-63\" x=\"66.658203\"/>\n      <use xlink:href=\"#DejaVuSans-63\" x=\"121.638672\"/>\n      <use xlink:href=\"#DejaVuSans-75\" x=\"176.619141\"/>\n      <use xlink:href=\"#DejaVuSans-72\" x=\"239.998047\"/>\n      <use xlink:href=\"#DejaVuSans-61\" x=\"281.111328\"/>\n      <use xlink:href=\"#DejaVuSans-63\" x=\"342.390625\"/>\n      <use xlink:href=\"#DejaVuSans-79\" x=\"397.371094\"/>\n     </g>\n    </g>\n   </g>\n   <g id=\"line2d_33\">\n    <path d=\"M 71.724432 111.270852 \nL 105.542614 229.874489 \nL 139.360795 104.211112 \nL 173.178977 134.99158 \nL 206.997159 121.719268 \nL 240.815341 144.310437 \nL 274.633523 142.05132 \nL 308.451705 163.51293 \nL 342.269886 172.267008 \nL 376.088068 191.469502 \n\" clip-path=\"url(#pa3090d9952)\" style=\"fill: none; stroke: #ff0000; stroke-width: 1.5; stroke-linecap: square\"/>\n   </g>\n   <g id=\"line2d_34\">\n    <path d=\"M 71.724432 38.696722 \nL 105.542614 96.021813 \nL 139.360795 32.201761 \nL 173.178977 43.779735 \nL 206.997159 44.062125 \nL 240.815341 60.440722 \nL 274.633523 68.630021 \nL 308.451705 78.513657 \nL 342.269886 95.174644 \nL 376.088068 97.433761 \n\" clip-path=\"url(#pa3090d9952)\" style=\"fill: none; stroke: #ff8c00; stroke-width: 1.5; stroke-linecap: square\"/>\n   </g>\n   <g id=\"patch_3\">\n    <path d=\"M 56.50625 239.758125 \nL 56.50625 22.318125 \n\" style=\"fill: none; stroke: #000000; stroke-width: 0.8; stroke-linejoin: miter; stroke-linecap: square\"/>\n   </g>\n   <g id=\"patch_4\">\n    <path d=\"M 391.30625 239.758125 \nL 391.30625 22.318125 \n\" style=\"fill: none; stroke: #000000; stroke-width: 0.8; stroke-linejoin: miter; stroke-linecap: square\"/>\n   </g>\n   <g id=\"patch_5\">\n    <path d=\"M 56.50625 239.758125 \nL 391.30625 239.758125 \n\" style=\"fill: none; stroke: #000000; stroke-width: 0.8; stroke-linejoin: miter; stroke-linecap: square\"/>\n   </g>\n   <g id=\"patch_6\">\n    <path d=\"M 56.50625 22.318125 \nL 391.30625 22.318125 \n\" style=\"fill: none; stroke: #000000; stroke-width: 0.8; stroke-linejoin: miter; stroke-linecap: square\"/>\n   </g>\n   <g id=\"text_19\">\n    <!-- Dependence accuracy from number of neighbors -->\n    <g transform=\"translate(76.385938 16.318125) scale(0.12 -0.12)\">\n     <defs>\n      <path id=\"DejaVuSans-44\" d=\"M 1259 4147 \nL 1259 519 \nL 2022 519 \nQ 2988 519 3436 956 \nQ 3884 1394 3884 2338 \nQ 3884 3275 3436 3711 \nQ 2988 4147 2022 4147 \nL 1259 4147 \nz\nM 628 4666 \nL 1925 4666 \nQ 3281 4666 3915 4102 \nQ 4550 3538 4550 2338 \nQ 4550 1131 3912 565 \nQ 3275 0 1925 0 \nL 628 0 \nL 628 4666 \nz\n\" transform=\"scale(0.015625)\"/>\n      <path id=\"DejaVuSans-70\" d=\"M 1159 525 \nL 1159 -1331 \nL 581 -1331 \nL 581 3500 \nL 1159 3500 \nL 1159 2969 \nQ 1341 3281 1617 3432 \nQ 1894 3584 2278 3584 \nQ 2916 3584 3314 3078 \nQ 3713 2572 3713 1747 \nQ 3713 922 3314 415 \nQ 2916 -91 2278 -91 \nQ 1894 -91 1617 61 \nQ 1341 213 1159 525 \nz\nM 3116 1747 \nQ 3116 2381 2855 2742 \nQ 2594 3103 2138 3103 \nQ 1681 3103 1420 2742 \nQ 1159 2381 1159 1747 \nQ 1159 1113 1420 752 \nQ 1681 391 2138 391 \nQ 2594 391 2855 752 \nQ 3116 1113 3116 1747 \nz\n\" transform=\"scale(0.015625)\"/>\n      <path id=\"DejaVuSans-64\" d=\"M 2906 2969 \nL 2906 4863 \nL 3481 4863 \nL 3481 0 \nL 2906 0 \nL 2906 525 \nQ 2725 213 2448 61 \nQ 2172 -91 1784 -91 \nQ 1150 -91 751 415 \nQ 353 922 353 1747 \nQ 353 2572 751 3078 \nQ 1150 3584 1784 3584 \nQ 2172 3584 2448 3432 \nQ 2725 3281 2906 2969 \nz\nM 947 1747 \nQ 947 1113 1208 752 \nQ 1469 391 1925 391 \nQ 2381 391 2643 752 \nQ 2906 1113 2906 1747 \nQ 2906 2381 2643 2742 \nQ 2381 3103 1925 3103 \nQ 1469 3103 1208 2742 \nQ 947 2381 947 1747 \nz\n\" transform=\"scale(0.015625)\"/>\n     </defs>\n     <use xlink:href=\"#DejaVuSans-44\"/>\n     <use xlink:href=\"#DejaVuSans-65\" x=\"77.001953\"/>\n     <use xlink:href=\"#DejaVuSans-70\" x=\"138.525391\"/>\n     <use xlink:href=\"#DejaVuSans-65\" x=\"202.001953\"/>\n     <use xlink:href=\"#DejaVuSans-6e\" x=\"263.525391\"/>\n     <use xlink:href=\"#DejaVuSans-64\" x=\"326.904297\"/>\n     <use xlink:href=\"#DejaVuSans-65\" x=\"390.380859\"/>\n     <use xlink:href=\"#DejaVuSans-6e\" x=\"451.904297\"/>\n     <use xlink:href=\"#DejaVuSans-63\" x=\"515.283203\"/>\n     <use xlink:href=\"#DejaVuSans-65\" x=\"570.263672\"/>\n     <use xlink:href=\"#DejaVuSans-20\" x=\"631.787109\"/>\n     <use xlink:href=\"#DejaVuSans-61\" x=\"663.574219\"/>\n     <use xlink:href=\"#DejaVuSans-63\" x=\"724.853516\"/>\n     <use xlink:href=\"#DejaVuSans-63\" x=\"779.833984\"/>\n     <use xlink:href=\"#DejaVuSans-75\" x=\"834.814453\"/>\n     <use xlink:href=\"#DejaVuSans-72\" x=\"898.193359\"/>\n     <use xlink:href=\"#DejaVuSans-61\" x=\"939.306641\"/>\n     <use xlink:href=\"#DejaVuSans-63\" x=\"1000.585938\"/>\n     <use xlink:href=\"#DejaVuSans-79\" x=\"1055.566406\"/>\n     <use xlink:href=\"#DejaVuSans-20\" x=\"1114.746094\"/>\n     <use xlink:href=\"#DejaVuSans-66\" x=\"1146.533203\"/>\n     <use xlink:href=\"#DejaVuSans-72\" x=\"1181.738281\"/>\n     <use xlink:href=\"#DejaVuSans-6f\" x=\"1220.601562\"/>\n     <use xlink:href=\"#DejaVuSans-6d\" x=\"1281.783203\"/>\n     <use xlink:href=\"#DejaVuSans-20\" x=\"1379.195312\"/>\n     <use xlink:href=\"#DejaVuSans-6e\" x=\"1410.982422\"/>\n     <use xlink:href=\"#DejaVuSans-75\" x=\"1474.361328\"/>\n     <use xlink:href=\"#DejaVuSans-6d\" x=\"1537.740234\"/>\n     <use xlink:href=\"#DejaVuSans-62\" x=\"1635.152344\"/>\n     <use xlink:href=\"#DejaVuSans-65\" x=\"1698.628906\"/>\n     <use xlink:href=\"#DejaVuSans-72\" x=\"1760.152344\"/>\n     <use xlink:href=\"#DejaVuSans-20\" x=\"1801.265625\"/>\n     <use xlink:href=\"#DejaVuSans-6f\" x=\"1833.052734\"/>\n     <use xlink:href=\"#DejaVuSans-66\" x=\"1894.234375\"/>\n     <use xlink:href=\"#DejaVuSans-20\" x=\"1929.439453\"/>\n     <use xlink:href=\"#DejaVuSans-6e\" x=\"1961.226562\"/>\n     <use xlink:href=\"#DejaVuSans-65\" x=\"2024.605469\"/>\n     <use xlink:href=\"#DejaVuSans-69\" x=\"2086.128906\"/>\n     <use xlink:href=\"#DejaVuSans-67\" x=\"2113.912109\"/>\n     <use xlink:href=\"#DejaVuSans-68\" x=\"2177.388672\"/>\n     <use xlink:href=\"#DejaVuSans-62\" x=\"2240.767578\"/>\n     <use xlink:href=\"#DejaVuSans-6f\" x=\"2304.244141\"/>\n     <use xlink:href=\"#DejaVuSans-72\" x=\"2365.425781\"/>\n     <use xlink:href=\"#DejaVuSans-73\" x=\"2406.539062\"/>\n    </g>\n   </g>\n   <g id=\"legend_1\">\n    <g id=\"patch_7\">\n     <path d=\"M 303.79375 59.674375 \nL 384.30625 59.674375 \nQ 386.30625 59.674375 386.30625 57.674375 \nL 386.30625 29.318125 \nQ 386.30625 27.318125 384.30625 27.318125 \nL 303.79375 27.318125 \nQ 301.79375 27.318125 301.79375 29.318125 \nL 301.79375 57.674375 \nQ 301.79375 59.674375 303.79375 59.674375 \nz\n\" style=\"fill: #ffffff; opacity: 0.8; stroke: #cccccc; stroke-linejoin: miter\"/>\n    </g>\n    <g id=\"line2d_35\">\n     <path d=\"M 305.79375 35.416562 \nL 315.79375 35.416562 \nL 325.79375 35.416562 \n\" style=\"fill: none; stroke: #ff0000; stroke-width: 1.5; stroke-linecap: square\"/>\n    </g>\n    <g id=\"text_20\">\n     <!-- euclidean -->\n     <g transform=\"translate(333.79375 38.916562) scale(0.1 -0.1)\">\n      <defs>\n       <path id=\"DejaVuSans-6c\" d=\"M 603 4863 \nL 1178 4863 \nL 1178 0 \nL 603 0 \nL 603 4863 \nz\n\" transform=\"scale(0.015625)\"/>\n      </defs>\n      <use xlink:href=\"#DejaVuSans-65\"/>\n      <use xlink:href=\"#DejaVuSans-75\" x=\"61.523438\"/>\n      <use xlink:href=\"#DejaVuSans-63\" x=\"124.902344\"/>\n      <use xlink:href=\"#DejaVuSans-6c\" x=\"179.882812\"/>\n      <use xlink:href=\"#DejaVuSans-69\" x=\"207.666016\"/>\n      <use xlink:href=\"#DejaVuSans-64\" x=\"235.449219\"/>\n      <use xlink:href=\"#DejaVuSans-65\" x=\"298.925781\"/>\n      <use xlink:href=\"#DejaVuSans-61\" x=\"360.449219\"/>\n      <use xlink:href=\"#DejaVuSans-6e\" x=\"421.728516\"/>\n     </g>\n    </g>\n    <g id=\"line2d_36\">\n     <path d=\"M 305.79375 50.094687 \nL 315.79375 50.094687 \nL 325.79375 50.094687 \n\" style=\"fill: none; stroke: #ff8c00; stroke-width: 1.5; stroke-linecap: square\"/>\n    </g>\n    <g id=\"text_21\">\n     <!-- cosine -->\n     <g transform=\"translate(333.79375 53.594687) scale(0.1 -0.1)\">\n      <use xlink:href=\"#DejaVuSans-63\"/>\n      <use xlink:href=\"#DejaVuSans-6f\" x=\"54.980469\"/>\n      <use xlink:href=\"#DejaVuSans-73\" x=\"116.162109\"/>\n      <use xlink:href=\"#DejaVuSans-69\" x=\"168.261719\"/>\n      <use xlink:href=\"#DejaVuSans-6e\" x=\"196.044922\"/>\n      <use xlink:href=\"#DejaVuSans-65\" x=\"259.423828\"/>\n     </g>\n    </g>\n   </g>\n  </g>\n </g>\n <defs>\n  <clipPath id=\"pa3090d9952\">\n   <rect x=\"56.50625\" y=\"22.318125\" width=\"334.8\" height=\"217.44\"/>\n  </clipPath>\n </defs>\n</svg>\n",
      "text/plain": [
       "<Figure size 432x288 with 1 Axes>"
      ]
     },
     "metadata": {
      "needs_background": "light"
     },
     "output_type": "display_data"
    }
   ],
   "source": [
    "fig = plt.figure()\n",
    "plt.xlabel(\"Number of neighbors\")\n",
    "plt.ylabel(\"Accuracy\")\n",
    "plt.title('Dependence accuracy from number of neighbors')\n",
    "plt.grid()\n",
    "plt.plot(df['k'], df['euclidean'], color = 'red', label = 'euclidean')\n",
    "plt.plot(df['k'], df['cosine'], color = 'darkorange', label = 'cosine')\n",
    "plt.legend(loc='best')\n",
    "ax=plt.gca()\n",
    "x_major_locator=MultipleLocator(1)\n",
    "ax.xaxis.set_major_locator(x_major_locator)\n",
    "plt.show()\n",
    "matplotlib_inline.backend_inline.set_matplotlib_formats('pdf', 'svg')\n",
    "fig.savefig('exp2.pdf', transparent=True, facecolor = 'white', bbox_inches = 'tight')"
   ]
  },
  {
   "cell_type": "markdown",
   "metadata": {},
   "source": [
    "### Эксперимент №3"
   ]
  },
  {
   "cell_type": "code",
   "execution_count": 96,
   "metadata": {},
   "outputs": [],
   "source": [
    "k_list = np.arange(1,11)\n",
    "res_accuracy = {}\n",
    "cv = kfold(X_train_array.shape[0], 3)\n",
    "\n",
    "for metric in ['euclidean', 'cosine']:\n",
    "    for weight in [True, False]:\n",
    "        kwargs = {'strategy':'brute', 'metric':metric, 'weights':weight}\n",
    "        res = knn_cross_val_score(X_train_array, y_train_array, k_list, score='accuracy', cv=cv, **kwargs)\n",
    "        res_accuracy[metric + ' w=' + str(weight)] = res"
   ]
  },
  {
   "cell_type": "code",
   "execution_count": 97,
   "metadata": {},
   "outputs": [],
   "source": [
    "f = open('experiment3_res.pckl', 'wb')\n",
    "pickle.dump(res_accuracy, f)\n",
    "f.close()"
   ]
  },
  {
   "cell_type": "code",
   "execution_count": 105,
   "metadata": {},
   "outputs": [
    {
     "data": {
      "text/plain": [
       "{'euclidean w=True': {1: 0.9684499999999999,\n",
       "  2: 0.9684499999999999,\n",
       "  3: 0.9699666666666666,\n",
       "  4: 0.9714166666666667,\n",
       "  5: 0.9691833333333334,\n",
       "  6: 0.9700166666666666,\n",
       "  7: 0.9682499999999999,\n",
       "  8: 0.9682,\n",
       "  9: 0.9664166666666668,\n",
       "  10: 0.9663166666666667},\n",
       " 'euclidean w=False': {1: 0.9684499999999999,\n",
       "  2: 0.96145,\n",
       "  3: 0.9688666666666667,\n",
       "  4: 0.9670500000000001,\n",
       "  5: 0.9678333333333334,\n",
       "  6: 0.9664999999999999,\n",
       "  7: 0.9666333333333332,\n",
       "  8: 0.9653666666666666,\n",
       "  9: 0.9648500000000001,\n",
       "  10: 0.9637166666666666},\n",
       " 'cosine w=True': {1: 0.9727333333333333,\n",
       "  2: 0.9727333333333333,\n",
       "  3: 0.9741333333333334,\n",
       "  4: 0.9745833333333334,\n",
       "  5: 0.9732666666666666,\n",
       "  6: 0.9734333333333334,\n",
       "  7: 0.9719333333333333,\n",
       "  8: 0.9719666666666668,\n",
       "  9: 0.9705333333333334,\n",
       "  10: 0.97085},\n",
       " 'cosine w=False': {1: 0.9727333333333333,\n",
       "  2: 0.9693499999999999,\n",
       "  3: 0.9731166666666665,\n",
       "  4: 0.9724333333333334,\n",
       "  5: 0.9724166666666667,\n",
       "  6: 0.97145,\n",
       "  7: 0.9709666666666666,\n",
       "  8: 0.9703833333333334,\n",
       "  9: 0.9693999999999999,\n",
       "  10: 0.9692666666666666}}"
      ]
     },
     "execution_count": 105,
     "metadata": {},
     "output_type": "execute_result"
    }
   ],
   "source": [
    "a = res_accuracy.copy()\n",
    "for key1, value1 in a.items():\n",
    "    for key2, value2 in value1.items():\n",
    "        a[key1][key2] = value2.sum() / 3\n",
    "# f = open('experiment3_df.pckl', 'wb')\n",
    "# pickle.dump(df, f)\n",
    "# f.close()\n",
    "a"
   ]
  },
  {
   "cell_type": "code",
   "execution_count": 109,
   "metadata": {},
   "outputs": [
    {
     "data": {
      "text/html": [
       "<div>\n",
       "<style scoped>\n",
       "    .dataframe tbody tr th:only-of-type {\n",
       "        vertical-align: middle;\n",
       "    }\n",
       "\n",
       "    .dataframe tbody tr th {\n",
       "        vertical-align: top;\n",
       "    }\n",
       "\n",
       "    .dataframe thead th {\n",
       "        text-align: right;\n",
       "    }\n",
       "</style>\n",
       "<table border=\"1\" class=\"dataframe\">\n",
       "  <thead>\n",
       "    <tr style=\"text-align: right;\">\n",
       "      <th></th>\n",
       "      <th>euclidean w=True</th>\n",
       "      <th>euclidean w=False</th>\n",
       "      <th>cosine w=True</th>\n",
       "      <th>cosine w=False</th>\n",
       "      <th>k</th>\n",
       "    </tr>\n",
       "  </thead>\n",
       "  <tbody>\n",
       "    <tr>\n",
       "      <th>1</th>\n",
       "      <td>0.968450</td>\n",
       "      <td>0.968450</td>\n",
       "      <td>0.972733</td>\n",
       "      <td>0.972733</td>\n",
       "      <td>1</td>\n",
       "    </tr>\n",
       "    <tr>\n",
       "      <th>2</th>\n",
       "      <td>0.968450</td>\n",
       "      <td>0.961450</td>\n",
       "      <td>0.972733</td>\n",
       "      <td>0.969350</td>\n",
       "      <td>2</td>\n",
       "    </tr>\n",
       "    <tr>\n",
       "      <th>3</th>\n",
       "      <td>0.969967</td>\n",
       "      <td>0.968867</td>\n",
       "      <td>0.974133</td>\n",
       "      <td>0.973117</td>\n",
       "      <td>3</td>\n",
       "    </tr>\n",
       "    <tr>\n",
       "      <th>4</th>\n",
       "      <td>0.971417</td>\n",
       "      <td>0.967050</td>\n",
       "      <td>0.974583</td>\n",
       "      <td>0.972433</td>\n",
       "      <td>4</td>\n",
       "    </tr>\n",
       "    <tr>\n",
       "      <th>5</th>\n",
       "      <td>0.969183</td>\n",
       "      <td>0.967833</td>\n",
       "      <td>0.973267</td>\n",
       "      <td>0.972417</td>\n",
       "      <td>5</td>\n",
       "    </tr>\n",
       "    <tr>\n",
       "      <th>6</th>\n",
       "      <td>0.970017</td>\n",
       "      <td>0.966500</td>\n",
       "      <td>0.973433</td>\n",
       "      <td>0.971450</td>\n",
       "      <td>6</td>\n",
       "    </tr>\n",
       "    <tr>\n",
       "      <th>7</th>\n",
       "      <td>0.968250</td>\n",
       "      <td>0.966633</td>\n",
       "      <td>0.971933</td>\n",
       "      <td>0.970967</td>\n",
       "      <td>7</td>\n",
       "    </tr>\n",
       "    <tr>\n",
       "      <th>8</th>\n",
       "      <td>0.968200</td>\n",
       "      <td>0.965367</td>\n",
       "      <td>0.971967</td>\n",
       "      <td>0.970383</td>\n",
       "      <td>8</td>\n",
       "    </tr>\n",
       "    <tr>\n",
       "      <th>9</th>\n",
       "      <td>0.966417</td>\n",
       "      <td>0.964850</td>\n",
       "      <td>0.970533</td>\n",
       "      <td>0.969400</td>\n",
       "      <td>9</td>\n",
       "    </tr>\n",
       "    <tr>\n",
       "      <th>10</th>\n",
       "      <td>0.966317</td>\n",
       "      <td>0.963717</td>\n",
       "      <td>0.970850</td>\n",
       "      <td>0.969267</td>\n",
       "      <td>10</td>\n",
       "    </tr>\n",
       "  </tbody>\n",
       "</table>\n",
       "</div>"
      ],
      "text/plain": [
       "    euclidean w=True  euclidean w=False  cosine w=True  cosine w=False   k\n",
       "1           0.968450           0.968450       0.972733        0.972733   1\n",
       "2           0.968450           0.961450       0.972733        0.969350   2\n",
       "3           0.969967           0.968867       0.974133        0.973117   3\n",
       "4           0.971417           0.967050       0.974583        0.972433   4\n",
       "5           0.969183           0.967833       0.973267        0.972417   5\n",
       "6           0.970017           0.966500       0.973433        0.971450   6\n",
       "7           0.968250           0.966633       0.971933        0.970967   7\n",
       "8           0.968200           0.965367       0.971967        0.970383   8\n",
       "9           0.966417           0.964850       0.970533        0.969400   9\n",
       "10          0.966317           0.963717       0.970850        0.969267  10"
      ]
     },
     "execution_count": 109,
     "metadata": {},
     "output_type": "execute_result"
    }
   ],
   "source": [
    "df = pd.DataFrame(a)\n",
    "df['k'] = np.arange(1,11)\n",
    "df"
   ]
  },
  {
   "cell_type": "code",
   "execution_count": 20,
   "metadata": {},
   "outputs": [
    {
     "data": {
      "text/html": [
       "<div>\n",
       "<style scoped>\n",
       "    .dataframe tbody tr th:only-of-type {\n",
       "        vertical-align: middle;\n",
       "    }\n",
       "\n",
       "    .dataframe tbody tr th {\n",
       "        vertical-align: top;\n",
       "    }\n",
       "\n",
       "    .dataframe thead th {\n",
       "        text-align: right;\n",
       "    }\n",
       "</style>\n",
       "<table border=\"1\" class=\"dataframe\">\n",
       "  <thead>\n",
       "    <tr style=\"text-align: right;\">\n",
       "      <th></th>\n",
       "      <th>euclidean w=True</th>\n",
       "      <th>euclidean w=False</th>\n",
       "      <th>cosine w=True</th>\n",
       "      <th>cosine w=False</th>\n",
       "      <th>k</th>\n",
       "    </tr>\n",
       "  </thead>\n",
       "  <tbody>\n",
       "    <tr>\n",
       "      <th>1</th>\n",
       "      <td>0.968450</td>\n",
       "      <td>0.968450</td>\n",
       "      <td>0.972733</td>\n",
       "      <td>0.972733</td>\n",
       "      <td>1</td>\n",
       "    </tr>\n",
       "    <tr>\n",
       "      <th>2</th>\n",
       "      <td>0.968450</td>\n",
       "      <td>0.961450</td>\n",
       "      <td>0.972733</td>\n",
       "      <td>0.969350</td>\n",
       "      <td>2</td>\n",
       "    </tr>\n",
       "    <tr>\n",
       "      <th>3</th>\n",
       "      <td>0.969967</td>\n",
       "      <td>0.968867</td>\n",
       "      <td>0.974133</td>\n",
       "      <td>0.973117</td>\n",
       "      <td>3</td>\n",
       "    </tr>\n",
       "    <tr>\n",
       "      <th>4</th>\n",
       "      <td>0.971417</td>\n",
       "      <td>0.967050</td>\n",
       "      <td>0.974583</td>\n",
       "      <td>0.972433</td>\n",
       "      <td>4</td>\n",
       "    </tr>\n",
       "    <tr>\n",
       "      <th>5</th>\n",
       "      <td>0.969183</td>\n",
       "      <td>0.967833</td>\n",
       "      <td>0.973267</td>\n",
       "      <td>0.972417</td>\n",
       "      <td>5</td>\n",
       "    </tr>\n",
       "    <tr>\n",
       "      <th>6</th>\n",
       "      <td>0.970017</td>\n",
       "      <td>0.966500</td>\n",
       "      <td>0.973433</td>\n",
       "      <td>0.971450</td>\n",
       "      <td>6</td>\n",
       "    </tr>\n",
       "    <tr>\n",
       "      <th>7</th>\n",
       "      <td>0.968250</td>\n",
       "      <td>0.966633</td>\n",
       "      <td>0.971933</td>\n",
       "      <td>0.970967</td>\n",
       "      <td>7</td>\n",
       "    </tr>\n",
       "    <tr>\n",
       "      <th>8</th>\n",
       "      <td>0.968200</td>\n",
       "      <td>0.965367</td>\n",
       "      <td>0.971967</td>\n",
       "      <td>0.970383</td>\n",
       "      <td>8</td>\n",
       "    </tr>\n",
       "    <tr>\n",
       "      <th>9</th>\n",
       "      <td>0.966417</td>\n",
       "      <td>0.964850</td>\n",
       "      <td>0.970533</td>\n",
       "      <td>0.969400</td>\n",
       "      <td>9</td>\n",
       "    </tr>\n",
       "    <tr>\n",
       "      <th>10</th>\n",
       "      <td>0.966317</td>\n",
       "      <td>0.963717</td>\n",
       "      <td>0.970850</td>\n",
       "      <td>0.969267</td>\n",
       "      <td>10</td>\n",
       "    </tr>\n",
       "  </tbody>\n",
       "</table>\n",
       "</div>"
      ],
      "text/plain": [
       "    euclidean w=True  euclidean w=False  cosine w=True  cosine w=False   k\n",
       "1           0.968450           0.968450       0.972733        0.972733   1\n",
       "2           0.968450           0.961450       0.972733        0.969350   2\n",
       "3           0.969967           0.968867       0.974133        0.973117   3\n",
       "4           0.971417           0.967050       0.974583        0.972433   4\n",
       "5           0.969183           0.967833       0.973267        0.972417   5\n",
       "6           0.970017           0.966500       0.973433        0.971450   6\n",
       "7           0.968250           0.966633       0.971933        0.970967   7\n",
       "8           0.968200           0.965367       0.971967        0.970383   8\n",
       "9           0.966417           0.964850       0.970533        0.969400   9\n",
       "10          0.966317           0.963717       0.970850        0.969267  10"
      ]
     },
     "execution_count": 20,
     "metadata": {},
     "output_type": "execute_result"
    }
   ],
   "source": [
    "f = open('experiment3_df.pckl', 'rb')\n",
    "df = pickle.load(f)\n",
    "f.close()\n",
    "df['euclidean w=True'] *= 3\n",
    "df['euclidean w=False'] *= 3\n",
    "df['cosine w=True'] *= 3\n",
    "df['cosine w=False'] *= 3\n",
    "df"
   ]
  },
  {
   "cell_type": "code",
   "execution_count": 21,
   "metadata": {},
   "outputs": [
    {
     "data": {
      "image/png": "[encoded data removed]",
      "text/plain": [
       "<Figure size 432x288 with 1 Axes>"
      ]
     },
     "metadata": {
      "needs_background": "light"
     },
     "output_type": "display_data"
    }
   ],
   "source": [
    "fig = plt.figure()\n",
    "plt.xlabel(\"Number of neighbors\")\n",
    "plt.ylabel(\"Accuracy\")\n",
    "plt.title('Dependence accuracy from number of neighbors')\n",
    "plt.grid()\n",
    "plt.plot(df['k'], df['euclidean w=True'], color = 'green', label = 'euclidean weights')\n",
    "plt.plot(df['k'], df['euclidean w=False'], color = 'red', label = 'euclidean')\n",
    "plt.plot(df['k'], df['cosine w=True'], color = 'blue', label = 'cosine weights')\n",
    "plt.plot(df['k'], df['cosine w=False'], color = 'darkorange', label = 'cosine')\n",
    "plt.legend(loc='best')\n",
    "ax=plt.gca()\n",
    "x_major_locator=MultipleLocator(1)\n",
    "ax.xaxis.set_major_locator(x_major_locator)\n",
    "plt.show()\n",
    "matplotlib_inline.backend_inline.set_matplotlib_formats('pdf', 'svg')\n",
    "fig.savefig('exp3.pdf', transparent=True, facecolor = 'white', bbox_inches = 'tight')"
   ]
  },
  {
   "cell_type": "markdown",
   "metadata": {},
   "source": [
    "### Эксперимент №4"
   ]
  },
  {
   "cell_type": "code",
   "execution_count": 22,
   "metadata": {},
   "outputs": [
    {
     "data": {
      "text/plain": [
       "{'euclidean w=True': {1: array([0.969  , 0.967  , 0.96935]),\n",
       "  2: array([0.969  , 0.967  , 0.96935]),\n",
       "  3: array([0.97185, 0.9683 , 0.96975]),\n",
       "  4: array([0.9728 , 0.9701 , 0.97135]),\n",
       "  5: array([0.97105, 0.96715, 0.96935]),\n",
       "  6: array([0.97105, 0.96825, 0.97075]),\n",
       "  7: array([0.9699 , 0.96595, 0.9689 ]),\n",
       "  8: array([0.96975, 0.9659 , 0.96895]),\n",
       "  9: array([0.96785, 0.9639 , 0.9675 ]),\n",
       "  10: array([0.9678 , 0.96325, 0.9679 ])},\n",
       " 'euclidean w=False': {1: array([0.969  , 0.967  , 0.96935]),\n",
       "  2: array([0.96335, 0.9609 , 0.9601 ]),\n",
       "  3: array([0.9708, 0.9673, 0.9685]),\n",
       "  4: array([0.9683 , 0.96625, 0.9666 ]),\n",
       "  5: array([0.97   , 0.96575, 0.96775]),\n",
       "  6: array([0.96865, 0.9638 , 0.96705]),\n",
       "  7: array([0.96835, 0.9644 , 0.96715]),\n",
       "  8: array([0.9674, 0.9627, 0.966 ]),\n",
       "  9: array([0.9671 , 0.9616 , 0.96585]),\n",
       "  10: array([0.96565, 0.96065, 0.96485])},\n",
       " 'cosine w=True': {1: array([0.9736, 0.9702, 0.9744]),\n",
       "  2: array([0.9736, 0.9702, 0.9744]),\n",
       "  3: array([0.97515, 0.9716 , 0.97565]),\n",
       "  4: array([0.9761 , 0.9721 , 0.97555]),\n",
       "  5: array([0.9737, 0.9713, 0.9748]),\n",
       "  6: array([0.97465, 0.9707 , 0.97495]),\n",
       "  7: array([0.97325, 0.96895, 0.9736 ]),\n",
       "  8: array([0.9735 , 0.96875, 0.97365]),\n",
       "  9: array([0.9723, 0.9675, 0.9718]),\n",
       "  10: array([0.97245, 0.968  , 0.9721 ])},\n",
       " 'cosine w=False': {1: array([0.9736, 0.9702, 0.9744]),\n",
       "  2: array([0.96975, 0.96805, 0.97025]),\n",
       "  3: array([0.9741 , 0.9707 , 0.97455]),\n",
       "  4: array([0.9738, 0.97  , 0.9735]),\n",
       "  5: array([0.97275, 0.97025, 0.97425]),\n",
       "  6: array([0.9725 , 0.96945, 0.9724 ]),\n",
       "  7: array([0.97215, 0.96795, 0.9728 ]),\n",
       "  8: array([0.97155, 0.9679 , 0.9717 ]),\n",
       "  9: array([0.97115, 0.96645, 0.9706 ]),\n",
       "  10: array([0.9705, 0.9669, 0.9704])}}"
      ]
     },
     "execution_count": 22,
     "metadata": {},
     "output_type": "execute_result"
    }
   ],
   "source": [
    "f = open('experiment3_res.pckl', 'rb')\n",
    "res_accuracy = pickle.load(f)\n",
    "f.close()\n",
    "res_accuracy"
   ]
  },
  {
   "cell_type": "code",
   "execution_count": 38,
   "metadata": {},
   "outputs": [],
   "source": [
    "clf = KNNClassifier(k=3, strategy='brute', metric='cosine', weights=True, test_block_size=20)\n",
    "clf.fit(X_train_array, y_train_array)\n",
    "predict4 = clf.predict(X_test_array)"
   ]
  },
  {
   "cell_type": "code",
   "execution_count": 39,
   "metadata": {},
   "outputs": [
    {
     "data": {
      "text/plain": [
       "0.979"
      ]
     },
     "execution_count": 39,
     "metadata": {},
     "output_type": "execute_result"
    }
   ],
   "source": [
    "precision = clf.score(predict4, y_test_array)\n",
    "precision"
   ]
  },
  {
   "cell_type": "code",
   "execution_count": 40,
   "metadata": {},
   "outputs": [
    {
     "name": "stdout",
     "output_type": "stream",
     "text": [
      "accuracy for CV:  {3: array([0.9755    , 0.97558333, 0.97233333, 0.97558333, 0.975     ])}\n"
     ]
    }
   ],
   "source": [
    "res = knn_cross_val_score(X_train_array, y_train_array, [3], score='accuracy', cv=None, **kwargs)\n",
    "print('accuracy for CV: ', res)"
   ]
  },
  {
   "cell_type": "code",
   "execution_count": 6,
   "metadata": {},
   "outputs": [],
   "source": [
    "import seaborn as sns"
   ]
  },
  {
   "cell_type": "code",
   "execution_count": 29,
   "metadata": {},
   "outputs": [
    {
     "data": {
      "image/png": "[encoded data removed]",
      "text/plain": [
       "<Figure size 432x288 with 2 Axes>"
      ]
     },
     "metadata": {
      "needs_background": "light"
     },
     "output_type": "display_data"
    }
   ],
   "source": [
    "cm = sklearn.metrics.confusion_matrix(predict4, y_test_array)\n",
    "fig = plt.figure()\n",
    "ax=plt.subplot()\n",
    "sns.heatmap(cm, annot=True, fmt='g', ax=ax)\n",
    "ax.set_xlabel('Predicted labels')\n",
    "ax.set_ylabel('True labels')\n",
    "ax.set_title('Confusion Matrix')\n",
    "fig.savefig('confusion_matrix.pdf')"
   ]
  },
  {
   "cell_type": "code",
   "execution_count": 27,
   "metadata": {},
   "outputs": [],
   "source": [
    "n = 0\n",
    "i = 0\n",
    "errors = []\n",
    "real = []\n",
    "while n < 6:\n",
    "    if predict4[i] != y_test_array[i]:\n",
    "        errors.append(X_test_array[i])\n",
    "        real.append(y_test_array[i])\n",
    "        n += 1\n",
    "    i += 1"
   ]
  },
  {
   "cell_type": "code",
   "execution_count": 28,
   "metadata": {},
   "outputs": [
    {
     "data": {
      "image/png": "[encoded data removed]",
      "text/plain": [
       "<Figure size 432x288 with 1 Axes>"
      ]
     },
     "metadata": {
      "needs_background": "light"
     },
     "output_type": "display_data"
    },
    {
     "data": {
      "image/png": "[encoded data removed]",
      "text/plain": [
       "<Figure size 432x288 with 1 Axes>"
      ]
     },
     "metadata": {
      "needs_background": "light"
     },
     "output_type": "display_data"
    },
    {
     "data": {
      "image/png": "[encoded data removed]",
      "text/plain": [
       "<Figure size 432x288 with 1 Axes>"
      ]
     },
     "metadata": {
      "needs_background": "light"
     },
     "output_type": "display_data"
    },
    {
     "data": {
      "image/png": "[encoded data removed]",
      "text/plain": [
       "<Figure size 432x288 with 1 Axes>"
      ]
     },
     "metadata": {
      "needs_background": "light"
     },
     "output_type": "display_data"
    },
    {
     "data": {
      "image/png": "[encoded data removed]",
      "text/plain": [
       "<Figure size 432x288 with 1 Axes>"
      ]
     },
     "metadata": {
      "needs_background": "light"
     },
     "output_type": "display_data"
    },
    {
     "data": {
      "image/png": "[encoded data removed]",
      "text/plain": [
       "<Figure size 432x288 with 1 Axes>"
      ]
     },
     "metadata": {
      "needs_background": "light"
     },
     "output_type": "display_data"
    },
    {
     "name": "stdout",
     "output_type": "stream",
     "text": [
      "9.0\n",
      "4.0\n",
      "2.0\n",
      "8.0\n",
      "8.0\n",
      "2.0\n"
     ]
    }
   ],
   "source": [
    "for err in errors:\n",
    "    image = np.array(err, dtype='float')\n",
    "    pixels = image.reshape((28, 28))\n",
    "    plt.axis('off')\n",
    "    plt.imshow(pixels, cmap='gray')\n",
    "    plt.show()\n",
    "for num in real:\n",
    "    print(num)"
   ]
  },
  {
   "cell_type": "markdown",
   "metadata": {},
   "source": [
    "### Эксперимент №5"
   ]
  },
  {
   "cell_type": "code",
   "execution_count": 22,
   "metadata": {},
   "outputs": [],
   "source": [
    "import numpy as np\n",
    "import matplotlib.pyplot as plt\n",
    "import skimage.io\n",
    "import skimage.color\n",
    "import skimage.transform\n",
    "import scipy.ndimage\n",
    "import cv2 as cv\n",
    "import PIL\n",
    "%matplotlib inline"
   ]
  },
  {
   "cell_type": "code",
   "execution_count": 8,
   "metadata": {},
   "outputs": [
    {
     "data": {
      "image/png": "[encoded data removed]",
      "text/plain": [
       "<Figure size 432x288 with 1 Axes>"
      ]
     },
     "metadata": {
      "needs_background": "light"
     },
     "output_type": "display_data"
    },
    {
     "data": {
      "image/png": "[encoded data removed]",
      "text/plain": [
       "<Figure size 432x288 with 1 Axes>"
      ]
     },
     "metadata": {
      "needs_background": "light"
     },
     "output_type": "display_data"
    }
   ],
   "source": [
    "import copy\n",
    "import scipy\n",
    "import cv2 as cv\n",
    "\n",
    "image = X_test_array[2].reshape((28, 28))\n",
    "plt.imshow(image)\n",
    "plt.show()\n",
    "kernel = np.ones((3,3),np.uint8)\n",
    "closing = cv.morphologyEx(image, cv.MORPH_CLOSE, kernel)\n",
    "plt.imshow(closing)\n",
    "plt.show()"
   ]
  },
  {
   "cell_type": "code",
   "execution_count": null,
   "metadata": {},
   "outputs": [],
   "source": [
    "dig = X_test_array[0].reshape((28, 28))\n",
    "plt.imshow(dig)\n",
    "plt.show()\n",
    "rotated_image = skimage.transform.rotate(dig, -30) \n",
    "plt.imshow(rotated_image)\n",
    "plt.show()\n",
    "# pixels = image.reshape((28, 28))"
   ]
  },
  {
   "cell_type": "code",
   "execution_count": 84,
   "metadata": {},
   "outputs": [
    {
     "data": {
      "text/plain": [
       "array([[0., 0., 0., 0.],\n",
       "       [0., 0., 0., 0.]])"
      ]
     },
     "execution_count": 84,
     "metadata": {},
     "output_type": "execute_result"
    }
   ],
   "source": [
    "# x = copy.deepcopy(X_train_array[0])\n",
    "\n",
    "# x = np.reshape(x, (28,28))\n",
    "# x = np.reshape(x, (784))\n",
    "# x.shape\n",
    "a = np.zeros([2, 4])\n",
    "for elem in a:\n",
    "    b = np.reshape(elem, (4, 1))\n",
    "    b = [1, 1, 1, 1]\n",
    "    elem = np.reshape(b, (4))\n",
    "a"
   ]
  },
  {
   "cell_type": "code",
   "execution_count": 88,
   "metadata": {},
   "outputs": [],
   "source": [
    "augmentation = copy.deepcopy(X_train_array)\n",
    "for i in range(augmentation.shape[0]):\n",
    "   image = np.reshape(augmentation[i], (28, 28))\n",
    "   rotated_image = skimage.transform.rotate(image, 5)\n",
    "   augmentation[i] = np.reshape(rotated_image, (784))"
   ]
  },
  {
   "cell_type": "code",
   "execution_count": 110,
   "metadata": {},
   "outputs": [
    {
     "data": {
      "text/plain": [
       "(120000, 784)"
      ]
     },
     "execution_count": 110,
     "metadata": {},
     "output_type": "execute_result"
    }
   ],
   "source": [
    "union = np.vstack([X_train_array, augmentation])\n",
    "union.shape"
   ]
  },
  {
   "cell_type": "code",
   "execution_count": 122,
   "metadata": {},
   "outputs": [
    {
     "data": {
      "text/plain": [
       "(120000,)"
      ]
     },
     "execution_count": 122,
     "metadata": {},
     "output_type": "execute_result"
    }
   ],
   "source": [
    "rotate_accuracy = {}\n",
    "union_target = np.hstack([y_train_array, y_train_array])\n",
    "union_target.shape"
   ]
  },
  {
   "cell_type": "code",
   "execution_count": 123,
   "metadata": {},
   "outputs": [],
   "source": [
    "k_list = [3]\n",
    "kwargs = {'strategy':'brute', 'metric':'cosine', 'weights':True}\n",
    "cv = kfold(union.shape[0], 3)\n",
    "res = knn_cross_val_score(union, union_target, k_list, score='accuracy', cv=cv, **kwargs)\n",
    "rotate_accuracy['5 degree'] = res"
   ]
  },
  {
   "cell_type": "code",
   "execution_count": 129,
   "metadata": {},
   "outputs": [
    {
     "data": {
      "text/plain": [
       "{'5 degree': {3: array([0.997975, 0.99775 , 0.9968  ])}}"
      ]
     },
     "execution_count": 129,
     "metadata": {},
     "output_type": "execute_result"
    }
   ],
   "source": [
    "rotate_accuracy"
   ]
  },
  {
   "cell_type": "code",
   "execution_count": null,
   "metadata": {},
   "outputs": [],
   "source": [
    "augmentation = copy.deepcopy(X_train_array)\n",
    "for i in range(augmentation.shape[0]):\n",
    "   image = np.reshape(augmentation[i], (28, 28))\n",
    "   rotated_image = skimage.transform.rotate(image, -5)\n",
    "   augmentation[i] = np.reshape(rotated_image, (784)) \n",
    "\n",
    "union = np.vstack([X_train_array, augmentation])\n",
    "union_target = np.hstack([y_train_array, y_train_array])"
   ]
  },
  {
   "cell_type": "code",
   "execution_count": null,
   "metadata": {},
   "outputs": [],
   "source": []
  },
  {
   "cell_type": "code",
   "execution_count": null,
   "metadata": {},
   "outputs": [],
   "source": [
    "k_list = [3]\n",
    "kwargs = {'strategy':'brute', 'metric':'cosine', 'weights':True}\n",
    "cv = kfold(union.shape[0], 3)\n",
    "res = knn_cross_val_score(union, union_target, k_list, score='accuracy', cv=cv, **kwargs)\n",
    "rotate_accuracy['-5 degree'] = res"
   ]
  },
  {
   "cell_type": "code",
   "execution_count": 116,
   "metadata": {},
   "outputs": [
    {
     "data": {
      "text/plain": [
       "(120000,)"
      ]
     },
     "execution_count": 116,
     "metadata": {},
     "output_type": "execute_result"
    }
   ],
   "source": [
    "k_list = [3]\n",
    "for i "
   ]
  },
  {
   "cell_type": "code",
   "execution_count": 11,
   "metadata": {},
   "outputs": [],
   "source": [
    "import scipy as sp"
   ]
  },
  {
   "cell_type": "code",
   "execution_count": 10,
   "metadata": {},
   "outputs": [],
   "source": [
    "shift_accuracy = {}\n",
    "k_list = [3]"
   ]
  },
  {
   "cell_type": "code",
   "execution_count": 12,
   "metadata": {},
   "outputs": [
    {
     "data": {
      "text/plain": [
       "{'shift 2 right': {3: array([0.96755, 0.9762 , 0.9676 ])}}"
      ]
     },
     "execution_count": 12,
     "metadata": {},
     "output_type": "execute_result"
    }
   ],
   "source": [
    "augmentation = copy.deepcopy(X_train_array)\n",
    "for i in range(augmentation.shape[0]):\n",
    "    image = np.reshape(augmentation[i], (28, 28))\n",
    "    shifted_image = sp.ndimage.shift(image, [2, 0])\n",
    "    augmentation[i] = np.reshape(shifted_image, (784)) \n",
    "\n",
    "union = np.vstack([X_train_array, augmentation])\n",
    "union_target = np.hstack([y_train_array, y_train_array])\n",
    "\n",
    "kwargs = {'strategy':'brute', 'metric':'cosine', 'weights':True}\n",
    "cv = kfold(union.shape[0], 3)\n",
    "res = knn_cross_val_score(union, union_target, k_list, score='accuracy', cv=cv, **kwargs)\n",
    "shift_accuracy['shift 2 right'] = res\n",
    "shift_accuracy"
   ]
  },
  {
   "cell_type": "code",
   "execution_count": 13,
   "metadata": {},
   "outputs": [
    {
     "data": {
      "text/plain": [
       "{'shift 2 right': {3: array([0.96755, 0.9762 , 0.9676 ])},\n",
       " 'shift 1 up': {3: array([0.982075, 0.983625, 0.981475])}}"
      ]
     },
     "execution_count": 13,
     "metadata": {},
     "output_type": "execute_result"
    }
   ],
   "source": [
    "augmentation = copy.deepcopy(X_train_array)\n",
    "for i in range(augmentation.shape[0]):\n",
    "    image = np.reshape(augmentation[i], (28, 28))\n",
    "    shifted_image = sp.ndimage.shift(image, [0, 1])\n",
    "    augmentation[i] = np.reshape(shifted_image, (784)) \n",
    "\n",
    "union = np.vstack([X_train_array, augmentation])\n",
    "union_target = np.hstack([y_train_array, y_train_array])\n",
    "\n",
    "kwargs = {'strategy':'brute', 'metric':'cosine', 'weights':True}\n",
    "cv = kfold(union.shape[0], 3)\n",
    "res = knn_cross_val_score(union, union_target, k_list, score='accuracy', cv=cv, **kwargs)\n",
    "shift_accuracy['shift 1 up'] = res\n",
    "shift_accuracy"
   ]
  },
  {
   "cell_type": "code",
   "execution_count": 14,
   "metadata": {},
   "outputs": [
    {
     "data": {
      "text/plain": [
       "{'shift 2 right': {3: array([0.96755, 0.9762 , 0.9676 ])},\n",
       " 'shift 1 up': {3: array([0.982075, 0.983625, 0.981475])},\n",
       " 'shift 3 up': {3: array([0.96615 , 0.975425, 0.9674  ])}}"
      ]
     },
     "execution_count": 14,
     "metadata": {},
     "output_type": "execute_result"
    }
   ],
   "source": [
    "augmentation = copy.deepcopy(X_train_array)\n",
    "for i in range(augmentation.shape[0]):\n",
    "    image = np.reshape(augmentation[i], (28, 28))\n",
    "    shifted_image = sp.ndimage.shift(image, [0, 3])\n",
    "    augmentation[i] = np.reshape(shifted_image, (784)) \n",
    "\n",
    "union = np.vstack([X_train_array, augmentation])\n",
    "union_target = np.hstack([y_train_array, y_train_array])\n",
    "\n",
    "kwargs = {'strategy':'brute', 'metric':'cosine', 'weights':True}\n",
    "cv = kfold(union.shape[0], 3)\n",
    "res = knn_cross_val_score(union, union_target, k_list, score='accuracy', cv=cv, **kwargs)\n",
    "shift_accuracy['shift 3 up'] = res\n",
    "shift_accuracy"
   ]
  },
  {
   "cell_type": "code",
   "execution_count": 15,
   "metadata": {},
   "outputs": [],
   "source": [
    "gausse_accuracy = {}"
   ]
  },
  {
   "cell_type": "code",
   "execution_count": 17,
   "metadata": {},
   "outputs": [
    {
     "data": {
      "text/plain": [
       "{'dispersion = 1': {3: array([0.9998  , 0.998175, 0.99655 ])}}"
      ]
     },
     "execution_count": 17,
     "metadata": {},
     "output_type": "execute_result"
    }
   ],
   "source": [
    "augmentation = copy.deepcopy(X_train_array)\n",
    "for i in range(augmentation.shape[0]):\n",
    "    image = np.reshape(augmentation[i], (28, 28))\n",
    "    gausse_image = cv.GaussianBlur(image, (3, 3), 1)\n",
    "    augmentation[i] = np.reshape(gausse_image, (784)) \n",
    "\n",
    "union = np.vstack([X_train_array, augmentation])\n",
    "union_target = np.hstack([y_train_array, y_train_array])\n",
    "\n",
    "k_list = [3]\n",
    "kwargs = {'strategy':'brute', 'metric':'cosine', 'weights':True}\n",
    "cv_arg = kfold(union.shape[0], 3)\n",
    "res = knn_cross_val_score(union, union_target, k_list, score='accuracy', cv=cv_arg, **kwargs)\n",
    "gausse_accuracy['dispersion = 1'] = res\n",
    "gausse_accuracy"
   ]
  },
  {
   "cell_type": "code",
   "execution_count": 33,
   "metadata": {},
   "outputs": [],
   "source": [
    "gausse_accuracy = {}"
   ]
  },
  {
   "cell_type": "code",
   "execution_count": 34,
   "metadata": {},
   "outputs": [],
   "source": [
    "def cross_validation(X, y, k_neib, disp, score='accuracy', cv_arg=None, **kwargs):\n",
    "    res = []\n",
    "    if cv_arg is None:\n",
    "        cv_arg = kfold(len(X), n_folds = 3)\n",
    "    clf = KNNClassifier(k=k_neib, **kwargs)\n",
    "    for train, test in cv_arg:\n",
    "        X_train, X_valid, y_train, y_valid = X[train], X[test], y[train], y[test]\n",
    "        augmentation = copy.deepcopy(X_train)\n",
    "        for i in range(augmentation.shape[0]):\n",
    "            image = np.reshape(augmentation[i], (28, 28))\n",
    "            gausse_image = cv.GaussianBlur(image, (3, 3), disp)\n",
    "            augmentation[i] = np.reshape(gausse_image, (784)) \n",
    "        X_train = np.vstack([X_train, augmentation])\n",
    "        y_train = np.hstack([y_train, y_train])\n",
    "        clf.fit(np.array(X_train), np.array(y_train))\n",
    "        dc, d_index = clf.find_kneighbors(X_valid)\n",
    "        votes = clf.voting(dc[:, :k_neib], d_index[:, :k_neib], X_valid.shape[0], k_neib)\n",
    "        predicted = np.argmax(votes, axis=1)\n",
    "        if score == 'accuracy':\n",
    "            res.append(accuracy(predicted, y_valid))\n",
    "    return res"
   ]
  },
  {
   "cell_type": "code",
   "execution_count": 35,
   "metadata": {},
   "outputs": [
    {
     "name": "stdout",
     "output_type": "stream",
     "text": [
      "{'dispersion = 0.5': [0.9767, 0.9729, 0.9776]}\n",
      "{'dispersion = 0.5': [0.9767, 0.9729, 0.9776], 'dispersion = 1': [0.97995, 0.9772, 0.98035]}\n",
      "{'dispersion = 0.5': [0.9767, 0.9729, 0.9776], 'dispersion = 1': [0.97995, 0.9772, 0.98035], 'dispersion = 1.5': [0.9808, 0.9773, 0.9803]}\n"
     ]
    }
   ],
   "source": [
    "kwargs = {'strategy':'brute', 'metric':'cosine', 'weights':True}\n",
    "res = cross_validation(X_train_array, y_train_array, k_neib=3, disp=0.5, score='accuracy', **kwargs)\n",
    "gausse_accuracy['dispersion = 0.5'] = res\n",
    "print(gausse_accuracy)\n",
    "res = cross_validation(X_train_array, y_train_array, k_neib=3, disp=1, score='accuracy', **kwargs)\n",
    "gausse_accuracy['dispersion = 1'] = res\n",
    "print(gausse_accuracy)\n",
    "res = cross_validation(X_train_array, y_train_array, k_neib=3, disp=1.5, score='accuracy', **kwargs)\n",
    "gausse_accuracy['dispersion = 1.5'] = res\n",
    "print(gausse_accuracy)"
   ]
  },
  {
   "cell_type": "code",
   "execution_count": null,
   "metadata": {},
   "outputs": [],
   "source": []
  },
  {
   "cell_type": "code",
   "execution_count": 83,
   "metadata": {},
   "outputs": [],
   "source": [
    "augmentation = copy.deepcopy(X_train_array)\n",
    "for i in range(augmentation.shape[0]):\n",
    "    image = np.reshape(augmentation[i], (28, 28))\n",
    "    rotated_image = skimage.transform.rotate(image, 10)\n",
    "    augmentation[i] = np.reshape(rotated_image, (784))\n",
    "\n",
    "X_train = np.vstack([X_train_array, augmentation])\n",
    "y_train = np.hstack([y_train_array, y_train_array])\n",
    "\n",
    "clf = KNNClassifier(k=3, strategy='brute', metric='cosine', weights=True, test_block_size=20)\n",
    "clf.fit(X_train, y_train)\n",
    "pred5 = clf.predict(X_test_array)"
   ]
  },
  {
   "cell_type": "code",
   "execution_count": 84,
   "metadata": {},
   "outputs": [
    {
     "data": {
      "image/png": "[encoded data removed]",
      "text/plain": [
       "<Figure size 432x288 with 2 Axes>"
      ]
     },
     "metadata": {
      "needs_background": "light"
     },
     "output_type": "display_data"
    }
   ],
   "source": [
    "cm = sklearn.metrics.confusion_matrix(pred5, y_test_array)\n",
    "fig = plt.figure()\n",
    "ax=plt.subplot()\n",
    "sns.heatmap(cm, annot=True, fmt='g', ax=ax)\n",
    "ax.set_xlabel('Predicted labels')\n",
    "ax.set_ylabel('True labels')\n",
    "ax.set_title('Confusion Matrix')\n",
    "fig.savefig('confusion_matrix5-1.pdf')"
   ]
  },
  {
   "cell_type": "code",
   "execution_count": 85,
   "metadata": {},
   "outputs": [
    {
     "data": {
      "image/png": "[encoded data removed]",
      "text/plain": [
       "<Figure size 432x288 with 2 Axes>"
      ]
     },
     "metadata": {
      "needs_background": "light"
     },
     "output_type": "display_data"
    }
   ],
   "source": [
    "augmentation = copy.deepcopy(X_train_array)\n",
    "for i in range(augmentation.shape[0]):\n",
    "    image = np.reshape(augmentation[i], (28, 28))\n",
    "    gausse_image = cv.GaussianBlur(image, (3, 3), 1.5)\n",
    "    augmentation[i] = np.reshape(gausse_image, (784)) \n",
    "\n",
    "X_train = np.vstack([X_train_array, augmentation])\n",
    "y_train = np.hstack([y_train_array, y_train_array])\n",
    "\n",
    "clf = KNNClassifier(k=3, strategy='brute', metric='cosine', weights=True, test_block_size=20)\n",
    "clf.fit(X_train, y_train)\n",
    "pred52 = clf.predict(X_test_array)\n",
    "cm = sklearn.metrics.confusion_matrix(pred52, y_test_array)\n",
    "fig = plt.figure()\n",
    "ax=plt.subplot()\n",
    "sns.heatmap(cm, annot=True, fmt='g', ax=ax)\n",
    "ax.set_xlabel('Predicted labels')\n",
    "ax.set_ylabel('True labels')\n",
    "ax.set_title('Confusion Matrix')\n",
    "fig.savefig('confusion_matrix5-2.pdf')"
   ]
  },
  {
   "cell_type": "code",
   "execution_count": 87,
   "metadata": {},
   "outputs": [
    {
     "data": {
      "image/png": "[encoded data removed]",
      "text/plain": [
       "<Figure size 432x288 with 2 Axes>"
      ]
     },
     "metadata": {
      "needs_background": "light"
     },
     "output_type": "display_data"
    }
   ],
   "source": [
    "augmentation = copy.deepcopy(X_train_array)\n",
    "for i in range(augmentation.shape[0]):\n",
    "    image = np.reshape(augmentation[i], (28, 28))\n",
    "    kernel = np.ones((3,3),np.uint8)\n",
    "    opening = cv.morphologyEx(image, cv.MORPH_OPEN, kernel)\n",
    "    augmentation[i] = np.reshape(opening, (784)) \n",
    "\n",
    "X_train = np.vstack([X_train_array, augmentation])\n",
    "y_train = np.hstack([y_train_array, y_train_array])\n",
    "\n",
    "clf = KNNClassifier(k=3, strategy='brute', metric='cosine', weights=True, test_block_size=20)\n",
    "clf.fit(X_train, y_train)\n",
    "pred53 = clf.predict(X_test_array)\n",
    "cm = sklearn.metrics.confusion_matrix(pred53, y_test_array)\n",
    "fig = plt.figure()\n",
    "ax=plt.subplot()\n",
    "sns.heatmap(cm, annot=True, fmt='g', ax=ax)\n",
    "ax.set_xlabel('Predicted labels')\n",
    "ax.set_ylabel('True labels')\n",
    "ax.set_title('Confusion Matrix')\n",
    "fig.savefig('confusion_matrix5-3.pdf')"
   ]
  },
  {
   "cell_type": "code",
   "execution_count": 86,
   "metadata": {},
   "outputs": [
    {
     "name": "stdout",
     "output_type": "stream",
     "text": [
      "0.983\n"
     ]
    }
   ],
   "source": [
    "print(accuracy(pred52, y_test_array))"
   ]
  },
  {
   "cell_type": "markdown",
   "metadata": {},
   "source": [
    "### Эксперимент 6"
   ]
  },
  {
   "cell_type": "code",
   "execution_count": 42,
   "metadata": {},
   "outputs": [],
   "source": [
    "big_struct = [X_test_array]"
   ]
  },
  {
   "cell_type": "code",
   "execution_count": 43,
   "metadata": {},
   "outputs": [],
   "source": [
    "augmentation = copy.deepcopy(X_test_array)\n",
    "for i in range(augmentation.shape[0]):\n",
    "    image = np.reshape(augmentation[i], (28, 28))\n",
    "    kernel = np.ones((3,3),np.uint8)\n",
    "    closing = cv.morphologyEx(image, cv.MORPH_CLOSE, kernel)\n",
    "    augmentation[i] = np.reshape(closing, (784))\n",
    "big_struct.append(augmentation)\n",
    "\n",
    "augmentation = copy.deepcopy(X_test_array)\n",
    "for i in range(augmentation.shape[0]):\n",
    "    image = np.reshape(augmentation[i], (28, 28))\n",
    "    kernel = np.ones((3,3),np.uint8)\n",
    "    opening = cv.morphologyEx(image, cv.MORPH_OPEN, kernel)\n",
    "    augmentation[i] = np.reshape(opening, (784))\n",
    "big_struct.append(augmentation)\n",
    "\n",
    "augmentation = copy.deepcopy(X_test_array)\n",
    "for i in range(augmentation.shape[0]):\n",
    "    image = np.reshape(augmentation[i], (28, 28))\n",
    "    kernel = np.ones((2,2),np.uint8)\n",
    "    erosion = cv.erode(image,kernel,iterations = 1)\n",
    "    augmentation[i] = np.reshape(erosion, (784))\n",
    "big_struct.append(augmentation)\n",
    "\n",
    "augmentation = copy.deepcopy(X_test_array)\n",
    "for i in range(augmentation.shape[0]):\n",
    "    image = np.reshape(augmentation[i], (28, 28))\n",
    "    kernel = np.ones((3,3),np.uint8)\n",
    "    dilation = cv.dilate(image,kernel,iterations = 1)\n",
    "    augmentation[i] = np.reshape(dilation, (784))\n",
    "big_struct.append(augmentation)\n",
    "\n",
    "augmentation = copy.deepcopy(X_test_array)\n",
    "for i in range(augmentation.shape[0]):\n",
    "    image = np.reshape(augmentation[i], (28, 28))\n",
    "    shifted_image = sp.ndimage.shift(image, [1, 0])\n",
    "    augmentation[i] = np.reshape(shifted_image, (784))\n",
    "big_struct.append(augmentation)\n",
    "\n",
    "augmentation = copy.deepcopy(X_test_array)\n",
    "for i in range(augmentation.shape[0]):\n",
    "    image = np.reshape(augmentation[i], (28, 28))\n",
    "    shifted_image = sp.ndimage.shift(image, [2, 0])\n",
    "    augmentation[i] = np.reshape(shifted_image, (784))\n",
    "big_struct.append(augmentation)\n",
    "\n",
    "augmentation = copy.deepcopy(X_test_array)\n",
    "for i in range(augmentation.shape[0]):\n",
    "    image = np.reshape(augmentation[i], (28, 28))\n",
    "    shifted_image = sp.ndimage.shift(image, [3, 0])\n",
    "    augmentation[i] = np.reshape(shifted_image, (784))\n",
    "big_struct.append(augmentation)\n",
    "\n",
    "augmentation = copy.deepcopy(X_test_array)\n",
    "for i in range(augmentation.shape[0]):\n",
    "    image = np.reshape(augmentation[i], (28, 28))\n",
    "    shifted_image = sp.ndimage.shift(image, [0, 1])\n",
    "    augmentation[i] = np.reshape(shifted_image, (784))\n",
    "big_struct.append(augmentation)\n",
    "\n",
    "augmentation = copy.deepcopy(X_test_array)\n",
    "for i in range(augmentation.shape[0]):\n",
    "    image = np.reshape(augmentation[i], (28, 28))\n",
    "    shifted_image = sp.ndimage.shift(image, [0, 2])\n",
    "    augmentation[i] = np.reshape(shifted_image, (784))\n",
    "big_struct.append(augmentation)\n",
    "\n",
    "augmentation = copy.deepcopy(X_test_array)\n",
    "for i in range(augmentation.shape[0]):\n",
    "    image = np.reshape(augmentation[i], (28, 28))\n",
    "    shifted_image = sp.ndimage.shift(image, [0, 3])\n",
    "    augmentation[i] = np.reshape(shifted_image, (784))\n",
    "big_struct.append(augmentation)\n",
    "\n",
    "augmentation = copy.deepcopy(X_test_array)\n",
    "for i in range(augmentation.shape[0]):\n",
    "    image = np.reshape(augmentation[i], (28, 28))\n",
    "    rotated_image = skimage.transform.rotate(image, 5)\n",
    "    augmentation[i] = np.reshape(rotated_image, (784))\n",
    "big_struct.append(augmentation)\n",
    "\n",
    "augmentation = copy.deepcopy(X_test_array)\n",
    "for i in range(augmentation.shape[0]):\n",
    "    image = np.reshape(augmentation[i], (28, 28))\n",
    "    rotated_image = skimage.transform.rotate(image, -5)\n",
    "    augmentation[i] = np.reshape(rotated_image, (784))\n",
    "big_struct.append(augmentation)\n",
    "\n",
    "augmentation = copy.deepcopy(X_test_array)\n",
    "for i in range(augmentation.shape[0]):\n",
    "    image = np.reshape(augmentation[i], (28, 28))\n",
    "    rotated_image = skimage.transform.rotate(image, 10)\n",
    "    augmentation[i] = np.reshape(rotated_image, (784))\n",
    "big_struct.append(augmentation)\n",
    "\n",
    "augmentation = copy.deepcopy(X_test_array)\n",
    "for i in range(augmentation.shape[0]):\n",
    "    image = np.reshape(augmentation[i], (28, 28))\n",
    "    rotated_image = skimage.transform.rotate(image, -10)\n",
    "    augmentation[i] = np.reshape(rotated_image, (784))\n",
    "big_struct.append(augmentation)\n",
    "\n",
    "augmentation = copy.deepcopy(X_test_array)\n",
    "for i in range(augmentation.shape[0]):\n",
    "    image = np.reshape(augmentation[i], (28, 28))\n",
    "    rotated_image = skimage.transform.rotate(image, 15)\n",
    "    augmentation[i] = np.reshape(rotated_image, (784))\n",
    "big_struct.append(augmentation)\n",
    "\n",
    "augmentation = copy.deepcopy(X_test_array)\n",
    "for i in range(augmentation.shape[0]):\n",
    "    image = np.reshape(augmentation[i], (28, 28))\n",
    "    rotated_image = skimage.transform.rotate(image, -15)\n",
    "    augmentation[i] = np.reshape(rotated_image, (784))\n",
    "big_struct.append(augmentation)\n",
    "\n",
    "augmentation = copy.deepcopy(X_test_array)\n",
    "for i in range(augmentation.shape[0]):\n",
    "    image = np.reshape(augmentation[i], (28, 28))\n",
    "    gausse_image = cv.GaussianBlur(image, (3, 3), 0.5)\n",
    "    augmentation[i] = np.reshape(gausse_image, (784)) \n",
    "big_struct.append(augmentation)\n",
    "\n",
    "augmentation = copy.deepcopy(X_test_array)\n",
    "for i in range(augmentation.shape[0]):\n",
    "    image = np.reshape(augmentation[i], (28, 28))\n",
    "    gausse_image = cv.GaussianBlur(image, (3, 3), 1)\n",
    "    augmentation[i] = np.reshape(gausse_image, (784)) \n",
    "big_struct.append(augmentation)\n",
    "\n",
    "augmentation = copy.deepcopy(X_test_array)\n",
    "for i in range(augmentation.shape[0]):\n",
    "    image = np.reshape(augmentation[i], (28, 28))\n",
    "    gausse_image = cv.GaussianBlur(image, (3, 3), 1.5)\n",
    "    augmentation[i] = np.reshape(gausse_image, (784)) \n",
    "big_struct.append(augmentation)"
   ]
  },
  {
   "cell_type": "code",
   "execution_count": 70,
   "metadata": {},
   "outputs": [],
   "source": [
    "big_struct = np.array(big_struct)"
   ]
  },
  {
   "cell_type": "code",
   "execution_count": 72,
   "metadata": {},
   "outputs": [
    {
     "data": {
      "text/plain": [
       "(20, 10000, 784)"
      ]
     },
     "execution_count": 72,
     "metadata": {},
     "output_type": "execute_result"
    }
   ],
   "source": [
    "big_struct.shape"
   ]
  },
  {
   "cell_type": "code",
   "execution_count": 74,
   "metadata": {},
   "outputs": [],
   "source": [
    "big_predict = []\n",
    "clf = KNNClassifier(k=3, strategy='brute', metric='cosine', weights=True, test_block_size=20)\n",
    "clf.fit(X_train_array, y_train_array)\n",
    "\n",
    "for i in range(20):\n",
    "    big_predict.append(clf.predict(big_struct[i]))"
   ]
  },
  {
   "cell_type": "code",
   "execution_count": 90,
   "metadata": {},
   "outputs": [],
   "source": [
    "np.savetxt('C:\\Jupyter\\prak_mmp\\Experience\\predict6.txt', big_predict)"
   ]
  },
  {
   "cell_type": "code",
   "execution_count": 78,
   "metadata": {},
   "outputs": [
    {
     "data": {
      "text/plain": [
       "array([[0, 0, 0, ..., 0, 0, 0],\n",
       "       [4, 4, 4, ..., 4, 4, 4],\n",
       "       [3, 3, 3, ..., 3, 3, 3],\n",
       "       ...,\n",
       "       [7, 7, 7, ..., 7, 7, 7],\n",
       "       [8, 8, 1, ..., 8, 8, 8],\n",
       "       [0, 0, 0, ..., 0, 0, 0]])"
      ]
     },
     "execution_count": 78,
     "metadata": {},
     "output_type": "execute_result"
    }
   ],
   "source": [
    "big_predict = np.array(big_predict)\n",
    "big_predict = big_predict.astype(int)\n",
    "big_predict.T"
   ]
  },
  {
   "cell_type": "code",
   "execution_count": 81,
   "metadata": {},
   "outputs": [
    {
     "name": "stdout",
     "output_type": "stream",
     "text": [
      "0.9801\n"
     ]
    }
   ],
   "source": [
    "pred = []\n",
    "for elem in big_predict.T:\n",
    "    pred.append(np.argmax(np.bincount(elem)))\n",
    "print(accuracy(pred, y_test_array))"
   ]
  },
  {
   "cell_type": "code",
   "execution_count": null,
   "metadata": {},
   "outputs": [],
   "source": [
    "res_predict = np.array([])\n",
    "big_predict = big_predict.T\n",
    "for i in range(len(big_predict[0])):\n",
    "    res_predict.append(most_frequent(list(big_predict[i])))"
   ]
  },
  {
   "cell_type": "code",
   "execution_count": 66,
   "metadata": {},
   "outputs": [],
   "source": [
    "def most_frequent(List):\n",
    "    return max(set(List), key = List.count)"
   ]
  },
  {
   "cell_type": "code",
   "execution_count": 58,
   "metadata": {},
   "outputs": [
    {
     "name": "stdout",
     "output_type": "stream",
     "text": [
      "[1 2 3 1 2 1 1 1 3 2 2 1]\n",
      "1\n"
     ]
    }
   ],
   "source": [
    "a = np.array([1,2,3,1,2,1,1,1,3,2,2,1])\n",
    "print(a)\n",
    "counts = np.bincount(a)\n",
    "print(np.argmax(counts))"
   ]
  },
  {
   "cell_type": "code",
   "execution_count": 91,
   "metadata": {},
   "outputs": [],
   "source": [
    "predict6 = np.loadtxt('C:\\Jupyter\\prak_mmp\\Experience\\predict6.txt')"
   ]
  },
  {
   "cell_type": "code",
   "execution_count": 96,
   "metadata": {},
   "outputs": [
    {
     "name": "stdout",
     "output_type": "stream",
     "text": [
      "1 )  0.979\n",
      "2 )  0.9685\n",
      "3 )  0.8879\n",
      "4 )  0.9475\n",
      "5 )  0.9037\n",
      "6 )  0.9579\n",
      "7 )  0.836\n",
      "8 )  0.5523\n",
      "9 )  0.9522\n",
      "10 )  0.7859\n",
      "11 )  0.5947\n",
      "12 )  0.9769\n",
      "13 )  0.9749\n",
      "14 )  0.9666\n",
      "15 )  0.9679\n",
      "16 )  0.9441\n",
      "17 )  0.948\n",
      "18 )  0.9775\n",
      "19 )  0.9739\n",
      "20 )  0.9734\n"
     ]
    }
   ],
   "source": [
    "for i in range(20):\n",
    "    print(i+1,') ', accuracy(predict6[i], y_test_array))"
   ]
  },
  {
   "cell_type": "code",
   "execution_count": 97,
   "metadata": {},
   "outputs": [
    {
     "data": {
      "image/png": "[encoded data removed]",
      "text/plain": [
       "<Figure size 432x288 with 2 Axes>"
      ]
     },
     "metadata": {
      "needs_background": "light"
     },
     "output_type": "display_data"
    }
   ],
   "source": [
    "cm = sklearn.metrics.confusion_matrix(predict6[8], y_test_array)\n",
    "fig = plt.figure()\n",
    "ax=plt.subplot()\n",
    "sns.heatmap(cm, annot=True, fmt='g', ax=ax)\n",
    "ax.set_xlabel('Predicted labels')\n",
    "ax.set_ylabel('True labels')\n",
    "ax.set_title('Confusion Matrix')\n",
    "fig.savefig('confusion_matrix6-8.pdf')"
   ]
  },
  {
   "cell_type": "code",
   "execution_count": 99,
   "metadata": {},
   "outputs": [
    {
     "data": {
      "image/png": "[encoded data removed]",
      "text/plain": [
       "<Figure size 432x288 with 2 Axes>"
      ]
     },
     "metadata": {
      "needs_background": "light"
     },
     "output_type": "display_data"
    }
   ],
   "source": [
    "cm = sklearn.metrics.confusion_matrix(pred, y_test_array)\n",
    "fig = plt.figure()\n",
    "ax=plt.subplot()\n",
    "sns.heatmap(cm, annot=True, fmt='g', ax=ax)\n",
    "ax.set_xlabel('Predicted labels')\n",
    "ax.set_ylabel('True labels')\n",
    "ax.set_title('Confusion Matrix')\n",
    "fig.savefig('confusion_matrix6-m.pdf')"
   ]
  },
  {
   "cell_type": "code",
   "execution_count": null,
   "metadata": {},
   "outputs": [],
   "source": []
  }
 ],
 "metadata": {
  "kernelspec": {
   "display_name": "Python 3.9.12 ('base')",
   "language": "python",
   "name": "python3"
  },
  "language_info": {
   "codemirror_mode": {
    "name": "ipython",
    "version": 3
   },
   "file_extension": ".py",
   "mimetype": "text/x-python",
   "name": "python",
   "nbconvert_exporter": "python",
   "pygments_lexer": "ipython3",
   "version": "3.9.12"
  },
  "orig_nbformat": 4,
  "vscode": {
   "interpreter": {
    "hash": "f4deff3781c9ee26f62b5d21b99b7e6b230d70496d6f614ca56f7532807e203e"
   }
  }
 },
 "nbformat": 4,
 "nbformat_minor": 2
}
